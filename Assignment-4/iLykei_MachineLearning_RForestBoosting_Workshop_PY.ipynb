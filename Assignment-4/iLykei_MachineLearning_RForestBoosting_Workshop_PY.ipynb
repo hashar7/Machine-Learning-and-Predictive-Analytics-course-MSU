{
 "cells": [
  {
   "cell_type": "markdown",
   "metadata": {},
   "source": [
    "# iLykei Lecture Series \n",
    "\n",
    "# Machine Learning\n",
    "\n",
    "# Random Forest and Boosting\n",
    "\n",
    "# Workshop\n",
    "\n",
    "## Y.Balasanov, L.Nazarov &copy; iLykei 2017-22\n"
   ]
  },
  {
   "cell_type": "markdown",
   "metadata": {
    "attributes": {
     "classes": [],
     "id": "",
     "setEcho,echo": "FALSE"
    }
   },
   "source": [
    "Below is the list of packages used in the workshop."
   ]
  },
  {
   "cell_type": "code",
   "execution_count": 1,
   "metadata": {},
   "outputs": [],
   "source": [
    "%matplotlib inline\n",
    "import numpy as np\n",
    "import pandas as pd\n",
    "import string\n",
    "from numpy.random import normal,random,seed\n",
    "from scipy.stats import norm\n",
    "import matplotlib.pyplot as plt\n",
    "plt.style.use('ggplot')\n",
    "from sklearn.ensemble import RandomForestRegressor,RandomForestClassifier\n",
    "from sklearn.preprocessing import LabelEncoder\n",
    "from sklearn.model_selection import GridSearchCV,cross_val_score,train_test_split\n",
    "from sklearn.metrics import log_loss\n",
    "import xgboost as xgb\n",
    "from xgboost.sklearn import XGBClassifier, XGBRegressor\n",
    "import lightgbm as lgb"
   ]
  },
  {
   "cell_type": "markdown",
   "metadata": {},
   "source": [
    "# Review of bagging, random forests and boosting    \n",
    "\n",
    "## Bagging\n",
    "\n",
    "Leo Breiman in Technical Report No. 421 (1994) [Bagging Predictors](https://www.cs.princeton.edu/courses/archive/fall08/cos402/readings/bagging.pdf) proposed to improve the decision trees performance by combining results of several trees built on randomly generated training subsets.     \n",
    "This method was called Bagging (Bootstrap AGGregating).  \n",
    "\n",
    "Denote\n",
    "\n",
    "* $X$ - set of objects;\n",
    "* $Y$ - either finite set of classes (classification) or set of real numbers (regression);\n",
    "* $f: X\\rightarrow Y$;\n",
    "* $L = {(x_1,f(x_1)),..,(x_m,f(x_n))}$ - learning sample;\n",
    "* $B^p = \\{ L_1,...,L_p \\}.$ - set of new learning samples each of size $n$, drawn from $L$ by sampling uniformly and with replacement.  \n",
    "\n",
    "Each learning sample $L_i$ generates predictor (tree) $\\widehat{f}_i$. In case of regression simple averaging gives aggregated predictor \n",
    "$$\n",
    "\\widehat{f}(x)=\\frac{1}{p}\\sum_{i=1}^{p}\\widehat{f}_{i}(x).\n",
    "$$\n",
    "A popular method of aggregating for classification problem is majority voting. Let\n",
    "$$N_{y}(x)=\\sum_{i=1}^{p}I_{\\left( \\widehat{f}_{i}(x)=y\\right) },$$\n",
    "where $I_A$ is the indicator of set $A$. The formula for aggregating predictor is\n",
    "$$\n",
    "\\widehat{f}(x)= \\underset{y\\in Y}{\\operatorname{argmax}}N_{y}(x).\n",
    "$$\n",
    "This bootstrapping procedure leads to better model performance because it decreases the variance of the model, without increasing the bias.   \n",
    "This means that while the predictions of a single tree are highly sensitive to noise in its training set, the average of many trees is not, as long as the trees are not correlated.     \n",
    "But if one or a few features happen to be very strong predictors for the response variable, these features will be selected in many of the trees, causing them to become correlated. Random forest method can overcome this disadvantage.\n",
    "\n",
    "## Random Forests\n",
    "\n",
    "Random Forest is a machine learning method capable of performing both regression and classification tasks.    \n",
    "\n",
    "It also can be used as dimensionality reduction method.    \n",
    "\n",
    "The [*sklearn.ensemble*](http://scikit-learn.org/stable/modules/classes.html#module-sklearn.ensemble) module includes two averaging algorithms based on randomized decision trees: the RandomForest algorithm and the Extra-Trees method. Both algorithms are perturb-and-combine techniques ([see here](https://www.stat.berkeley.edu/~breiman/arcall.pdf)) specifically designed for trees. This means a diverse set of classifiers is created by introducing randomness in the classifier construction. The prediction of the ensemble is given as the averaged prediction of the individual classifiers.  \n",
    "\n",
    "Random forests provide an improvement over bagged trees by decorrelating trees when the impose constraints on predictors.   \n",
    "     \n",
    "As in bagging, a number of decision trees is built on bootstrapped learning samples.     \n",
    "But when building these decision trees, each time a split in a tree is considered, a random sample of $m$ predictors is chosen as split candidates from the full set of $M$ predictors.    \n",
    "The split is allowed to use only one of those $m$ predictors.     \n",
    "Here is more detailed description of the algorithm.\n",
    "\n",
    "1. Assume that  the size of the learning set $L$ is $n$ as above.    \n",
    "Then, bootstrapped sample is generated from $L$ by sampling uniformly and with replacement.    \n",
    "This sample will be the training set for the tree.\n",
    "2. If there are $M$ input variables, a number $m<M$ is specified such that at each node, $m$ variables are selected randomly out of $M$.    \n",
    "The best split on these $m$ is used to split the node.     \n",
    "The value of $m$ is held constant through the process of growing the forest.      \n",
    "3. Algorithm builds $N_{tree}$ trees. Each of them is grown to the largest extent possible and  there is no pruning.    \n",
    "4. Predict new data by aggregating the predictions of the $N_{tree}$ trees (i.e., majority votes for classification, average for regression).\n",
    "\n",
    "The value of $m$ is taken small compare to $M$. The inventors make the following recommendations:     \n",
    "\n",
    "* For classification, the default value for $m$ is $\\sqrt{M}$  and the minimum node size is one.  \n",
    "*  For regression, the default value for $m$ is $M/3$ and the minimum\n",
    "node size is five.  \n",
    "\n",
    "In practice the best values for these parameters will depend on the problem, and they should be treated as tuning parameters.\n",
    "\n",
    "Random forest can handle large data set with higher dimensionality. It can handle thousands of input variables and identify most significant variables so it is considered as one of the dimensionality reduction methods. Further, the model outputs Importance of variable, which can be a very handy feature.  \n",
    "\n",
    "It has an effective method for estimating missing data and maintains accuracy when a large proportion of the data are missing. It has methods for balancing errors in data sets where classes are imbalanced.  \n",
    "\n",
    "Random Forest involves sampling of the input data with replacement.  Here around one third of the data are not used for training and can be used for testing.     \n",
    "These observations are called out-of-bag (OOB) samples.    \n",
    "Errors estimated on these OOB samples are known as OOB errors. The resulting OOB errors are valid estimates of the test error for the bagged model, since the response for each observation is predicted using only the trees that were not fit using that observation.    \n",
    "An OOB error estimate is close to that obtained by 3-fold crossvalidation. Hence unlike many other nonlinear estimators, random forests can be fit in one sequence, with cross-validation being performed along the way.\n",
    "\n",
    "Random Forest is better at classification but not as good for regression problems since it does not give continuous output.  \n",
    "\n",
    "It looks like a black box approach to statistical modelers - you have very little control on what the model does.    \n",
    "You can at best - try different parameters and random seeds.\n",
    "\n",
    "## Boosting\n",
    "\n",
    "The term \"Boosting\" refers to a family of algorithms which converts group of weak learners to a strong learner(s).    \n",
    "Boosting was originally designed for classification problems, but it was later extended to regression.     \n",
    "Like bagging, boosting is a general approach that can be applied to many statistical learning methods for regression or classification.    \n",
    "\n",
    "### Gradient boosting trees \n",
    "\n",
    "Cheng Li presentation [A Gentle Introduction to Gradient Boosting](http://www.ccs.neu.edu/home/vip/teach/MLcourse/4_boosting/slides/gradient_boosting.pdf) is partially used in this section.  \n",
    "\n",
    "In each step of Boosting procedure the tree is fitted to the residuals $r_x = f(x) -\\widehat{f}(x)$ of the previous step.    \n",
    "One may note that residual is the negative derivative of the square loss function: \n",
    "$$\n",
    "\\frac{\\partial }{\\partial \\widehat{f}(x)}L\\left( f(x),\\widehat{f}(x)\\right)\n",
    "$$\n",
    "where $L(u,v)=\\frac{1}{2}(u-v)^{2}$ is the loss function.    \n",
    "So,  boosting can be considered as a gradient descent algorithm.  \n",
    "\n",
    "A generic gradient boosting method for smooth loss function $L$ is described by [Friedman, J. H. Greedy Function Approximation: A Gradient Boosting Machine.](http://statweb.stanford.edu/~jhf/ftp/trebst.pdf)     \n",
    "\n",
    "# Simple Example with Clustering\n",
    "\n",
    "Consider a simple example in which a sine wave signal covered by some noise is analyzed with gradient boosting method.    \n",
    "\n",
    "Simulate the data."
   ]
  },
  {
   "cell_type": "code",
   "execution_count": 2,
   "metadata": {},
   "outputs": [
    {
     "data": {
      "text/html": [
       "<div>\n",
       "<style scoped>\n",
       "    .dataframe tbody tr th:only-of-type {\n",
       "        vertical-align: middle;\n",
       "    }\n",
       "\n",
       "    .dataframe tbody tr th {\n",
       "        vertical-align: top;\n",
       "    }\n",
       "\n",
       "    .dataframe thead th {\n",
       "        text-align: right;\n",
       "    }\n",
       "</style>\n",
       "<table border=\"1\" class=\"dataframe\">\n",
       "  <thead>\n",
       "    <tr style=\"text-align: right;\">\n",
       "      <th></th>\n",
       "      <th>x</th>\n",
       "      <th>signal</th>\n",
       "    </tr>\n",
       "  </thead>\n",
       "  <tbody>\n",
       "    <tr>\n",
       "      <th>0</th>\n",
       "      <td>0.00</td>\n",
       "      <td>0.176405</td>\n",
       "    </tr>\n",
       "    <tr>\n",
       "      <th>1</th>\n",
       "      <td>0.01</td>\n",
       "      <td>0.050016</td>\n",
       "    </tr>\n",
       "    <tr>\n",
       "      <th>2</th>\n",
       "      <td>0.02</td>\n",
       "      <td>0.117872</td>\n",
       "    </tr>\n",
       "    <tr>\n",
       "      <th>3</th>\n",
       "      <td>0.03</td>\n",
       "      <td>0.254085</td>\n",
       "    </tr>\n",
       "    <tr>\n",
       "      <th>4</th>\n",
       "      <td>0.04</td>\n",
       "      <td>0.226745</td>\n",
       "    </tr>\n",
       "  </tbody>\n",
       "</table>\n",
       "</div>"
      ],
      "text/plain": [
       "      x    signal\n",
       "0  0.00  0.176405\n",
       "1  0.01  0.050016\n",
       "2  0.02  0.117872\n",
       "3  0.03  0.254085\n",
       "4  0.04  0.226745"
      ]
     },
     "execution_count": 2,
     "metadata": {},
     "output_type": "execute_result"
    }
   ],
   "source": [
    "seed(0)\n",
    "x = np.arange(0, 2*np.pi, .01)\n",
    "sigmaEps = .1\n",
    "eps = normal(0,sigmaEps,len(x))\n",
    "signal = np.sin(x) + eps\n",
    "# use DataFrame.from_items to preserve column order\n",
    "data = pd.DataFrame({'x': x, 'signal': signal})\n",
    "data.head()"
   ]
  },
  {
   "cell_type": "markdown",
   "metadata": {},
   "source": [
    "Create a function which makes a plot of the first and the last columns of a data frame."
   ]
  },
  {
   "cell_type": "code",
   "execution_count": 3,
   "metadata": {},
   "outputs": [
    {
     "data": {
      "image/png": "[encoded data removed]",
      "text/plain": [
       "<Figure size 432x288 with 1 Axes>"
      ]
     },
     "metadata": {},
     "output_type": "display_data"
    }
   ],
   "source": [
    "def myPlot(myDF):\n",
    "    ax = myDF.plot(x='x',y='signal',kind='scatter',color=\"blue\")\n",
    "    legend = ['Signal+Noise']\n",
    "    if myDF.shape[1]>2:\n",
    "        legend += [list(myDF)[-1]]\n",
    "        myDF.plot(ax=ax,x='x',y= legend[1],kind='scatter',marker='o',color='red')\n",
    "    ax.legend(legend,bbox_to_anchor=(1, 1))\n",
    "    plt.show()\n",
    "\n",
    "myPlot(data)"
   ]
  },
  {
   "cell_type": "markdown",
   "metadata": {},
   "source": [
    "As a simple learner use cluster analysis into 2 clusters."
   ]
  },
  {
   "cell_type": "code",
   "execution_count": 4,
   "metadata": {
    "attributes": {
     "classes": [],
     "id": "",
     "r,message": "F"
    }
   },
   "outputs": [],
   "source": [
    "from sklearn.mixture import GaussianMixture\n",
    "X = data[['signal']]\n",
    "gmm = GaussianMixture(n_components=2).fit(X)"
   ]
  },
  {
   "cell_type": "markdown",
   "metadata": {},
   "source": [
    "Explore the returned object."
   ]
  },
  {
   "cell_type": "code",
   "execution_count": 5,
   "metadata": {},
   "outputs": [
    {
     "name": "stdout",
     "output_type": "stream",
     "text": [
      "Gaussian finite mixture model fitted by EM algorithm\n",
      "{'aic': 1165.1495766247758, 'bic': 1187.370232908278, 'average log-likelihood': -0.9182429066969601}\n",
      "Clustering table:\n",
      "0    315\n",
      "1    314\n",
      "dtype: int64\n",
      "model means [-0.64663154  0.62984569]\n",
      "model variances [0.1065756  0.11174951]\n"
     ]
    },
    {
     "data": {
      "text/plain": [
       "0    1\n",
       "1    1\n",
       "2    1\n",
       "3    1\n",
       "4    1\n",
       "dtype: int64"
      ]
     },
     "execution_count": 5,
     "metadata": {},
     "output_type": "execute_result"
    },
    {
     "data": {
      "image/png": "[encoded data removed]",
      "text/plain": [
       "<Figure size 432x288 with 1 Axes>"
      ]
     },
     "metadata": {},
     "output_type": "display_data"
    }
   ],
   "source": [
    "print('Gaussian finite mixture model fitted by EM algorithm')\n",
    "print({'aic':gmm.aic(X),'bic':gmm.bic(X),'average log-likelihood':gmm.score(X)})\n",
    "print('Clustering table:')\n",
    "model_classification = pd.Series(gmm.predict(X))\n",
    "print(model_classification.value_counts())\n",
    "plt.scatter(data.signal,model_classification,marker='|')\n",
    "plt.title('Classification')\n",
    "means = gmm.means_.flatten()\n",
    "print('model means',means)\n",
    "print('model variances',gmm.covariances_.flatten())\n",
    "model_classification.head()"
   ]
  },
  {
   "cell_type": "markdown",
   "metadata": {},
   "source": [
    "Clustering identified two groups with positive and negative mean values and similar standard deviations.   \n",
    "\n",
    "Create the first learner fitted values and add the column of them to the data frame.    \n",
    "Plot it."
   ]
  },
  {
   "cell_type": "code",
   "execution_count": 6,
   "metadata": {},
   "outputs": [
    {
     "name": "stdout",
     "output_type": "stream",
     "text": [
      "      x    signal  learner1\n",
      "0  0.00  0.176405  0.629846\n",
      "1  0.01  0.050016  0.629846\n",
      "2  0.02  0.117872  0.629846\n",
      "3  0.03  0.254085  0.629846\n",
      "4  0.04  0.226745  0.629846\n"
     ]
    },
    {
     "data": {
      "image/png": "[encoded data removed]",
      "text/plain": [
       "<Figure size 432x288 with 1 Axes>"
      ]
     },
     "metadata": {},
     "output_type": "display_data"
    }
   ],
   "source": [
    "data['learner1'] = means[model_classification]\n",
    "print(data.head())\n",
    "myPlot(data)"
   ]
  },
  {
   "cell_type": "markdown",
   "metadata": {},
   "source": [
    "The plot shows the original signal plus noise data (blue) and the prediction by the first learner (red).    \n",
    "\n",
    "Obviously, the learner is too simplistic to capture the nonlinear pattern of the signal, but it does separate the positive and the negative clusters of points.    \n",
    "\n",
    "Extract residuals after the first learner."
   ]
  },
  {
   "cell_type": "code",
   "execution_count": 7,
   "metadata": {},
   "outputs": [
    {
     "name": "stdout",
     "output_type": "stream",
     "text": [
      "0.7186892173210622 0.31536790166282513\n"
     ]
    },
    {
     "data": {
      "image/png": "[encoded data removed]",
      "text/plain": [
       "<Figure size 432x288 with 1 Axes>"
      ]
     },
     "metadata": {},
     "output_type": "display_data"
    }
   ],
   "source": [
    "residuals1 = data.signal - data.learner1\n",
    "plt.scatter(data.x,residuals1)\n",
    "sd1 = np.std(residuals1)\n",
    "print(np.std(data.signal),sd1)"
   ]
  },
  {
   "cell_type": "markdown",
   "metadata": {},
   "source": [
    "There is a remaining pattern in the residuals, but we observe a significant reduction in standard deviation relative to the original data.   \n",
    "In order to repeat the steps of gradient boosting several more times create a function `simpleLearner(mySignal)` which takes a signal vector (pandas Series or numpy array with shape = (n,1)) and splits it into 2 groups using `GaussianMixture`, returning vector of the next learner predicted values.    \n",
    "\n",
    "<span style=\"color:red\">(Skipped Code)</span>"
   ]
  },
  {
   "cell_type": "code",
   "execution_count": 8,
   "metadata": {},
   "outputs": [],
   "source": [
    "def simpleLearner(mySignal):\n",
    "    if mySignal.ndim==1: mySignal = mySignal.values.reshape(-1,1)\n",
    "    gmm = GaussianMixture(n_components=2).fit(mySignal)\n",
    "    return gmm.means_.flatten()[gmm.predict(mySignal)]"
   ]
  },
  {
   "cell_type": "markdown",
   "metadata": {},
   "source": [
    "Create the second learner vector of fitted values as the sum of learner 1 column and the learner 2 column created by applying `Mclust()` to the residuals after the first iteration."
   ]
  },
  {
   "cell_type": "code",
   "execution_count": 9,
   "metadata": {},
   "outputs": [
    {
     "data": {
      "image/png": "[encoded data removed]",
      "text/plain": [
       "<Figure size 432x288 with 1 Axes>"
      ]
     },
     "metadata": {},
     "output_type": "display_data"
    }
   ],
   "source": [
    "data['learner12'] = data.learner1 + simpleLearner(residuals1)\n",
    "myPlot(data)"
   ]
  },
  {
   "cell_type": "markdown",
   "metadata": {},
   "source": [
    "The combination of the two simple learners creates a pattern with 4 levels which captures the signal much better.    \n",
    "\n",
    "Create new residuals and repeat the iteration step one more time."
   ]
  },
  {
   "cell_type": "code",
   "execution_count": 10,
   "metadata": {},
   "outputs": [
    {
     "name": "stdout",
     "output_type": "stream",
     "text": [
      "0.7186892173210622 0.15847951028219512\n"
     ]
    },
    {
     "data": {
      "image/png": "[encoded data removed]",
      "text/plain": [
       "<Figure size 432x288 with 1 Axes>"
      ]
     },
     "metadata": {},
     "output_type": "display_data"
    }
   ],
   "source": [
    "residuals2 = data.signal - data.learner12\n",
    "plt.scatter(data.x,residuals2)\n",
    "sd2 = np.std(residuals2)\n",
    "print(np.std(data.signal),sd2)"
   ]
  },
  {
   "cell_type": "markdown",
   "metadata": {},
   "source": [
    "This step again significantly reduced standard deviation of the residuals.   \n",
    "\n",
    "Create new learner combining 3 iterations."
   ]
  },
  {
   "cell_type": "code",
   "execution_count": 11,
   "metadata": {},
   "outputs": [
    {
     "data": {
      "image/png": "[encoded data removed]",
      "text/plain": [
       "<Figure size 432x288 with 1 Axes>"
      ]
     },
     "metadata": {},
     "output_type": "display_data"
    }
   ],
   "source": [
    "data['learner123'] = data.learner12 + simpleLearner(residuals2)\n",
    "myPlot(data)"
   ]
  },
  {
   "cell_type": "markdown",
   "metadata": {},
   "source": [
    "At 8 levels the signal is captured better.    \n",
    "\n",
    "Make another iteration."
   ]
  },
  {
   "cell_type": "code",
   "execution_count": 12,
   "metadata": {},
   "outputs": [
    {
     "name": "stdout",
     "output_type": "stream",
     "text": [
      "0.7186892173210622 0.09001522277344566\n"
     ]
    },
    {
     "data": {
      "image/png": "[encoded data removed]",
      "text/plain": [
       "<Figure size 432x288 with 1 Axes>"
      ]
     },
     "metadata": {},
     "output_type": "display_data"
    },
    {
     "data": {
      "image/png": "[encoded data removed]",
      "text/plain": [
       "<Figure size 432x288 with 1 Axes>"
      ]
     },
     "metadata": {},
     "output_type": "display_data"
    },
    {
     "name": "stdout",
     "output_type": "stream",
     "text": [
      "0.7186892173210622 0.09001522277344566\n"
     ]
    },
    {
     "data": {
      "image/png": "[encoded data removed]",
      "text/plain": [
       "<Figure size 432x288 with 1 Axes>"
      ]
     },
     "metadata": {},
     "output_type": "display_data"
    }
   ],
   "source": [
    "residuals3 = data.signal - data.learner123\n",
    "plt.scatter(data.x,residuals3)\n",
    "sd3 = np.std(residuals3)\n",
    "print(np.std(data.signal),sd3)\n",
    "\n",
    "data['learner1234'] = data.learner123 + simpleLearner(residuals3)\n",
    "myPlot(data)\n",
    "\n",
    "residuals4 = data.signal - data.learner1234\n",
    "plt.scatter(data.x,residuals4)\n",
    "sd4 = np.std(residuals4)\n",
    "print(np.std(data.signal),sd3)"
   ]
  },
  {
   "cell_type": "markdown",
   "metadata": {},
   "source": [
    "Finally, try one more time."
   ]
  },
  {
   "cell_type": "code",
   "execution_count": 13,
   "metadata": {},
   "outputs": [
    {
     "data": {
      "image/png": "[encoded data removed]",
      "text/plain": [
       "<Figure size 432x288 with 1 Axes>"
      ]
     },
     "metadata": {},
     "output_type": "display_data"
    }
   ],
   "source": [
    "data['learner12345'] = data.learner1234 + simpleLearner(residuals4)\n",
    "myPlot(data)"
   ]
  },
  {
   "cell_type": "markdown",
   "metadata": {},
   "source": [
    "Combination of several very simple learners achieved very accurate description of complex nonlinear pattern of the original signal."
   ]
  },
  {
   "cell_type": "code",
   "execution_count": 14,
   "metadata": {},
   "outputs": [
    {
     "name": "stdout",
     "output_type": "stream",
     "text": [
      "0.7186892173210622 0.31536790166282513 0.15847951028219512 0.09001522277344566 0.052879442289797685 0.052851961412370675\n"
     ]
    },
    {
     "data": {
      "image/png": "[encoded data removed]",
      "text/plain": [
       "<Figure size 432x288 with 1 Axes>"
      ]
     },
     "metadata": {},
     "output_type": "display_data"
    }
   ],
   "source": [
    "residuals5 = data.signal - data.learner12345\n",
    "plt.scatter(data.x,residuals5)\n",
    "sd5 = np.std(residuals5)\n",
    "print(np.std(data.signal),sd1,sd2,sd3,sd4,sd5)"
   ]
  },
  {
   "cell_type": "markdown",
   "metadata": {},
   "source": [
    "Almost no improvement of the standard deviation of the residuals on the last step, stop the process.   "
   ]
  },
  {
   "cell_type": "code",
   "execution_count": 15,
   "metadata": {
    "scrolled": true
   },
   "outputs": [
    {
     "data": {
      "text/plain": [
       "[<matplotlib.lines.Line2D at 0x7f9c133d0610>]"
      ]
     },
     "execution_count": 15,
     "metadata": {},
     "output_type": "execute_result"
    },
    {
     "data": {
      "image/png": "[encoded data removed]",
      "text/plain": [
       "<Figure size 432x288 with 1 Axes>"
      ]
     },
     "metadata": {},
     "output_type": "display_data"
    }
   ],
   "source": [
    "plt.plot([sd1,sd2,sd3,sd4,sd5])"
   ]
  },
  {
   "cell_type": "markdown",
   "metadata": {},
   "source": [
    "Note that the standard deviation of the remaining noise is lower than the standard deviation of the originally simulated noise $\\epsilon_i$.   \n",
    "\n",
    "# Regression\n",
    "\n",
    "## Example: Predicting Baseball Players' Salaries\n",
    "\n",
    "Use the Hitters data from the ISLR library for a simple example"
   ]
  },
  {
   "cell_type": "code",
   "execution_count": 16,
   "metadata": {
    "attributes": {
     "classes": [],
     "id": "",
     "load,message": "F"
    }
   },
   "outputs": [],
   "source": [
    "URL = 'https://raw.githubusercontent.com/JWarmenhoven/ISLR-python/master/Notebooks/Data/Hitters.csv'"
   ]
  },
  {
   "cell_type": "markdown",
   "metadata": {},
   "source": [
    "Remove missing entries and take logs"
   ]
  },
  {
   "cell_type": "code",
   "execution_count": 17,
   "metadata": {},
   "outputs": [
    {
     "data": {
      "text/html": [
       "<div>\n",
       "<style scoped>\n",
       "    .dataframe tbody tr th:only-of-type {\n",
       "        vertical-align: middle;\n",
       "    }\n",
       "\n",
       "    .dataframe tbody tr th {\n",
       "        vertical-align: top;\n",
       "    }\n",
       "\n",
       "    .dataframe thead th {\n",
       "        text-align: right;\n",
       "    }\n",
       "</style>\n",
       "<table border=\"1\" class=\"dataframe\">\n",
       "  <thead>\n",
       "    <tr style=\"text-align: right;\">\n",
       "      <th></th>\n",
       "      <th>AtBat</th>\n",
       "      <th>Hits</th>\n",
       "      <th>HmRun</th>\n",
       "      <th>Runs</th>\n",
       "      <th>RBI</th>\n",
       "      <th>Walks</th>\n",
       "      <th>Years</th>\n",
       "      <th>CAtBat</th>\n",
       "      <th>CHits</th>\n",
       "      <th>CHmRun</th>\n",
       "      <th>CRuns</th>\n",
       "      <th>CRBI</th>\n",
       "      <th>CWalks</th>\n",
       "      <th>League</th>\n",
       "      <th>Division</th>\n",
       "      <th>PutOuts</th>\n",
       "      <th>Assists</th>\n",
       "      <th>Errors</th>\n",
       "      <th>Salary</th>\n",
       "      <th>NewLeague</th>\n",
       "    </tr>\n",
       "  </thead>\n",
       "  <tbody>\n",
       "    <tr>\n",
       "      <th>-Alan Ashby</th>\n",
       "      <td>315</td>\n",
       "      <td>81</td>\n",
       "      <td>7</td>\n",
       "      <td>24</td>\n",
       "      <td>38</td>\n",
       "      <td>39</td>\n",
       "      <td>14</td>\n",
       "      <td>3449</td>\n",
       "      <td>835</td>\n",
       "      <td>69</td>\n",
       "      <td>321</td>\n",
       "      <td>414</td>\n",
       "      <td>375</td>\n",
       "      <td>N</td>\n",
       "      <td>W</td>\n",
       "      <td>632</td>\n",
       "      <td>43</td>\n",
       "      <td>10</td>\n",
       "      <td>6.163315</td>\n",
       "      <td>N</td>\n",
       "    </tr>\n",
       "    <tr>\n",
       "      <th>-Alvin Davis</th>\n",
       "      <td>479</td>\n",
       "      <td>130</td>\n",
       "      <td>18</td>\n",
       "      <td>66</td>\n",
       "      <td>72</td>\n",
       "      <td>76</td>\n",
       "      <td>3</td>\n",
       "      <td>1624</td>\n",
       "      <td>457</td>\n",
       "      <td>63</td>\n",
       "      <td>224</td>\n",
       "      <td>266</td>\n",
       "      <td>263</td>\n",
       "      <td>A</td>\n",
       "      <td>W</td>\n",
       "      <td>880</td>\n",
       "      <td>82</td>\n",
       "      <td>14</td>\n",
       "      <td>6.173786</td>\n",
       "      <td>A</td>\n",
       "    </tr>\n",
       "    <tr>\n",
       "      <th>-Andre Dawson</th>\n",
       "      <td>496</td>\n",
       "      <td>141</td>\n",
       "      <td>20</td>\n",
       "      <td>65</td>\n",
       "      <td>78</td>\n",
       "      <td>37</td>\n",
       "      <td>11</td>\n",
       "      <td>5628</td>\n",
       "      <td>1575</td>\n",
       "      <td>225</td>\n",
       "      <td>828</td>\n",
       "      <td>838</td>\n",
       "      <td>354</td>\n",
       "      <td>N</td>\n",
       "      <td>E</td>\n",
       "      <td>200</td>\n",
       "      <td>11</td>\n",
       "      <td>3</td>\n",
       "      <td>6.214608</td>\n",
       "      <td>N</td>\n",
       "    </tr>\n",
       "  </tbody>\n",
       "</table>\n",
       "</div>"
      ],
      "text/plain": [
       "               AtBat  Hits  HmRun  Runs  RBI  Walks  Years  CAtBat  CHits  \\\n",
       "-Alan Ashby      315    81      7    24   38     39     14    3449    835   \n",
       "-Alvin Davis     479   130     18    66   72     76      3    1624    457   \n",
       "-Andre Dawson    496   141     20    65   78     37     11    5628   1575   \n",
       "\n",
       "               CHmRun  CRuns  CRBI  CWalks League Division  PutOuts  Assists  \\\n",
       "-Alan Ashby        69    321   414     375      N        W      632       43   \n",
       "-Alvin Davis       63    224   266     263      A        W      880       82   \n",
       "-Andre Dawson     225    828   838     354      N        E      200       11   \n",
       "\n",
       "               Errors    Salary NewLeague  \n",
       "-Alan Ashby        10  6.163315         N  \n",
       "-Alvin Davis       14  6.173786         A  \n",
       "-Andre Dawson       3  6.214608         N  "
      ]
     },
     "execution_count": 17,
     "metadata": {},
     "output_type": "execute_result"
    }
   ],
   "source": [
    "# Read and remove incomplete cases \n",
    "Hitters = pd.read_csv(URL,index_col=0).dropna()\n",
    "# log transform Salary to make it a bit more normally distributed\n",
    "Hitters['Salary'] = np.log(Hitters.Salary)\n",
    "Hitters.head(3)"
   ]
  },
  {
   "cell_type": "markdown",
   "metadata": {},
   "source": [
    "### Random Forest    \n",
    "\n",
    "Random forest [regression](http://scikit-learn.org/stable/modules/generated/sklearn.ensemble.RandomForestRegressor.html#sklearn.ensemble.RandomForestRegressor) is implemented in the [*sklearn.ensemble*](http://scikit-learn.org/stable/modules/classes.html#module-sklearn.ensemble) module.     \n",
    "\n",
    "A random forest is a meta estimator that fits a number of decision trees on various sub-samples of the dataset and use averaging to improve the predictive accuracy and control over-fitting. The sub-sample size is always the same as the original input sample size but the samples are drawn with replacement if *bootstrap=True* (default).  \n",
    "\n",
    "This implementation does not work with categorical features. Replace them with integer ones using class [*sklearn.preprocessing.LabelEncoder*](http://scikit-learn.org/stable/modules/generated/sklearn.preprocessing.LabelEncoder.html)."
   ]
  },
  {
   "cell_type": "code",
   "execution_count": 18,
   "metadata": {},
   "outputs": [
    {
     "name": "stdout",
     "output_type": "stream",
     "text": [
      "encode column League\n",
      "encode column Division\n",
      "encode column NewLeague\n"
     ]
    },
    {
     "data": {
      "text/html": [
       "<div>\n",
       "<style scoped>\n",
       "    .dataframe tbody tr th:only-of-type {\n",
       "        vertical-align: middle;\n",
       "    }\n",
       "\n",
       "    .dataframe tbody tr th {\n",
       "        vertical-align: top;\n",
       "    }\n",
       "\n",
       "    .dataframe thead th {\n",
       "        text-align: right;\n",
       "    }\n",
       "</style>\n",
       "<table border=\"1\" class=\"dataframe\">\n",
       "  <thead>\n",
       "    <tr style=\"text-align: right;\">\n",
       "      <th></th>\n",
       "      <th>AtBat</th>\n",
       "      <th>Hits</th>\n",
       "      <th>HmRun</th>\n",
       "      <th>Runs</th>\n",
       "      <th>RBI</th>\n",
       "      <th>Walks</th>\n",
       "      <th>Years</th>\n",
       "      <th>CAtBat</th>\n",
       "      <th>CHits</th>\n",
       "      <th>CHmRun</th>\n",
       "      <th>CRuns</th>\n",
       "      <th>CRBI</th>\n",
       "      <th>CWalks</th>\n",
       "      <th>League</th>\n",
       "      <th>Division</th>\n",
       "      <th>PutOuts</th>\n",
       "      <th>Assists</th>\n",
       "      <th>Errors</th>\n",
       "      <th>Salary</th>\n",
       "      <th>NewLeague</th>\n",
       "    </tr>\n",
       "  </thead>\n",
       "  <tbody>\n",
       "    <tr>\n",
       "      <th>-Alan Ashby</th>\n",
       "      <td>315</td>\n",
       "      <td>81</td>\n",
       "      <td>7</td>\n",
       "      <td>24</td>\n",
       "      <td>38</td>\n",
       "      <td>39</td>\n",
       "      <td>14</td>\n",
       "      <td>3449</td>\n",
       "      <td>835</td>\n",
       "      <td>69</td>\n",
       "      <td>321</td>\n",
       "      <td>414</td>\n",
       "      <td>375</td>\n",
       "      <td>1</td>\n",
       "      <td>1</td>\n",
       "      <td>632</td>\n",
       "      <td>43</td>\n",
       "      <td>10</td>\n",
       "      <td>6.163315</td>\n",
       "      <td>1</td>\n",
       "    </tr>\n",
       "    <tr>\n",
       "      <th>-Alvin Davis</th>\n",
       "      <td>479</td>\n",
       "      <td>130</td>\n",
       "      <td>18</td>\n",
       "      <td>66</td>\n",
       "      <td>72</td>\n",
       "      <td>76</td>\n",
       "      <td>3</td>\n",
       "      <td>1624</td>\n",
       "      <td>457</td>\n",
       "      <td>63</td>\n",
       "      <td>224</td>\n",
       "      <td>266</td>\n",
       "      <td>263</td>\n",
       "      <td>0</td>\n",
       "      <td>1</td>\n",
       "      <td>880</td>\n",
       "      <td>82</td>\n",
       "      <td>14</td>\n",
       "      <td>6.173786</td>\n",
       "      <td>0</td>\n",
       "    </tr>\n",
       "    <tr>\n",
       "      <th>-Andre Dawson</th>\n",
       "      <td>496</td>\n",
       "      <td>141</td>\n",
       "      <td>20</td>\n",
       "      <td>65</td>\n",
       "      <td>78</td>\n",
       "      <td>37</td>\n",
       "      <td>11</td>\n",
       "      <td>5628</td>\n",
       "      <td>1575</td>\n",
       "      <td>225</td>\n",
       "      <td>828</td>\n",
       "      <td>838</td>\n",
       "      <td>354</td>\n",
       "      <td>1</td>\n",
       "      <td>0</td>\n",
       "      <td>200</td>\n",
       "      <td>11</td>\n",
       "      <td>3</td>\n",
       "      <td>6.214608</td>\n",
       "      <td>1</td>\n",
       "    </tr>\n",
       "  </tbody>\n",
       "</table>\n",
       "</div>"
      ],
      "text/plain": [
       "               AtBat  Hits  HmRun  Runs  RBI  Walks  Years  CAtBat  CHits  \\\n",
       "-Alan Ashby      315    81      7    24   38     39     14    3449    835   \n",
       "-Alvin Davis     479   130     18    66   72     76      3    1624    457   \n",
       "-Andre Dawson    496   141     20    65   78     37     11    5628   1575   \n",
       "\n",
       "               CHmRun  CRuns  CRBI  CWalks  League  Division  PutOuts  \\\n",
       "-Alan Ashby        69    321   414     375       1         1      632   \n",
       "-Alvin Davis       63    224   266     263       0         1      880   \n",
       "-Andre Dawson     225    828   838     354       1         0      200   \n",
       "\n",
       "               Assists  Errors    Salary  NewLeague  \n",
       "-Alan Ashby         43      10  6.163315          1  \n",
       "-Alvin Davis        82      14  6.173786          0  \n",
       "-Andre Dawson       11       3  6.214608          1  "
      ]
     },
     "execution_count": 18,
     "metadata": {},
     "output_type": "execute_result"
    }
   ],
   "source": [
    "le = LabelEncoder()\n",
    "for col_name,col_type in zip(list(Hitters),Hitters.dtypes):\n",
    "    if col_type=='object':\n",
    "        print('encode column',col_name)\n",
    "        Hitters[col_name] = le.fit_transform(Hitters[col_name])   \n",
    "Hitters.head(3)"
   ]
  },
  {
   "cell_type": "markdown",
   "metadata": {},
   "source": [
    "#### Default arguments    \n",
    "\n",
    "Set seed for reproducibility and grow a forest."
   ]
  },
  {
   "cell_type": "code",
   "execution_count": 19,
   "metadata": {},
   "outputs": [
    {
     "name": "stdout",
     "output_type": "stream",
     "text": [
      "coefficient of determination R^2 = 0.7566665474380092\n"
     ]
    }
   ],
   "source": [
    "# oob_score: whether to use out-of-bag samples to estimate the R^2 on unseen data \n",
    "# n_jobs=-1: the number of jobs is set to the number of cores\n",
    "rfSalary = RandomForestRegressor(n_estimators=500,random_state=0,oob_score=True,\n",
    "                                 n_jobs=-1)\n",
    "X, y = Hitters.drop('Salary',axis=1),Hitters.Salary\n",
    "rfSalary.fit(X, y)\n",
    "print('coefficient of determination R^2 =',rfSalary.oob_score_)"
   ]
  },
  {
   "cell_type": "markdown",
   "metadata": {},
   "source": [
    "The *RandomForestRegressor* class instance has attribute  \n",
    "*feature\\_importances\\_ : array of shape = (n_features,)*.  \n",
    "The higher feature importance, the more important is the feature."
   ]
  },
  {
   "cell_type": "code",
   "execution_count": 20,
   "metadata": {
    "attributes": {
     "classes": [
      "r "
     ],
     "id": ""
    }
   },
   "outputs": [
    {
     "name": "stdout",
     "output_type": "stream",
     "text": [
      "[0.03903902 0.04079388 0.01075775 0.01940073 0.0297997  0.03661082\n",
      " 0.01134005 0.38252384 0.11877567 0.02203308 0.16707112 0.04775688\n",
      " 0.03201404 0.00122329 0.0015731  0.01956265 0.00830709 0.0090688\n",
      " 0.00234849]\n"
     ]
    }
   ],
   "source": [
    "print(rfSalary.feature_importances_)"
   ]
  },
  {
   "cell_type": "markdown",
   "metadata": {},
   "source": [
    "We can also sort variables according to its importances and plot them"
   ]
  },
  {
   "cell_type": "code",
   "execution_count": 21,
   "metadata": {
    "attributes": {
     "classes": [
      "r "
     ],
     "id": ""
    }
   },
   "outputs": [
    {
     "data": {
      "text/plain": [
       "<AxesSubplot:>"
      ]
     },
     "execution_count": 21,
     "metadata": {},
     "output_type": "execute_result"
    },
    {
     "data": {
      "image/png": "[encoded data removed]",
      "text/plain": [
       "<Figure size 432x288 with 1 Axes>"
      ]
     },
     "metadata": {},
     "output_type": "display_data"
    }
   ],
   "source": [
    "imp = pd.Series(rfSalary.feature_importances_, index=list(X)).sort_values()\n",
    "imp[-10:].plot(kind = 'barh')"
   ]
  },
  {
   "cell_type": "markdown",
   "metadata": {},
   "source": [
    "#### Reduced number of trees\n",
    "Compare forests with 500 and 200 trees:"
   ]
  },
  {
   "cell_type": "code",
   "execution_count": 22,
   "metadata": {},
   "outputs": [
    {
     "name": "stdout",
     "output_type": "stream",
     "text": [
      "T200 R^2 = 0.7605482869990629\n",
      "T500 R^2 = 0.7566665474380092\n"
     ]
    }
   ],
   "source": [
    "rfSalary200 = RandomForestRegressor(n_estimators=200,random_state=0,oob_score=True,\n",
    "                                 n_jobs=-1)\n",
    "rfSalary200.fit(X, y)\n",
    "print('T200 R^2 =',rfSalary200.oob_score_)\n",
    "print('T500 R^2 =',rfSalary.oob_score_)"
   ]
  },
  {
   "cell_type": "markdown",
   "metadata": {},
   "source": [
    "Does the relative importance change?"
   ]
  },
  {
   "cell_type": "code",
   "execution_count": 23,
   "metadata": {},
   "outputs": [
    {
     "data": {
      "text/html": [
       "<div>\n",
       "<style scoped>\n",
       "    .dataframe tbody tr th:only-of-type {\n",
       "        vertical-align: middle;\n",
       "    }\n",
       "\n",
       "    .dataframe tbody tr th {\n",
       "        vertical-align: top;\n",
       "    }\n",
       "\n",
       "    .dataframe thead th {\n",
       "        text-align: right;\n",
       "    }\n",
       "</style>\n",
       "<table border=\"1\" class=\"dataframe\">\n",
       "  <thead>\n",
       "    <tr style=\"text-align: right;\">\n",
       "      <th></th>\n",
       "      <th>T200</th>\n",
       "      <th>T500</th>\n",
       "    </tr>\n",
       "  </thead>\n",
       "  <tbody>\n",
       "    <tr>\n",
       "      <th>18</th>\n",
       "      <td>CAtBat</td>\n",
       "      <td>CAtBat</td>\n",
       "    </tr>\n",
       "    <tr>\n",
       "      <th>17</th>\n",
       "      <td>CRuns</td>\n",
       "      <td>CRuns</td>\n",
       "    </tr>\n",
       "    <tr>\n",
       "      <th>16</th>\n",
       "      <td>CHits</td>\n",
       "      <td>CHits</td>\n",
       "    </tr>\n",
       "    <tr>\n",
       "      <th>15</th>\n",
       "      <td>CRBI</td>\n",
       "      <td>CRBI</td>\n",
       "    </tr>\n",
       "    <tr>\n",
       "      <th>14</th>\n",
       "      <td>Hits</td>\n",
       "      <td>Hits</td>\n",
       "    </tr>\n",
       "    <tr>\n",
       "      <th>13</th>\n",
       "      <td>CWalks</td>\n",
       "      <td>AtBat</td>\n",
       "    </tr>\n",
       "    <tr>\n",
       "      <th>12</th>\n",
       "      <td>Walks</td>\n",
       "      <td>Walks</td>\n",
       "    </tr>\n",
       "    <tr>\n",
       "      <th>11</th>\n",
       "      <td>AtBat</td>\n",
       "      <td>CWalks</td>\n",
       "    </tr>\n",
       "    <tr>\n",
       "      <th>10</th>\n",
       "      <td>RBI</td>\n",
       "      <td>RBI</td>\n",
       "    </tr>\n",
       "    <tr>\n",
       "      <th>9</th>\n",
       "      <td>CHmRun</td>\n",
       "      <td>CHmRun</td>\n",
       "    </tr>\n",
       "    <tr>\n",
       "      <th>8</th>\n",
       "      <td>Runs</td>\n",
       "      <td>PutOuts</td>\n",
       "    </tr>\n",
       "    <tr>\n",
       "      <th>7</th>\n",
       "      <td>PutOuts</td>\n",
       "      <td>Runs</td>\n",
       "    </tr>\n",
       "    <tr>\n",
       "      <th>6</th>\n",
       "      <td>Years</td>\n",
       "      <td>Years</td>\n",
       "    </tr>\n",
       "    <tr>\n",
       "      <th>5</th>\n",
       "      <td>HmRun</td>\n",
       "      <td>HmRun</td>\n",
       "    </tr>\n",
       "    <tr>\n",
       "      <th>4</th>\n",
       "      <td>Errors</td>\n",
       "      <td>Errors</td>\n",
       "    </tr>\n",
       "    <tr>\n",
       "      <th>3</th>\n",
       "      <td>Assists</td>\n",
       "      <td>Assists</td>\n",
       "    </tr>\n",
       "    <tr>\n",
       "      <th>2</th>\n",
       "      <td>NewLeague</td>\n",
       "      <td>NewLeague</td>\n",
       "    </tr>\n",
       "    <tr>\n",
       "      <th>1</th>\n",
       "      <td>Division</td>\n",
       "      <td>Division</td>\n",
       "    </tr>\n",
       "    <tr>\n",
       "      <th>0</th>\n",
       "      <td>League</td>\n",
       "      <td>League</td>\n",
       "    </tr>\n",
       "  </tbody>\n",
       "</table>\n",
       "</div>"
      ],
      "text/plain": [
       "         T200       T500\n",
       "18     CAtBat     CAtBat\n",
       "17      CRuns      CRuns\n",
       "16      CHits      CHits\n",
       "15       CRBI       CRBI\n",
       "14       Hits       Hits\n",
       "13     CWalks      AtBat\n",
       "12      Walks      Walks\n",
       "11      AtBat     CWalks\n",
       "10        RBI        RBI\n",
       "9      CHmRun     CHmRun\n",
       "8        Runs    PutOuts\n",
       "7     PutOuts       Runs\n",
       "6       Years      Years\n",
       "5       HmRun      HmRun\n",
       "4      Errors     Errors\n",
       "3     Assists    Assists\n",
       "2   NewLeague  NewLeague\n",
       "1    Division   Division\n",
       "0      League     League"
      ]
     },
     "execution_count": 23,
     "metadata": {},
     "output_type": "execute_result"
    }
   ],
   "source": [
    "imp200 = pd.Series(rfSalary200.feature_importances_, index=list(X)).sort_values()\n",
    "# reverse to show important features first\n",
    "pd.DataFrame({'T200':imp200.index,'T500':imp.index})[::-1]"
   ]
  },
  {
   "cell_type": "markdown",
   "metadata": {},
   "source": [
    "#### Variation of number of variables in split"
   ]
  },
  {
   "cell_type": "code",
   "execution_count": 24,
   "metadata": {
    "scrolled": true
   },
   "outputs": [
    {
     "name": "stdout",
     "output_type": "stream",
     "text": [
      "[0.7445612028071906, 0.7743854113130884, 0.7736394461691533, 0.7774950794992332, 0.7674101155752475, 0.7744774609150011]\n"
     ]
    },
    {
     "data": {
      "text/plain": [
       "[<matplotlib.lines.Line2D at 0x7f9c133ebfd0>]"
      ]
     },
     "execution_count": 24,
     "metadata": {},
     "output_type": "execute_result"
    },
    {
     "data": {
      "image/png": "[encoded data removed]",
      "text/plain": [
       "<Figure size 432x288 with 1 Axes>"
      ]
     },
     "metadata": {},
     "output_type": "display_data"
    }
   ],
   "source": [
    "max_features_quality = [RandomForestRegressor(n_estimators=200,random_state=0,oob_score=True,\n",
    "               n_jobs=-1,max_features=i).fit(X,y).oob_score_ \n",
    "               for i in np.arange(1,X.shape[1])]\n",
    "\n",
    "print(max_features_quality[:6])\n",
    "plt.plot(np.arange(1,X.shape[1]),max_features_quality)"
   ]
  },
  {
   "cell_type": "markdown",
   "metadata": {},
   "source": [
    "Plotting the curves for different numbers of variables at each split suggests to use parameter `max_features` equal to 6.    \n",
    "\n",
    "#### Predicting and calculating RMSE for the random forest model."
   ]
  },
  {
   "cell_type": "code",
   "execution_count": 25,
   "metadata": {},
   "outputs": [
    {
     "name": "stdout",
     "output_type": "stream",
     "text": [
      "train RMSE = 0.1525854163075992\n"
     ]
    }
   ],
   "source": [
    "def RMSE(x,y): \n",
    "    return np.mean((x - y)**2)**0.5\n",
    "rfSalary200 = RandomForestRegressor(n_estimators=200,random_state=0,\n",
    "                                    oob_score=True,n_jobs=-1,max_features=6)\n",
    "rfSalary200.fit(X, y)\n",
    "print('train RMSE =',RMSE(Hitters.Salary,rfSalary200.predict(X)))"
   ]
  },
  {
   "cell_type": "markdown",
   "metadata": {},
   "source": [
    "Note that it is prediction for the train set. Out-of-bag RMSE is more adequate estimate of the model quality."
   ]
  },
  {
   "cell_type": "code",
   "execution_count": 26,
   "metadata": {},
   "outputs": [
    {
     "name": "stdout",
     "output_type": "stream",
     "text": [
      "OOB RMSE = 0.4214669108601699\n"
     ]
    }
   ],
   "source": [
    "print('OOB RMSE =',RMSE(Hitters.Salary,rfSalary200.oob_prediction_))"
   ]
  },
  {
   "cell_type": "markdown",
   "metadata": {},
   "source": [
    "### Gradient Boosting    \n",
    "\n",
    "Analyze the same data using gradient boosting.     \n",
    "\n",
    "The method is implemented in [**xgboost**](http://xgboost.readthedocs.io/en/latest/python/python_intro.html).    \n",
    "\n",
    "XGBoost is short for \"Extreme Gradient Boosting\".   \n",
    "\n",
    "XGBoost is an optimized distributed gradient boosting library designed to be highly efficient, flexible and portable. It implements machine learning algorithms under the Gradient Boosting framework. XGBoost provides a parallel tree boosting (also known as GBDT, GBM) that solve many data science problems in a fast and accurate way. The same code runs on major distributed environment (Hadoop, SGE, MPI) and can solve problems beyond billions of examples.  \n",
    "\n",
    "* Speed: it can automatically do parallel computation on Windows and Linux, with OpenMP.    \n",
    "* The XGBoost python module is able to load data from:\n",
    "    + libsvm txt format file\n",
    "    + Numpy 2D array, and\n",
    "    + xgboost binary buffer file.\n",
    "* Sparsity: it accepts sparse input for both tree booster and linear booster, and is optimized for sparse input ;\n",
    "* Customization: it supports customized objective functions and evaluation functions."
   ]
  },
  {
   "cell_type": "markdown",
   "metadata": {},
   "source": [
    "Set \"objective\" parameter."
   ]
  },
  {
   "cell_type": "code",
   "execution_count": 27,
   "metadata": {},
   "outputs": [],
   "source": [
    "param = {'objective': 'reg:squarederror'}"
   ]
  },
  {
   "cell_type": "markdown",
   "metadata": {},
   "source": [
    "`Xgboost` has large number of parameters.     \n",
    "\n",
    "Some of them are on the list in `params`.     \n",
    "Commonly used ones are:  \n",
    "\n",
    "* `objective` objective function, typically:\n",
    "    + `reg:squarederror` - for linear regression\n",
    "    + `binary:logistic` - logistic regression for classification\n",
    "* `eta` step size of each boosting step\n",
    "* `max.depth` maximum depth of the tree\n",
    "* `nthread` number of threads used in training, if not set, all threads are used.  \n",
    "\n",
    "Xgboost works only with numeric data while **Hitters** has several categorical columns. Fortunately we have already converted them to integer.  \n",
    "The internal **xgboost** data structure is DMatrix. It is optimized for both memory efficiency and training speed. Here is how one can create it."
   ]
  },
  {
   "cell_type": "code",
   "execution_count": 28,
   "metadata": {},
   "outputs": [],
   "source": [
    "dtrain = xgb.DMatrix(X, label=y)"
   ]
  },
  {
   "cell_type": "markdown",
   "metadata": {},
   "source": [
    "Run cross validation to find the best number of iterations."
   ]
  },
  {
   "cell_type": "code",
   "execution_count": 29,
   "metadata": {},
   "outputs": [
    {
     "name": "stdout",
     "output_type": "stream",
     "text": [
      "[0]\ttrain-rmse:3.88853+0.02202\ttest-rmse:3.88738+0.08022\n",
      "[10]\ttrain-rmse:0.22799+0.00500\ttest-rmse:0.50047+0.04332\n",
      "[20]\ttrain-rmse:0.06305+0.00432\ttest-rmse:0.46388+0.05836\n",
      "[30]\ttrain-rmse:0.02589+0.00128\ttest-rmse:0.46280+0.05798\n",
      "[40]\ttrain-rmse:0.00933+0.00103\ttest-rmse:0.46267+0.05711\n",
      "[50]\ttrain-rmse:0.00315+0.00042\ttest-rmse:0.46273+0.05705\n",
      "[59]\ttrain-rmse:0.00132+0.00018\ttest-rmse:0.46273+0.05709\n"
     ]
    },
    {
     "data": {
      "text/html": [
       "<div>\n",
       "<style scoped>\n",
       "    .dataframe tbody tr th:only-of-type {\n",
       "        vertical-align: middle;\n",
       "    }\n",
       "\n",
       "    .dataframe tbody tr th {\n",
       "        vertical-align: top;\n",
       "    }\n",
       "\n",
       "    .dataframe thead th {\n",
       "        text-align: right;\n",
       "    }\n",
       "</style>\n",
       "<table border=\"1\" class=\"dataframe\">\n",
       "  <thead>\n",
       "    <tr style=\"text-align: right;\">\n",
       "      <th></th>\n",
       "      <th>train-rmse-mean</th>\n",
       "      <th>train-rmse-std</th>\n",
       "      <th>test-rmse-mean</th>\n",
       "      <th>test-rmse-std</th>\n",
       "    </tr>\n",
       "  </thead>\n",
       "  <tbody>\n",
       "    <tr>\n",
       "      <th>30</th>\n",
       "      <td>0.025887</td>\n",
       "      <td>0.001278</td>\n",
       "      <td>0.462797</td>\n",
       "      <td>0.057978</td>\n",
       "    </tr>\n",
       "    <tr>\n",
       "      <th>31</th>\n",
       "      <td>0.023271</td>\n",
       "      <td>0.001306</td>\n",
       "      <td>0.462946</td>\n",
       "      <td>0.058141</td>\n",
       "    </tr>\n",
       "    <tr>\n",
       "      <th>32</th>\n",
       "      <td>0.021136</td>\n",
       "      <td>0.001176</td>\n",
       "      <td>0.462765</td>\n",
       "      <td>0.057758</td>\n",
       "    </tr>\n",
       "    <tr>\n",
       "      <th>33</th>\n",
       "      <td>0.018148</td>\n",
       "      <td>0.001724</td>\n",
       "      <td>0.462921</td>\n",
       "      <td>0.058091</td>\n",
       "    </tr>\n",
       "    <tr>\n",
       "      <th>34</th>\n",
       "      <td>0.016384</td>\n",
       "      <td>0.001400</td>\n",
       "      <td>0.462701</td>\n",
       "      <td>0.057626</td>\n",
       "    </tr>\n",
       "    <tr>\n",
       "      <th>35</th>\n",
       "      <td>0.014982</td>\n",
       "      <td>0.001172</td>\n",
       "      <td>0.462537</td>\n",
       "      <td>0.057506</td>\n",
       "    </tr>\n",
       "    <tr>\n",
       "      <th>36</th>\n",
       "      <td>0.013061</td>\n",
       "      <td>0.001377</td>\n",
       "      <td>0.462590</td>\n",
       "      <td>0.057404</td>\n",
       "    </tr>\n",
       "    <tr>\n",
       "      <th>37</th>\n",
       "      <td>0.011786</td>\n",
       "      <td>0.001595</td>\n",
       "      <td>0.462521</td>\n",
       "      <td>0.057413</td>\n",
       "    </tr>\n",
       "    <tr>\n",
       "      <th>38</th>\n",
       "      <td>0.010900</td>\n",
       "      <td>0.001260</td>\n",
       "      <td>0.462659</td>\n",
       "      <td>0.057279</td>\n",
       "    </tr>\n",
       "    <tr>\n",
       "      <th>39</th>\n",
       "      <td>0.010240</td>\n",
       "      <td>0.001121</td>\n",
       "      <td>0.462694</td>\n",
       "      <td>0.057198</td>\n",
       "    </tr>\n",
       "    <tr>\n",
       "      <th>40</th>\n",
       "      <td>0.009334</td>\n",
       "      <td>0.001034</td>\n",
       "      <td>0.462668</td>\n",
       "      <td>0.057114</td>\n",
       "    </tr>\n",
       "    <tr>\n",
       "      <th>41</th>\n",
       "      <td>0.008250</td>\n",
       "      <td>0.001091</td>\n",
       "      <td>0.462677</td>\n",
       "      <td>0.057140</td>\n",
       "    </tr>\n",
       "    <tr>\n",
       "      <th>42</th>\n",
       "      <td>0.007454</td>\n",
       "      <td>0.001031</td>\n",
       "      <td>0.462510</td>\n",
       "      <td>0.057149</td>\n",
       "    </tr>\n",
       "    <tr>\n",
       "      <th>43</th>\n",
       "      <td>0.006660</td>\n",
       "      <td>0.000972</td>\n",
       "      <td>0.462638</td>\n",
       "      <td>0.057163</td>\n",
       "    </tr>\n",
       "    <tr>\n",
       "      <th>44</th>\n",
       "      <td>0.005930</td>\n",
       "      <td>0.000792</td>\n",
       "      <td>0.462768</td>\n",
       "      <td>0.056986</td>\n",
       "    </tr>\n",
       "    <tr>\n",
       "      <th>45</th>\n",
       "      <td>0.005296</td>\n",
       "      <td>0.000711</td>\n",
       "      <td>0.462749</td>\n",
       "      <td>0.057081</td>\n",
       "    </tr>\n",
       "    <tr>\n",
       "      <th>46</th>\n",
       "      <td>0.004747</td>\n",
       "      <td>0.000649</td>\n",
       "      <td>0.462733</td>\n",
       "      <td>0.057064</td>\n",
       "    </tr>\n",
       "    <tr>\n",
       "      <th>47</th>\n",
       "      <td>0.004385</td>\n",
       "      <td>0.000584</td>\n",
       "      <td>0.462752</td>\n",
       "      <td>0.057052</td>\n",
       "    </tr>\n",
       "    <tr>\n",
       "      <th>48</th>\n",
       "      <td>0.003866</td>\n",
       "      <td>0.000580</td>\n",
       "      <td>0.462751</td>\n",
       "      <td>0.056992</td>\n",
       "    </tr>\n",
       "    <tr>\n",
       "      <th>49</th>\n",
       "      <td>0.003608</td>\n",
       "      <td>0.000515</td>\n",
       "      <td>0.462725</td>\n",
       "      <td>0.056995</td>\n",
       "    </tr>\n",
       "    <tr>\n",
       "      <th>50</th>\n",
       "      <td>0.003152</td>\n",
       "      <td>0.000416</td>\n",
       "      <td>0.462728</td>\n",
       "      <td>0.057046</td>\n",
       "    </tr>\n",
       "    <tr>\n",
       "      <th>51</th>\n",
       "      <td>0.002890</td>\n",
       "      <td>0.000428</td>\n",
       "      <td>0.462696</td>\n",
       "      <td>0.057099</td>\n",
       "    </tr>\n",
       "    <tr>\n",
       "      <th>52</th>\n",
       "      <td>0.002714</td>\n",
       "      <td>0.000402</td>\n",
       "      <td>0.462709</td>\n",
       "      <td>0.057093</td>\n",
       "    </tr>\n",
       "    <tr>\n",
       "      <th>53</th>\n",
       "      <td>0.002449</td>\n",
       "      <td>0.000391</td>\n",
       "      <td>0.462706</td>\n",
       "      <td>0.057073</td>\n",
       "    </tr>\n",
       "    <tr>\n",
       "      <th>54</th>\n",
       "      <td>0.002162</td>\n",
       "      <td>0.000293</td>\n",
       "      <td>0.462731</td>\n",
       "      <td>0.057093</td>\n",
       "    </tr>\n",
       "    <tr>\n",
       "      <th>55</th>\n",
       "      <td>0.001940</td>\n",
       "      <td>0.000259</td>\n",
       "      <td>0.462765</td>\n",
       "      <td>0.057108</td>\n",
       "    </tr>\n",
       "    <tr>\n",
       "      <th>56</th>\n",
       "      <td>0.001798</td>\n",
       "      <td>0.000229</td>\n",
       "      <td>0.462750</td>\n",
       "      <td>0.057116</td>\n",
       "    </tr>\n",
       "    <tr>\n",
       "      <th>57</th>\n",
       "      <td>0.001629</td>\n",
       "      <td>0.000241</td>\n",
       "      <td>0.462710</td>\n",
       "      <td>0.057110</td>\n",
       "    </tr>\n",
       "    <tr>\n",
       "      <th>58</th>\n",
       "      <td>0.001461</td>\n",
       "      <td>0.000210</td>\n",
       "      <td>0.462742</td>\n",
       "      <td>0.057107</td>\n",
       "    </tr>\n",
       "    <tr>\n",
       "      <th>59</th>\n",
       "      <td>0.001316</td>\n",
       "      <td>0.000184</td>\n",
       "      <td>0.462729</td>\n",
       "      <td>0.057086</td>\n",
       "    </tr>\n",
       "  </tbody>\n",
       "</table>\n",
       "</div>"
      ],
      "text/plain": [
       "    train-rmse-mean  train-rmse-std  test-rmse-mean  test-rmse-std\n",
       "30         0.025887        0.001278        0.462797       0.057978\n",
       "31         0.023271        0.001306        0.462946       0.058141\n",
       "32         0.021136        0.001176        0.462765       0.057758\n",
       "33         0.018148        0.001724        0.462921       0.058091\n",
       "34         0.016384        0.001400        0.462701       0.057626\n",
       "35         0.014982        0.001172        0.462537       0.057506\n",
       "36         0.013061        0.001377        0.462590       0.057404\n",
       "37         0.011786        0.001595        0.462521       0.057413\n",
       "38         0.010900        0.001260        0.462659       0.057279\n",
       "39         0.010240        0.001121        0.462694       0.057198\n",
       "40         0.009334        0.001034        0.462668       0.057114\n",
       "41         0.008250        0.001091        0.462677       0.057140\n",
       "42         0.007454        0.001031        0.462510       0.057149\n",
       "43         0.006660        0.000972        0.462638       0.057163\n",
       "44         0.005930        0.000792        0.462768       0.056986\n",
       "45         0.005296        0.000711        0.462749       0.057081\n",
       "46         0.004747        0.000649        0.462733       0.057064\n",
       "47         0.004385        0.000584        0.462752       0.057052\n",
       "48         0.003866        0.000580        0.462751       0.056992\n",
       "49         0.003608        0.000515        0.462725       0.056995\n",
       "50         0.003152        0.000416        0.462728       0.057046\n",
       "51         0.002890        0.000428        0.462696       0.057099\n",
       "52         0.002714        0.000402        0.462709       0.057093\n",
       "53         0.002449        0.000391        0.462706       0.057073\n",
       "54         0.002162        0.000293        0.462731       0.057093\n",
       "55         0.001940        0.000259        0.462765       0.057108\n",
       "56         0.001798        0.000229        0.462750       0.057116\n",
       "57         0.001629        0.000241        0.462710       0.057110\n",
       "58         0.001461        0.000210        0.462742       0.057107\n",
       "59         0.001316        0.000184        0.462729       0.057086"
      ]
     },
     "execution_count": 29,
     "metadata": {},
     "output_type": "execute_result"
    }
   ],
   "source": [
    "cvSalary = xgb.cv(param, dtrain, nfold = 3,num_boost_round=60,\n",
    "                  verbose_eval=10)\n",
    "cvSalary.iloc[30:]"
   ]
  },
  {
   "cell_type": "markdown",
   "metadata": {},
   "source": [
    "Note that there is no improvement in *train-rmse-mean* at the end of training process while the algorithm continues building new trees. We should catch this moment and stop training to avoid overfitting.  \n",
    "Optimal number of iterations is"
   ]
  },
  {
   "cell_type": "code",
   "execution_count": 30,
   "metadata": {},
   "outputs": [
    {
     "name": "stdout",
     "output_type": "stream",
     "text": [
      "best number of rounds = 42\n",
      "rmse = 0.46251\n"
     ]
    },
    {
     "data": {
      "image/png": "[encoded data removed]",
      "text/plain": [
       "<Figure size 432x288 with 1 Axes>"
      ]
     },
     "metadata": {},
     "output_type": "display_data"
    }
   ],
   "source": [
    "eps = 1e-6\n",
    "bestNR = np.argmax(cvSalary['test-rmse-mean']<eps+min(cvSalary['test-rmse-mean']))\n",
    "bestRMSE = cvSalary.loc[bestNR,'test-rmse-mean']\n",
    "plt.plot(cvSalary['test-rmse-mean'].clip(0,.47))\n",
    "print('best number of rounds =',bestNR)\n",
    "print('rmse =',bestRMSE) # using bestNR"
   ]
  },
  {
   "cell_type": "markdown",
   "metadata": {},
   "source": [
    "Train the model using *bestNR* and calculate its RMSE using entire sample."
   ]
  },
  {
   "cell_type": "code",
   "execution_count": 31,
   "metadata": {
    "scrolled": true
   },
   "outputs": [
    {
     "name": "stdout",
     "output_type": "stream",
     "text": [
      "0.017190909698329128\n"
     ]
    }
   ],
   "source": [
    "modelSalary = xgb.train(param, dtrain,num_boost_round=bestNR)\n",
    "print(RMSE(y,modelSalary.predict(xgb.DMatrix(X))))"
   ]
  },
  {
   "cell_type": "markdown",
   "metadata": {},
   "source": [
    "This mean squared error still is too small in comparison with the order of magnitude of test RMSE.   \n",
    "\n",
    "#### Tuning parameters    \n",
    "\n",
    "Scikit-Learn has special tool for parameter tunning - [model_selection.GridSearchCV](http://scikit-learn.org/stable/modules/generated/sklearn.model_selection.GridSearchCV.html#sklearn.model_selection.GridSearchCV).     \n",
    "\n",
    "The mandatory parameters are \n",
    "* estimator : estimator object with scikit-learn estimator interface;\n",
    "* param_grid : dict or list of dictionaries. Dictionary with parameters names (string) as keys and lists of parameter settings to try as values, or a list of such dictionaries, in which case the grids spanned by each dictionary in the list are explored. This enables searching over any sequence of parameter settings.  \n",
    "The parameters of the estimator are optimized by cross-validated grid-search over a parameter grid.  \n",
    "\n",
    "In order to apply *GridSearchCV* to XGBoost parameter tunning we need Scikit-Learn Wrapper interface for XGBoost. Class *XGBRegressor* is implementation of the scikit-learn API for XGBoost regression, *XGBClassifier* - for classification. See [Python API reference](http://xgboost.readthedocs.io/en/latest/python/python_api.html) for more details.  \n",
    "\n",
    "Repeat the last model fitting and RMSE calculation in terms of *XGBRegressor*. "
   ]
  },
  {
   "cell_type": "code",
   "execution_count": 32,
   "metadata": {},
   "outputs": [
    {
     "name": "stdout",
     "output_type": "stream",
     "text": [
      "0.017190909698329128\n"
     ]
    }
   ],
   "source": [
    "regSalary = XGBRegressor(objective='reg:squarederror',n_estimators=bestNR)\n",
    "regSalary.fit(X,y)\n",
    "print(RMSE(y,regSalary.predict(X)))"
   ]
  },
  {
   "cell_type": "markdown",
   "metadata": {},
   "source": [
    "The result is different from the one above. The point is that some parameters in  *XGBRegressor* constructor have default values different from those in *xgb.train* call. Set two additional parameters *max_depth* and *learning_rate* to their *xgb.train* default values."
   ]
  },
  {
   "cell_type": "code",
   "execution_count": 33,
   "metadata": {},
   "outputs": [
    {
     "name": "stdout",
     "output_type": "stream",
     "text": [
      "0.017190909698329128\n"
     ]
    }
   ],
   "source": [
    "regSalary = XGBRegressor(objective='reg:squarederror',n_estimators=bestNR,max_depth=6,\n",
    "                         learning_rate=0.3)\n",
    "regSalary.fit(X,y)\n",
    "print(RMSE(y,regSalary.predict(X)))"
   ]
  },
  {
   "cell_type": "markdown",
   "metadata": {},
   "source": [
    "With new values we reproduced result.  \n",
    "\n",
    "Proceed to the greed search. Prepare the grid of parameters."
   ]
  },
  {
   "cell_type": "code",
   "execution_count": 34,
   "metadata": {},
   "outputs": [],
   "source": [
    "# xgboost task parameters\n",
    "folds = 3\n",
    "\n",
    "# Parameters grid to search\n",
    "param_test1 = {\n",
    "    'learning_rate':[.3,.15,.05],\n",
    "    'max_depth':[4,5,6],\n",
    "    'n_estimators':np.append(range(30,90,10),bestNR)\n",
    "}"
   ]
  },
  {
   "cell_type": "markdown",
   "metadata": {},
   "source": [
    "Run grid search."
   ]
  },
  {
   "cell_type": "code",
   "execution_count": 35,
   "metadata": {
    "scrolled": true
   },
   "outputs": [
    {
     "data": {
      "text/plain": [
       "GridSearchCV(cv=3,\n",
       "             estimator=XGBRegressor(base_score=None, booster=None,\n",
       "                                    colsample_bylevel=None,\n",
       "                                    colsample_bynode=None,\n",
       "                                    colsample_bytree=None,\n",
       "                                    enable_categorical=False, gamma=None,\n",
       "                                    gpu_id=None, importance_type=None,\n",
       "                                    interaction_constraints=None,\n",
       "                                    learning_rate=None, max_delta_step=None,\n",
       "                                    max_depth=None, min_child_weight=None,\n",
       "                                    missing=nan, monotone_constraints=None,\n",
       "                                    n...hread=1,\n",
       "                                    num_parallel_tree=None, predictor=None,\n",
       "                                    random_state=None, reg_alpha=None,\n",
       "                                    reg_lambda=None, scale_pos_weight=None,\n",
       "                                    seed=0, subsample=None, tree_method=None,\n",
       "                                    validate_parameters=None, verbosity=None),\n",
       "             n_jobs=-1,\n",
       "             param_grid={'learning_rate': [0.3, 0.15, 0.05],\n",
       "                         'max_depth': [4, 5, 6],\n",
       "                         'n_estimators': array([30, 40, 50, 60, 70, 80, 42])},\n",
       "             scoring='neg_mean_squared_error')"
      ]
     },
     "execution_count": 35,
     "metadata": {},
     "output_type": "execute_result"
    }
   ],
   "source": [
    "grid = GridSearchCV(estimator = XGBRegressor(objective= 'reg:squarederror',\n",
    "                    nthread=1, seed=0), scoring = 'neg_mean_squared_error',\n",
    "                    param_grid = param_test1, n_jobs=-1,cv=folds)\n",
    "grid.fit(X, y)"
   ]
  },
  {
   "cell_type": "markdown",
   "metadata": {},
   "source": [
    "The results are stored in the attribute *cv_results_*."
   ]
  },
  {
   "cell_type": "code",
   "execution_count": 36,
   "metadata": {
    "scrolled": true
   },
   "outputs": [
    {
     "data": {
      "text/plain": [
       "dict_keys(['mean_fit_time', 'std_fit_time', 'mean_score_time', 'std_score_time', 'param_learning_rate', 'param_max_depth', 'param_n_estimators', 'params', 'split0_test_score', 'split1_test_score', 'split2_test_score', 'mean_test_score', 'std_test_score', 'rank_test_score'])"
      ]
     },
     "execution_count": 36,
     "metadata": {},
     "output_type": "execute_result"
    }
   ],
   "source": [
    "grid.cv_results_.keys()"
   ]
  },
  {
   "cell_type": "code",
   "execution_count": 37,
   "metadata": {},
   "outputs": [
    {
     "name": "stdout",
     "output_type": "stream",
     "text": [
      "0.233761 with:  {'learning_rate': 0.3, 'max_depth': 4, 'n_estimators': 30}\n",
      "0.234438 with:  {'learning_rate': 0.3, 'max_depth': 4, 'n_estimators': 40}\n",
      "0.235926 with:  {'learning_rate': 0.3, 'max_depth': 4, 'n_estimators': 50}\n",
      "0.236492 with:  {'learning_rate': 0.3, 'max_depth': 4, 'n_estimators': 60}\n",
      "0.236515 with:  {'learning_rate': 0.3, 'max_depth': 4, 'n_estimators': 70}\n",
      "0.236556 with:  {'learning_rate': 0.3, 'max_depth': 4, 'n_estimators': 80}\n",
      "0.234384 with:  {'learning_rate': 0.3, 'max_depth': 4, 'n_estimators': 42}\n",
      "0.226786 with:  {'learning_rate': 0.3, 'max_depth': 5, 'n_estimators': 30}\n",
      "0.226007 with:  {'learning_rate': 0.3, 'max_depth': 5, 'n_estimators': 40}\n",
      "0.226256 with:  {'learning_rate': 0.3, 'max_depth': 5, 'n_estimators': 50}\n",
      "0.226358 with:  {'learning_rate': 0.3, 'max_depth': 5, 'n_estimators': 60}\n",
      "0.226338 with:  {'learning_rate': 0.3, 'max_depth': 5, 'n_estimators': 70}\n",
      "0.226433 with:  {'learning_rate': 0.3, 'max_depth': 5, 'n_estimators': 80}\n",
      "0.226276 with:  {'learning_rate': 0.3, 'max_depth': 5, 'n_estimators': 42}\n",
      "0.241332 with:  {'learning_rate': 0.3, 'max_depth': 6, 'n_estimators': 30}\n",
      "0.242501 with:  {'learning_rate': 0.3, 'max_depth': 6, 'n_estimators': 40}\n",
      "0.243277 with:  {'learning_rate': 0.3, 'max_depth': 6, 'n_estimators': 50}\n",
      "0.243516 with:  {'learning_rate': 0.3, 'max_depth': 6, 'n_estimators': 60}\n",
      "0.243531 with:  {'learning_rate': 0.3, 'max_depth': 6, 'n_estimators': 70}\n",
      "0.243531 with:  {'learning_rate': 0.3, 'max_depth': 6, 'n_estimators': 80}\n",
      "0.242987 with:  {'learning_rate': 0.3, 'max_depth': 6, 'n_estimators': 42}\n",
      "0.220940 with:  {'learning_rate': 0.15, 'max_depth': 4, 'n_estimators': 30}\n",
      "0.212968 with:  {'learning_rate': 0.15, 'max_depth': 4, 'n_estimators': 40}\n",
      "0.214448 with:  {'learning_rate': 0.15, 'max_depth': 4, 'n_estimators': 50}\n",
      "0.215219 with:  {'learning_rate': 0.15, 'max_depth': 4, 'n_estimators': 60}\n",
      "0.218407 with:  {'learning_rate': 0.15, 'max_depth': 4, 'n_estimators': 70}\n",
      "0.219102 with:  {'learning_rate': 0.15, 'max_depth': 4, 'n_estimators': 80}\n",
      "0.213248 with:  {'learning_rate': 0.15, 'max_depth': 4, 'n_estimators': 42}\n",
      "0.221516 with:  {'learning_rate': 0.15, 'max_depth': 5, 'n_estimators': 30}\n",
      "0.219636 with:  {'learning_rate': 0.15, 'max_depth': 5, 'n_estimators': 40}\n",
      "0.219846 with:  {'learning_rate': 0.15, 'max_depth': 5, 'n_estimators': 50}\n",
      "0.220575 with:  {'learning_rate': 0.15, 'max_depth': 5, 'n_estimators': 60}\n",
      "0.220567 with:  {'learning_rate': 0.15, 'max_depth': 5, 'n_estimators': 70}\n",
      "0.220864 with:  {'learning_rate': 0.15, 'max_depth': 5, 'n_estimators': 80}\n",
      "0.219313 with:  {'learning_rate': 0.15, 'max_depth': 5, 'n_estimators': 42}\n",
      "0.221772 with:  {'learning_rate': 0.15, 'max_depth': 6, 'n_estimators': 30}\n",
      "0.215991 with:  {'learning_rate': 0.15, 'max_depth': 6, 'n_estimators': 40}\n",
      "0.215242 with:  {'learning_rate': 0.15, 'max_depth': 6, 'n_estimators': 50}\n",
      "0.216610 with:  {'learning_rate': 0.15, 'max_depth': 6, 'n_estimators': 60}\n",
      "0.217371 with:  {'learning_rate': 0.15, 'max_depth': 6, 'n_estimators': 70}\n",
      "0.217475 with:  {'learning_rate': 0.15, 'max_depth': 6, 'n_estimators': 80}\n",
      "0.215082 with:  {'learning_rate': 0.15, 'max_depth': 6, 'n_estimators': 42}\n",
      "1.724957 with:  {'learning_rate': 0.05, 'max_depth': 4, 'n_estimators': 30}\n",
      "0.795559 with:  {'learning_rate': 0.05, 'max_depth': 4, 'n_estimators': 40}\n",
      "0.437231 with:  {'learning_rate': 0.05, 'max_depth': 4, 'n_estimators': 50}\n",
      "0.306158 with:  {'learning_rate': 0.05, 'max_depth': 4, 'n_estimators': 60}\n",
      "0.255135 with:  {'learning_rate': 0.05, 'max_depth': 4, 'n_estimators': 70}\n",
      "0.233453 with:  {'learning_rate': 0.05, 'max_depth': 4, 'n_estimators': 80}\n",
      "0.689762 with:  {'learning_rate': 0.05, 'max_depth': 4, 'n_estimators': 42}\n",
      "1.725399 with:  {'learning_rate': 0.05, 'max_depth': 5, 'n_estimators': 30}\n",
      "0.794751 with:  {'learning_rate': 0.05, 'max_depth': 5, 'n_estimators': 40}\n",
      "0.445921 with:  {'learning_rate': 0.05, 'max_depth': 5, 'n_estimators': 50}\n",
      "0.316327 with:  {'learning_rate': 0.05, 'max_depth': 5, 'n_estimators': 60}\n",
      "0.266237 with:  {'learning_rate': 0.05, 'max_depth': 5, 'n_estimators': 70}\n",
      "0.243067 with:  {'learning_rate': 0.05, 'max_depth': 5, 'n_estimators': 80}\n",
      "0.697045 with:  {'learning_rate': 0.05, 'max_depth': 5, 'n_estimators': 42}\n",
      "1.725125 with:  {'learning_rate': 0.05, 'max_depth': 6, 'n_estimators': 30}\n",
      "0.799005 with:  {'learning_rate': 0.05, 'max_depth': 6, 'n_estimators': 40}\n",
      "0.448311 with:  {'learning_rate': 0.05, 'max_depth': 6, 'n_estimators': 50}\n",
      "0.318246 with:  {'learning_rate': 0.05, 'max_depth': 6, 'n_estimators': 60}\n",
      "0.262966 with:  {'learning_rate': 0.05, 'max_depth': 6, 'n_estimators': 70}\n",
      "0.237759 with:  {'learning_rate': 0.05, 'max_depth': 6, 'n_estimators': 80}\n",
      "0.700177 with:  {'learning_rate': 0.05, 'max_depth': 6, 'n_estimators': 42}\n"
     ]
    }
   ],
   "source": [
    "# summarize results\n",
    "for mean,param in zip(grid.cv_results_['mean_test_score'],grid.cv_results_['params']):\n",
    "    print(\"%f with: \" % -mean,param)"
   ]
  },
  {
   "cell_type": "markdown",
   "metadata": {},
   "source": [
    "Show optimal set of parameters and compare MSE with the results before tunning, stored in *bestRMSE*."
   ]
  },
  {
   "cell_type": "code",
   "execution_count": 38,
   "metadata": {},
   "outputs": [
    {
     "name": "stdout",
     "output_type": "stream",
     "text": [
      "MSE before tunning: 0.213916\n",
      "Best MSE after tunning: 0.212968 using {'learning_rate': 0.15, 'max_depth': 4, 'n_estimators': 40}\n"
     ]
    }
   ],
   "source": [
    "print('MSE before tunning: %f' % bestRMSE**2)\n",
    "print(\"Best MSE after tunning: %f using %s\" % (-grid.best_score_,grid.best_params_))"
   ]
  },
  {
   "cell_type": "markdown",
   "metadata": {},
   "source": [
    "Visible improvement. "
   ]
  },
  {
   "cell_type": "markdown",
   "metadata": {},
   "source": [
    "## Example: Large Number of Predictors\n",
    "\n",
    "Consider the example analyzed in the workshop Linear Regression with Large Number of Predictors. Simulate data"
   ]
  },
  {
   "cell_type": "code",
   "execution_count": 39,
   "metadata": {},
   "outputs": [],
   "source": [
    "N = 500\n",
    "np.random.seed(0)\n",
    "Epsilon = np.random.normal(size=N)\n",
    "X = pd.DataFrame(np.random.normal(0, 2, size=(N,N))).add_prefix('X')\n",
    "slopesSet = np.random.uniform(1,3,N)\n",
    "Y = [1 + X.iloc[:,:z] @ slopesSet[:z] + Epsilon for z in np.arange(1,N)]\n",
    "X.head(5)\n",
    "m = 440\n",
    "X,y = X.iloc[:,:m],Y[m-1]"
   ]
  },
  {
   "cell_type": "markdown",
   "metadata": {},
   "source": [
    "### Random forest"
   ]
  },
  {
   "cell_type": "code",
   "execution_count": 40,
   "metadata": {},
   "outputs": [
    {
     "data": {
      "text/plain": [
       "<matplotlib.legend.Legend at 0x7f9c152cc910>"
      ]
     },
     "execution_count": 40,
     "metadata": {},
     "output_type": "execute_result"
    },
    {
     "data": {
      "image/png": "[encoded data removed]",
      "text/plain": [
       "<Figure size 432x288 with 1 Axes>"
      ]
     },
     "metadata": {},
     "output_type": "display_data"
    }
   ],
   "source": [
    "# set warm_start=True to reuse the solution of the previous call to fit\n",
    "rfManyReg = RandomForestRegressor(warm_start=True,random_state=0,oob_score=True,\n",
    "                                 n_jobs=-1)\n",
    "min_estimators = 30\n",
    "max_estimators = 250\n",
    "step = 5\n",
    "est_range = np.arange(min_estimators, max_estimators + 1,step)\n",
    "error_rate = np.zeros((max_estimators-min_estimators)//step+1)\n",
    "\n",
    "for i in est_range:\n",
    "    rfManyReg.set_params(n_estimators=i)\n",
    "    rfManyReg.fit(X, y)\n",
    "    error_rate[(i-min_estimators)//step] = RMSE(y,rfManyReg.oob_prediction_)**2   \n",
    "        \n",
    "plt.plot(est_range,error_rate)\n",
    "plt.legend(['OOB MSE'])"
   ]
  },
  {
   "cell_type": "markdown",
   "metadata": {},
   "source": [
    "Seems like 150 trees is quite enough for the model. In the previous lectures we got 10 fold cross validation MSE for linear model about 45 and for regression tree it was above 13000. Calculate the score for random forest."
   ]
  },
  {
   "cell_type": "code",
   "execution_count": 41,
   "metadata": {},
   "outputs": [
    {
     "name": "stdout",
     "output_type": "stream",
     "text": [
      "Random Forest Regressor model CV MSE =  6893.088154055944\n"
     ]
    }
   ],
   "source": [
    "rf150 = RandomForestRegressor(random_state=0,n_estimators=150,n_jobs=-1)\n",
    "print ('Random Forest Regressor model CV MSE = ',\n",
    "       -np.mean(cross_val_score(rf150, X, y,scoring='neg_mean_squared_error',cv=10)))"
   ]
  },
  {
   "cell_type": "markdown",
   "metadata": {},
   "source": [
    "Significant improvement compare to regression tree but far behind the linear model."
   ]
  },
  {
   "cell_type": "markdown",
   "metadata": {},
   "source": [
    "#### Importance of predictors"
   ]
  },
  {
   "cell_type": "code",
   "execution_count": 42,
   "metadata": {
    "scrolled": true
   },
   "outputs": [
    {
     "data": {
      "image/png": "[encoded data removed]",
      "text/plain": [
       "<Figure size 432x288 with 1 Axes>"
      ]
     },
     "metadata": {},
     "output_type": "display_data"
    }
   ],
   "source": [
    "imp = pd.DataFrame({'importance':rfManyReg.feature_importances_,'slope':slopesSet[:m]},\n",
    "                   index=list(X)).sort_values('importance')\n",
    "imp[-10:].importance.plot(kind = 'barh')\n",
    "_ = plt.title('Variable Importance')"
   ]
  },
  {
   "cell_type": "code",
   "execution_count": 43,
   "metadata": {},
   "outputs": [
    {
     "data": {
      "image/png": "[encoded data removed]",
      "text/plain": [
       "<Figure size 432x288 with 1 Axes>"
      ]
     },
     "metadata": {},
     "output_type": "display_data"
    }
   ],
   "source": [
    "imp.plot(x='importance',y='slope',kind='scatter')\n",
    "_ = plt.xlim(0,0.01) "
   ]
  },
  {
   "cell_type": "code",
   "execution_count": 44,
   "metadata": {},
   "outputs": [
    {
     "data": {
      "text/plain": [
       "array([[434,  61],\n",
       "       [435, 362],\n",
       "       [436, 192],\n",
       "       [437, 334],\n",
       "       [438, 240],\n",
       "       [439, 383]])"
      ]
     },
     "execution_count": 44,
     "metadata": {},
     "output_type": "execute_result"
    }
   ],
   "source": [
    "np.column_stack((np.argsort(imp.importance),np.argsort(imp.slope)))[-6:]"
   ]
  },
  {
   "cell_type": "markdown",
   "metadata": {},
   "source": [
    "Recall that all parameters are simulated as significant and all predictors are independent by construction.     \n",
    "The larger the coefficient - the more significant should be the predictor.     \n",
    "Random tree may not be assigning importance correctly in this case.    \n",
    "\n",
    "### Gradient boosting"
   ]
  },
  {
   "cell_type": "code",
   "execution_count": 45,
   "metadata": {
    "scrolled": true
   },
   "outputs": [
    {
     "name": "stdout",
     "output_type": "stream",
     "text": [
      "[0]\ttrain-rmse:79.66091+1.21139\ttest-rmse:85.04131+5.65031\n",
      "[30]\ttrain-rmse:15.97450+0.64425\ttest-rmse:83.32256+5.58243\n",
      "[60]\ttrain-rmse:3.96596+0.19723\ttest-rmse:82.22857+5.64256\n",
      "[90]\ttrain-rmse:1.14471+0.06450\ttest-rmse:82.12544+5.61033\n",
      "[120]\ttrain-rmse:0.36028+0.04411\ttest-rmse:82.06293+5.61384\n",
      "[150]\ttrain-rmse:0.12045+0.01786\ttest-rmse:82.05734+5.61272\n",
      "[180]\ttrain-rmse:0.04319+0.00874\ttest-rmse:82.05688+5.61281\n",
      "[210]\ttrain-rmse:0.01591+0.00380\ttest-rmse:82.05488+5.61303\n",
      "[240]\ttrain-rmse:0.00542+0.00117\ttest-rmse:82.05439+5.61287\n",
      "[270]\ttrain-rmse:0.00201+0.00050\ttest-rmse:82.05429+5.61281\n",
      "[299]\ttrain-rmse:0.00079+0.00020\ttest-rmse:82.05428+5.61277\n",
      "best number of rounds = 129\n",
      "XGBoost MSE = 6732.866071110701\n"
     ]
    },
    {
     "data": {
      "image/png": "[encoded data removed]",
      "text/plain": [
       "<Figure size 432x288 with 1 Axes>"
      ]
     },
     "metadata": {},
     "output_type": "display_data"
    }
   ],
   "source": [
    "param = {'objective': 'reg:squarederror', 'max_depth' : 3}\n",
    "dtrain = xgb.DMatrix(X, label=y)\n",
    "gbManyReg = xgb.cv(param, dtrain, nfold = 5,num_boost_round=300,verbose_eval=30)\n",
    "\n",
    "eps = 1e-6\n",
    "bestNR = np.argmax(gbManyReg['test-rmse-mean']<eps+min(gbManyReg['test-rmse-mean']))\n",
    "bestRMSE = gbManyReg.loc[bestNR,'test-rmse-mean']\n",
    "plt.plot(gbManyReg['test-rmse-mean'])\n",
    "print('best number of rounds =',bestNR)\n",
    "print('XGBoost MSE =',bestRMSE**2) #using bestNR"
   ]
  },
  {
   "cell_type": "markdown",
   "metadata": {},
   "source": [
    "We see that even advanced tree models can not treat complicated linear model when linear model is able to fit the data.   \n",
    "\n",
    "**General Conclusion**. Linear model may not be the best choice in all cases. But if it works - it works better than other models.    \n",
    "Same is true in general about any parametric model in comparison with non-parametric approaches.\n",
    "\n",
    "# Classification\n",
    "\n",
    "## Otto Product Classification Example\n",
    "\n",
    "In this example we use data set provided by **Otto Group** for **Kaggle** competition [Otto Group Product Classification Challenge](https://www.kaggle.com/c/otto-group-product-classification-challenge).      \n",
    "\n",
    "Otto Group needed categorizing about 200,000 unspecified products into 9 classes based on 93 unspecified features. For simplicity we reduced the number of visitors and the number of classes.     "
   ]
  },
  {
   "cell_type": "markdown",
   "metadata": {},
   "source": [
    "Load the data set."
   ]
  },
  {
   "cell_type": "code",
   "execution_count": 46,
   "metadata": {},
   "outputs": [
    {
     "data": {
      "text/html": [
       "<div>\n",
       "<style scoped>\n",
       "    .dataframe tbody tr th:only-of-type {\n",
       "        vertical-align: middle;\n",
       "    }\n",
       "\n",
       "    .dataframe tbody tr th {\n",
       "        vertical-align: top;\n",
       "    }\n",
       "\n",
       "    .dataframe thead th {\n",
       "        text-align: right;\n",
       "    }\n",
       "</style>\n",
       "<table border=\"1\" class=\"dataframe\">\n",
       "  <thead>\n",
       "    <tr style=\"text-align: right;\">\n",
       "      <th></th>\n",
       "      <th>time</th>\n",
       "      <th>feat_1</th>\n",
       "      <th>feat_2</th>\n",
       "      <th>feat_3</th>\n",
       "      <th>feat_4</th>\n",
       "      <th>feat_5</th>\n",
       "      <th>feat_6</th>\n",
       "      <th>feat_7</th>\n",
       "      <th>feat_8</th>\n",
       "      <th>feat_9</th>\n",
       "      <th>...</th>\n",
       "      <th>feat_85</th>\n",
       "      <th>feat_86</th>\n",
       "      <th>feat_87</th>\n",
       "      <th>feat_88</th>\n",
       "      <th>feat_89</th>\n",
       "      <th>feat_90</th>\n",
       "      <th>feat_91</th>\n",
       "      <th>feat_92</th>\n",
       "      <th>feat_93</th>\n",
       "      <th>target</th>\n",
       "    </tr>\n",
       "  </thead>\n",
       "  <tbody>\n",
       "    <tr>\n",
       "      <th>0</th>\n",
       "      <td>45652</td>\n",
       "      <td>0.0</td>\n",
       "      <td>0.0</td>\n",
       "      <td>0.0</td>\n",
       "      <td>0.0</td>\n",
       "      <td>0.0</td>\n",
       "      <td>0.0</td>\n",
       "      <td>0.0</td>\n",
       "      <td>0.0</td>\n",
       "      <td>0.0</td>\n",
       "      <td>...</td>\n",
       "      <td>0.0</td>\n",
       "      <td>1.0</td>\n",
       "      <td>0.0</td>\n",
       "      <td>0.0</td>\n",
       "      <td>0.0</td>\n",
       "      <td>0.0</td>\n",
       "      <td>0.0</td>\n",
       "      <td>1.0</td>\n",
       "      <td>0.0</td>\n",
       "      <td>Class_5</td>\n",
       "    </tr>\n",
       "    <tr>\n",
       "      <th>1</th>\n",
       "      <td>225646</td>\n",
       "      <td>0.0</td>\n",
       "      <td>0.0</td>\n",
       "      <td>0.0</td>\n",
       "      <td>0.0</td>\n",
       "      <td>0.0</td>\n",
       "      <td>0.0</td>\n",
       "      <td>0.0</td>\n",
       "      <td>1.0</td>\n",
       "      <td>0.0</td>\n",
       "      <td>...</td>\n",
       "      <td>0.0</td>\n",
       "      <td>0.0</td>\n",
       "      <td>0.0</td>\n",
       "      <td>0.0</td>\n",
       "      <td>0.0</td>\n",
       "      <td>0.0</td>\n",
       "      <td>1.0</td>\n",
       "      <td>1.0</td>\n",
       "      <td>0.0</td>\n",
       "      <td>Class_3</td>\n",
       "    </tr>\n",
       "    <tr>\n",
       "      <th>2</th>\n",
       "      <td>345735</td>\n",
       "      <td>0.0</td>\n",
       "      <td>0.0</td>\n",
       "      <td>0.0</td>\n",
       "      <td>0.0</td>\n",
       "      <td>0.0</td>\n",
       "      <td>0.0</td>\n",
       "      <td>0.0</td>\n",
       "      <td>2.0</td>\n",
       "      <td>0.0</td>\n",
       "      <td>...</td>\n",
       "      <td>0.0</td>\n",
       "      <td>7.0</td>\n",
       "      <td>4.0</td>\n",
       "      <td>0.0</td>\n",
       "      <td>0.0</td>\n",
       "      <td>0.0</td>\n",
       "      <td>0.0</td>\n",
       "      <td>0.0</td>\n",
       "      <td>0.0</td>\n",
       "      <td>Class_5</td>\n",
       "    </tr>\n",
       "    <tr>\n",
       "      <th>3</th>\n",
       "      <td>436478</td>\n",
       "      <td>0.0</td>\n",
       "      <td>0.0</td>\n",
       "      <td>0.0</td>\n",
       "      <td>0.0</td>\n",
       "      <td>0.0</td>\n",
       "      <td>0.0</td>\n",
       "      <td>0.0</td>\n",
       "      <td>1.0</td>\n",
       "      <td>0.0</td>\n",
       "      <td>...</td>\n",
       "      <td>0.0</td>\n",
       "      <td>0.0</td>\n",
       "      <td>0.0</td>\n",
       "      <td>0.0</td>\n",
       "      <td>0.0</td>\n",
       "      <td>0.0</td>\n",
       "      <td>0.0</td>\n",
       "      <td>1.0</td>\n",
       "      <td>0.0</td>\n",
       "      <td>Class_5</td>\n",
       "    </tr>\n",
       "    <tr>\n",
       "      <th>4</th>\n",
       "      <td>478129</td>\n",
       "      <td>0.0</td>\n",
       "      <td>0.0</td>\n",
       "      <td>0.0</td>\n",
       "      <td>0.0</td>\n",
       "      <td>0.0</td>\n",
       "      <td>0.0</td>\n",
       "      <td>0.0</td>\n",
       "      <td>1.0</td>\n",
       "      <td>0.0</td>\n",
       "      <td>...</td>\n",
       "      <td>0.0</td>\n",
       "      <td>1.0</td>\n",
       "      <td>0.0</td>\n",
       "      <td>0.0</td>\n",
       "      <td>0.0</td>\n",
       "      <td>0.0</td>\n",
       "      <td>0.0</td>\n",
       "      <td>0.0</td>\n",
       "      <td>0.0</td>\n",
       "      <td>Class_5</td>\n",
       "    </tr>\n",
       "  </tbody>\n",
       "</table>\n",
       "<p>5 rows × 95 columns</p>\n",
       "</div>"
      ],
      "text/plain": [
       "     time  feat_1  feat_2  feat_3  feat_4  feat_5  feat_6  feat_7  feat_8  \\\n",
       "0   45652     0.0     0.0     0.0     0.0     0.0     0.0     0.0     0.0   \n",
       "1  225646     0.0     0.0     0.0     0.0     0.0     0.0     0.0     1.0   \n",
       "2  345735     0.0     0.0     0.0     0.0     0.0     0.0     0.0     2.0   \n",
       "3  436478     0.0     0.0     0.0     0.0     0.0     0.0     0.0     1.0   \n",
       "4  478129     0.0     0.0     0.0     0.0     0.0     0.0     0.0     1.0   \n",
       "\n",
       "   feat_9  ...  feat_85  feat_86  feat_87  feat_88  feat_89  feat_90  feat_91  \\\n",
       "0     0.0  ...      0.0      1.0      0.0      0.0      0.0      0.0      0.0   \n",
       "1     0.0  ...      0.0      0.0      0.0      0.0      0.0      0.0      1.0   \n",
       "2     0.0  ...      0.0      7.0      4.0      0.0      0.0      0.0      0.0   \n",
       "3     0.0  ...      0.0      0.0      0.0      0.0      0.0      0.0      0.0   \n",
       "4     0.0  ...      0.0      1.0      0.0      0.0      0.0      0.0      0.0   \n",
       "\n",
       "   feat_92  feat_93   target  \n",
       "0      1.0      0.0  Class_5  \n",
       "1      1.0      0.0  Class_3  \n",
       "2      0.0      0.0  Class_5  \n",
       "3      1.0      0.0  Class_5  \n",
       "4      0.0      0.0  Class_5  \n",
       "\n",
       "[5 rows x 95 columns]"
      ]
     },
     "execution_count": 46,
     "metadata": {},
     "output_type": "execute_result"
    }
   ],
   "source": [
    "Data = pd.read_csv('DTTrain.csv')\n",
    "Data.shape # dataset dimensions\n",
    "# data content\n",
    "Data.head()"
   ]
  },
  {
   "cell_type": "markdown",
   "metadata": {},
   "source": [
    "Encode labels of target column and partition data into train (2/3) and test (1/3) sets."
   ]
  },
  {
   "cell_type": "code",
   "execution_count": 47,
   "metadata": {},
   "outputs": [],
   "source": [
    "X = Data.drop(['time','target'],axis=1)\n",
    "y = LabelEncoder().fit_transform(Data.target)\n",
    "xTrain, xTest, yTrain, yTest = train_test_split(X, y,test_size=1/3, random_state=0)"
   ]
  },
  {
   "cell_type": "markdown",
   "metadata": {},
   "source": [
    "### Random forest    \n",
    "\n",
    "Fit random forest to the train data and make prediction on the test data."
   ]
  },
  {
   "cell_type": "code",
   "execution_count": 48,
   "metadata": {},
   "outputs": [
    {
     "data": {
      "text/plain": [
       "array([[0.04, 0.16, 0.03, 0.69, 0.08],\n",
       "       [0.06, 0.66, 0.  , 0.04, 0.24],\n",
       "       [0.04, 0.8 , 0.03, 0.07, 0.06],\n",
       "       [0.  , 0.98, 0.  , 0.02, 0.  ]])"
      ]
     },
     "execution_count": 48,
     "metadata": {},
     "output_type": "execute_result"
    }
   ],
   "source": [
    "rfOtto = RandomForestClassifier(n_estimators=100,random_state=0,n_jobs=-1)\n",
    "rfOtto.fit(xTrain,yTrain)\n",
    "rfPred = rfOtto.predict_proba(xTest,)\n",
    "rfPred[1:5]"
   ]
  },
  {
   "cell_type": "markdown",
   "metadata": {},
   "source": [
    "Use Multiclass logloss for estimating prediction quality. Calculate it for random forest."
   ]
  },
  {
   "cell_type": "code",
   "execution_count": 49,
   "metadata": {
    "attributes": {
     "classes": [],
     "id": "",
     "rfLogLoss,message": "F"
    }
   },
   "outputs": [
    {
     "name": "stdout",
     "output_type": "stream",
     "text": [
      "Random forest logloss 0.3944973844089365\n"
     ]
    }
   ],
   "source": [
    "rfLogLoss = log_loss(yTest, rfPred)\n",
    "print('Random forest logloss',rfLogLoss)"
   ]
  },
  {
   "cell_type": "markdown",
   "metadata": {},
   "source": [
    "### Gradient boosting    \n",
    "\n",
    "Set parameters and create *DMatrix* from train set."
   ]
  },
  {
   "cell_type": "code",
   "execution_count": 50,
   "metadata": {},
   "outputs": [],
   "source": [
    "param = {\"objective\" : \"multi:softprob\",\"eval_metric\" : \"mlogloss\",\n",
    "         \"num_class\" : max(y) + 1 }\n",
    "dtrain = xgb.DMatrix(xTrain, yTrain)"
   ]
  },
  {
   "cell_type": "markdown",
   "metadata": {},
   "source": [
    "The choice of `\"objective\" = \"multi:softprob\"` represents generalization of logistic link into multiple classes and returns a matrix of class probabilities, as opposed to `\"objective\" = \"multi:softmax\"` which returns the class of maximum probability.   \n",
    "\n",
    "Run 3-fold cross validation."
   ]
  },
  {
   "cell_type": "code",
   "execution_count": 51,
   "metadata": {
    "attributes": {
     "classes": [
      "r "
     ],
     "id": ""
    }
   },
   "outputs": [
    {
     "name": "stdout",
     "output_type": "stream",
     "text": [
      "[0]\ttrain-mlogloss:1.16171\ttest-mlogloss:1.18919\n",
      "[1]\ttrain-mlogloss:0.92361\ttest-mlogloss:0.96727\n",
      "[2]\ttrain-mlogloss:0.76343\ttest-mlogloss:0.82037\n",
      "[3]\ttrain-mlogloss:0.64553\ttest-mlogloss:0.71391\n",
      "[4]\ttrain-mlogloss:0.55661\ttest-mlogloss:0.63497\n",
      "[5]\ttrain-mlogloss:0.48713\ttest-mlogloss:0.57471\n",
      "[6]\ttrain-mlogloss:0.43178\ttest-mlogloss:0.52709\n",
      "[7]\ttrain-mlogloss:0.38724\ttest-mlogloss:0.48910\n",
      "[8]\ttrain-mlogloss:0.35004\ttest-mlogloss:0.45961\n",
      "[9]\ttrain-mlogloss:0.31938\ttest-mlogloss:0.43560\n"
     ]
    }
   ],
   "source": [
    "cv_nround = 10\n",
    "cv_nfold = 3\n",
    "bst_cv = xgb.cv(param, dtrain, nfold = cv_nfold, num_boost_round=cv_nround,\n",
    "               verbose_eval=1, show_stdv=False)"
   ]
  },
  {
   "cell_type": "markdown",
   "metadata": {},
   "source": [
    "Since *test-mlogloss* continues decreasing in the process of cross validation we know that the model is not over-fitting.    \n",
    "But this also may mean that the fit can be better.     \n",
    "Make prediction with this number of rounds."
   ]
  },
  {
   "cell_type": "code",
   "execution_count": 52,
   "metadata": {},
   "outputs": [
    {
     "data": {
      "text/plain": [
       "array([[0.16967867, 0.04487576, 0.05460636, 0.03671249, 0.6941268 ],\n",
       "       [0.03951951, 0.08995124, 0.01087384, 0.8404624 , 0.01919306],\n",
       "       [0.05057852, 0.7855911 , 0.02884467, 0.04046924, 0.0945164 ],\n",
       "       [0.03765826, 0.7789637 , 0.04230748, 0.04383379, 0.09723675],\n",
       "       [0.02068921, 0.90096563, 0.01754955, 0.03620085, 0.0245948 ],\n",
       "       [0.0148361 , 0.01472895, 0.9335279 , 0.02023944, 0.0166676 ]],\n",
       "      dtype=float32)"
      ]
     },
     "execution_count": 52,
     "metadata": {},
     "output_type": "execute_result"
    }
   ],
   "source": [
    "bst = xgb.train(param, dtrain,num_boost_round=cv_nround)\n",
    "xgbPred = bst.predict(xgb.DMatrix(xTest))\n",
    "xgbPred[:6]"
   ]
  },
  {
   "cell_type": "markdown",
   "metadata": {},
   "source": [
    "Compare prediction quality of random forest and gradient boosting"
   ]
  },
  {
   "cell_type": "code",
   "execution_count": 53,
   "metadata": {},
   "outputs": [
    {
     "name": "stdout",
     "output_type": "stream",
     "text": [
      "Random forest logloss 0.3944973844089365\n",
      "XGBoost logloss 0.42086776643576457\n"
     ]
    }
   ],
   "source": [
    "print('Random forest logloss',rfLogLoss)\n",
    "print('XGBoost logloss',log_loss(yTest, xgbPred))"
   ]
  },
  {
   "cell_type": "markdown",
   "metadata": {},
   "source": [
    "**Try to play with `xgboost` parameters (num_boost_round, learning_rate (eta), max_depth etc.) in order to improve its forecast.**    \n",
    "**Can it do better than random forest on these data?**\n",
    "\n",
    "<span style=\"color:red\">(Skipped Code)</span>"
   ]
  },
  {
   "cell_type": "code",
   "execution_count": 54,
   "metadata": {
    "attributes": {
     "classes": [],
     "id": "",
     "improvedXGB,echo": "conditionalEcho"
    }
   },
   "outputs": [
    {
     "name": "stdout",
     "output_type": "stream",
     "text": [
      "[0]\ttrain-mlogloss:1.16171\ttest-mlogloss:1.18919\n",
      "[1]\ttrain-mlogloss:0.92361\ttest-mlogloss:0.96727\n",
      "[2]\ttrain-mlogloss:0.76343\ttest-mlogloss:0.82037\n",
      "[3]\ttrain-mlogloss:0.64553\ttest-mlogloss:0.71391\n",
      "[4]\ttrain-mlogloss:0.55661\ttest-mlogloss:0.63497\n",
      "[5]\ttrain-mlogloss:0.48713\ttest-mlogloss:0.57471\n",
      "[6]\ttrain-mlogloss:0.43178\ttest-mlogloss:0.52709\n",
      "[7]\ttrain-mlogloss:0.38724\ttest-mlogloss:0.48910\n",
      "[8]\ttrain-mlogloss:0.35004\ttest-mlogloss:0.45961\n",
      "[9]\ttrain-mlogloss:0.31938\ttest-mlogloss:0.43560\n",
      "[10]\ttrain-mlogloss:0.29544\ttest-mlogloss:0.41595\n",
      "[11]\ttrain-mlogloss:0.27257\ttest-mlogloss:0.39995\n",
      "[12]\ttrain-mlogloss:0.25386\ttest-mlogloss:0.38599\n",
      "[13]\ttrain-mlogloss:0.23777\ttest-mlogloss:0.37494\n",
      "[14]\ttrain-mlogloss:0.22328\ttest-mlogloss:0.36595\n",
      "[15]\ttrain-mlogloss:0.21177\ttest-mlogloss:0.35777\n",
      "[16]\ttrain-mlogloss:0.20191\ttest-mlogloss:0.35054\n",
      "[17]\ttrain-mlogloss:0.19215\ttest-mlogloss:0.34560\n",
      "[18]\ttrain-mlogloss:0.18286\ttest-mlogloss:0.34053\n",
      "[19]\ttrain-mlogloss:0.17623\ttest-mlogloss:0.33637\n"
     ]
    }
   ],
   "source": [
    "cv_nround = 20\n",
    "bst_cv = xgb.cv(param, dtrain, nfold = cv_nfold, num_boost_round=cv_nround,\n",
    "               verbose_eval=1, show_stdv=False)\n",
    "bst = xgb.train(param, dtrain,num_boost_round=cv_nround)\n",
    "xgbPred = bst.predict(xgb.DMatrix(xTest))"
   ]
  },
  {
   "cell_type": "code",
   "execution_count": 55,
   "metadata": {},
   "outputs": [
    {
     "name": "stdout",
     "output_type": "stream",
     "text": [
      "Random forest logloss 0.3944973844089365\n",
      "XGBoost logloss 0.32150398411443204\n"
     ]
    }
   ],
   "source": [
    "print('Random forest logloss',rfLogLoss)\n",
    "print('XGBoost logloss',log_loss(yTest, xgbPred))"
   ]
  },
  {
   "cell_type": "code",
   "execution_count": 56,
   "metadata": {
    "attributes": {
     "classes": [],
     "id": "",
     "r,echo": "F,eval=F"
    }
   },
   "outputs": [
    {
     "name": "stdout",
     "output_type": "stream",
     "text": [
      "Fitting 3 folds for each of 21 candidates, totalling 63 fits\n"
     ]
    },
    {
     "name": "stderr",
     "output_type": "stream",
     "text": [
      "[Parallel(n_jobs=-1)]: Using backend LokyBackend with 4 concurrent workers.\n",
      "[Parallel(n_jobs=-1)]: Done  33 tasks      | elapsed:   50.2s\n",
      "[Parallel(n_jobs=-1)]: Done  63 out of  63 | elapsed:  1.9min finished\n",
      "/home/yuri/anaconda3/envs/tf-gpu/lib/python3.8/site-packages/xgboost/sklearn.py:1224: UserWarning: The use of label encoder in XGBClassifier is deprecated and will be removed in a future release. To remove this warning, do the following: 1) Pass option use_label_encoder=False when constructing XGBClassifier object; and 2) Encode your labels (y) as integers starting with 0, i.e. 0, 1, 2, ..., [num_class - 1].\n",
      "  warnings.warn(label_encoder_deprecation_msg, UserWarning)\n"
     ]
    },
    {
     "name": "stdout",
     "output_type": "stream",
     "text": [
      "[17:06:28] WARNING: /home/conda/feedstock_root/build_artifacts/xgboost-split_1645117766796/work/src/learner.cc:1115: Starting in XGBoost 1.3.0, the default evaluation metric used with the objective 'multi:softprob' was changed from 'merror' to 'mlogloss'. Explicitly set eval_metric if you'd like to restore the old behavior.\n",
      "0.412489 with:  {'max_depth': 3, 'n_estimators': 20}\n",
      "0.384749 with:  {'max_depth': 3, 'n_estimators': 25}\n",
      "0.365795 with:  {'max_depth': 3, 'n_estimators': 30}\n",
      "0.351048 with:  {'max_depth': 3, 'n_estimators': 35}\n",
      "0.340501 with:  {'max_depth': 3, 'n_estimators': 40}\n",
      "0.332653 with:  {'max_depth': 3, 'n_estimators': 45}\n",
      "0.326379 with:  {'max_depth': 3, 'n_estimators': 50}\n",
      "0.372541 with:  {'max_depth': 4, 'n_estimators': 20}\n",
      "0.349427 with:  {'max_depth': 4, 'n_estimators': 25}\n",
      "0.334608 with:  {'max_depth': 4, 'n_estimators': 30}\n",
      "0.324075 with:  {'max_depth': 4, 'n_estimators': 35}\n",
      "0.316172 with:  {'max_depth': 4, 'n_estimators': 40}\n",
      "0.311081 with:  {'max_depth': 4, 'n_estimators': 45}\n",
      "0.305884 with:  {'max_depth': 4, 'n_estimators': 50}\n",
      "0.348837 with:  {'max_depth': 5, 'n_estimators': 20}\n",
      "0.329439 with:  {'max_depth': 5, 'n_estimators': 25}\n",
      "0.317247 with:  {'max_depth': 5, 'n_estimators': 30}\n",
      "0.307569 with:  {'max_depth': 5, 'n_estimators': 35}\n",
      "0.302297 with:  {'max_depth': 5, 'n_estimators': 40}\n",
      "0.299127 with:  {'max_depth': 5, 'n_estimators': 45}\n",
      "0.296598 with:  {'max_depth': 5, 'n_estimators': 50}\n",
      "Best logloss after tunning: 0.296598 using {'max_depth': 5, 'n_estimators': 50}\n",
      "XGBoost test logloss after tunning 0.27550586059484267\n"
     ]
    }
   ],
   "source": [
    "# xgboost task parameters\n",
    "folds = 3\n",
    "\n",
    "# Parameters grid to search\n",
    "param_grid = {\n",
    "    'max_depth':[3,4,5],\n",
    "    'n_estimators':np.arange(20,55,5)}\n",
    "\n",
    "\n",
    "grid = GridSearchCV(estimator = XGBClassifier(objective='multi:softprob',seed=0),\n",
    "                    scoring = 'neg_log_loss',param_grid = param_grid,\n",
    "                    cv=folds,verbose=2,n_jobs=-1)\n",
    "grid.fit(xTrain, yTrain)\n",
    "\n",
    "# summarize results\n",
    "for mean,param in zip(grid.cv_results_['mean_test_score'],grid.cv_results_['params']):\n",
    "    print(\"%f with: \" % -mean,param)\n",
    "\n",
    "# Show best logloss and parameters\n",
    "print(\"Best logloss after tunning: %f using %s\" % (-grid.best_score_,\n",
    "                                               grid.best_params_))\n",
    "param = {\"objective\" : \"multi:softprob\",\"eval_metric\" : \"mlogloss\",\n",
    "         \"num_class\" : max(y) + 1, 'max_depth':grid.best_params_['max_depth']}\n",
    "bst = xgb.train(param, dtrain,num_boost_round=grid.best_params_['n_estimators'])\n",
    "xgbPred = bst.predict(xgb.DMatrix(xTest))\n",
    "print('XGBoost test logloss after tunning',log_loss(yTest,xgbPred))"
   ]
  },
  {
   "cell_type": "markdown",
   "metadata": {},
   "source": [
    "## Identification of Spoken Letters (ISOLET) Example    \n",
    "\n",
    "Data for this example are from UCI repository: Lichman, M. (2013), [UCI Machine Learning Repository](http://archive.ics.uci.edu/ml). Irvine, CA: University of California, School of Information and Computer Science.    \n",
    "\n",
    "The data set is [ISOLET (Isolated Letter Speech Recognition)](http://archive.ics.uci.edu/ml/machine-learning-databases/isolet/).\n",
    "\n",
    "The version of the data with modified format used in the example was created at [Win-Vector LLC](http://www.win-vector.com/site/) and the example is covered in their [video course](https://www.youtube.com/watch?v=WZvPUGNJg18). The materials for their lecture including the data are  [here](http://winvector.github.io/IntroductionToDataScience/Sec02_Lesson013_GBM/).  \n",
    "\n",
    "Data Set Information:\n",
    "\n",
    "This data set was generated as follows. 150 subjects spoke the name of each letter of the alphabet twice. Hence, we have 52 training examples from each speaker.    \n",
    "The data contain different characteristics of the sounds, for example characteristics of  [waveforms](http://www.bespokenart.com/names/see_your_name.html).   \n",
    "The features include spectral coefficients; contour features, sonorant features, pre-sonorant features, and post-sonorant features.     \n",
    "Exact order of appearance of the features is not known.\n",
    "\n",
    "The speakers are grouped into sets of 30 speakers each, and are referred to as isolet1, isolet2, isolet3, isolet4, and isolet5.    \n",
    "The data appear in [\"isolet1+2+3+4.data\"](http://winvector.github.io/IntroductionToDataScience/Sec02_Lesson012_SVM/isolet1+2+3+4.data.gz)  in sequential order: first the speakers from isolet1, then isolet2, and so on.     \n",
    "The test set, [\"isolet5\"](http://winvector.github.io/IntroductionToDataScience/Sec02_Lesson012_SVM/isolet5.data.gz), is a separate file. \n",
    "\n",
    "The total number of observations in ISOLET should be $150 \\times 26 \\times 2 = 7800$. Of them 6238 are in the training set and 1559 are in the test set. Three observations are missing for some reason. \n",
    "\n",
    "Attribute Information:\n",
    "\n",
    "The features are described in the paper by Cole and Fanty:     \n",
    "\n",
    "Fanty, M., Cole, R. (1991). Spoken letter recognition. In Lippman, R. P., Moody, J., and Touretzky, D. S. (Eds). Advances in Neural Information Processing Systems 3. San Mateo, CA: Morgan Kaufmann\n",
    "\n",
    "See also:    \n",
    "\n",
    "[Dietterich, T. G., Bakiri, G. (1991) Error-correcting output codes: A general method for improving multiclass inductive learning programs. Proceedings of the Ninth National Conference on Artificial Intelligence (AAAI-91), Anaheim, CA: AAAI Press](https://www.aaai.org/Papers/AAAI/1991/AAAI91-089.pdf). \n",
    "\n",
    "[Dietterich, T. G., Bakiri, G. (1994) Solving Multiclass Learning Problems via Error-Correcting Output Codes](https://www.jair.org/media/105/live-105-1426-jair.pdf).  \n",
    "\n",
    "[Fanty, M., Cole, R. (1991). Spoken letter recognition. In Lippman, R. P., Moody, J., and Touretzky, D. S. (Eds). Advances in Neural Information Processing Systems 3. San Mateo, CA: Morgan Kaufmann](http://papers.nips.cc/paper/295-spoken-letter-recognition.pdf).\n",
    "\n",
    "Creators of the data:    \n",
    "\n",
    "Ron Cole and Mark Fanty:    \n",
    "Department of Computer Science and Engineering, \n",
    "Oregon Graduate Institute, Beaverton, OR 97006. \n",
    "cole '@' cse.ogi.edu, fanty '@' cse.ogi.edu\n",
    "cited above. \n",
    "\n",
    "Donor: \n",
    "\n",
    "Tom Dietterich \n",
    "Department of Computer Science \n",
    "Oregon State University, Corvallis, OR 97331 \n",
    "tgd '@' cs.orst.edu\n",
    "\n",
    "### Light Gradient Boosting Machine (LightGBM)\n",
    "\n",
    "We use **LightGBM** package for analysis of this data.\n",
    "\n",
    "LightGBM is a gradient boosting framework that uses tree based learning algorithms. It is designed to be distributed and efficient with the following advantages:\n",
    "\n",
    "* Faster training speed and higher efficiency\n",
    "* Lower memory usage\n",
    "* Better accuracy\n",
    "* Parallel and GPU learning supported\n",
    "* Capable of handling large-scale data\n",
    "For more details, please refer to [Features](https://github.com/Microsoft/LightGBM/blob/master/docs/Features.rst).\n",
    "\n",
    "**LightGBM** uses the histogram based algorithms, which bucketing continuous feature(attribute) values into discrete bins, to speed up training procedure and reduce memory usage.  \n",
    "\n",
    "The Python interface of the package is similar to the one of **XGBoost**. Scikit-Learn Wrapper interface for **LightGBM** is also implemented in the classes *LGBMRegressor* and *LGBMClassifier*.\n",
    "\n",
    "Read train data."
   ]
  },
  {
   "cell_type": "code",
   "execution_count": 57,
   "metadata": {
    "attributes": {
     "classes": [],
     "id": "",
     "r,message": "F"
    }
   },
   "outputs": [
    {
     "name": "stdout",
     "output_type": "stream",
     "text": [
      "(6238, 619)\n"
     ]
    },
    {
     "data": {
      "text/html": [
       "<div>\n",
       "<style scoped>\n",
       "    .dataframe tbody tr th:only-of-type {\n",
       "        vertical-align: middle;\n",
       "    }\n",
       "\n",
       "    .dataframe tbody tr th {\n",
       "        vertical-align: top;\n",
       "    }\n",
       "\n",
       "    .dataframe thead th {\n",
       "        text-align: right;\n",
       "    }\n",
       "</style>\n",
       "<table border=\"1\" class=\"dataframe\">\n",
       "  <thead>\n",
       "    <tr style=\"text-align: right;\">\n",
       "      <th></th>\n",
       "      <th>V0</th>\n",
       "      <th>V1</th>\n",
       "      <th>V2</th>\n",
       "      <th>V3</th>\n",
       "      <th>V4</th>\n",
       "      <th>V5</th>\n",
       "      <th>V6</th>\n",
       "      <th>V7</th>\n",
       "      <th>V8</th>\n",
       "      <th>V9</th>\n",
       "      <th>...</th>\n",
       "      <th>V609</th>\n",
       "      <th>V610</th>\n",
       "      <th>V611</th>\n",
       "      <th>V612</th>\n",
       "      <th>V613</th>\n",
       "      <th>V614</th>\n",
       "      <th>V615</th>\n",
       "      <th>V616</th>\n",
       "      <th>V617</th>\n",
       "      <th>isTest</th>\n",
       "    </tr>\n",
       "  </thead>\n",
       "  <tbody>\n",
       "    <tr>\n",
       "      <th>0</th>\n",
       "      <td>-0.4394</td>\n",
       "      <td>-0.0930</td>\n",
       "      <td>0.1718</td>\n",
       "      <td>0.4620</td>\n",
       "      <td>0.6226</td>\n",
       "      <td>0.4704</td>\n",
       "      <td>0.3578</td>\n",
       "      <td>0.0478</td>\n",
       "      <td>-0.1184</td>\n",
       "      <td>-0.2310</td>\n",
       "      <td>...</td>\n",
       "      <td>0.2052</td>\n",
       "      <td>0.3846</td>\n",
       "      <td>0.3590</td>\n",
       "      <td>0.5898</td>\n",
       "      <td>0.3334</td>\n",
       "      <td>0.6410</td>\n",
       "      <td>0.5898</td>\n",
       "      <td>-0.4872</td>\n",
       "      <td>1.0</td>\n",
       "      <td>False</td>\n",
       "    </tr>\n",
       "    <tr>\n",
       "      <th>1</th>\n",
       "      <td>-0.4348</td>\n",
       "      <td>-0.1198</td>\n",
       "      <td>0.2474</td>\n",
       "      <td>0.4036</td>\n",
       "      <td>0.5026</td>\n",
       "      <td>0.6328</td>\n",
       "      <td>0.4948</td>\n",
       "      <td>0.0338</td>\n",
       "      <td>-0.0520</td>\n",
       "      <td>-0.1302</td>\n",
       "      <td>...</td>\n",
       "      <td>0.2954</td>\n",
       "      <td>0.2046</td>\n",
       "      <td>0.4772</td>\n",
       "      <td>0.0454</td>\n",
       "      <td>0.2046</td>\n",
       "      <td>0.4318</td>\n",
       "      <td>0.4546</td>\n",
       "      <td>-0.0910</td>\n",
       "      <td>1.0</td>\n",
       "      <td>False</td>\n",
       "    </tr>\n",
       "    <tr>\n",
       "      <th>2</th>\n",
       "      <td>-0.2330</td>\n",
       "      <td>0.2124</td>\n",
       "      <td>0.5014</td>\n",
       "      <td>0.5222</td>\n",
       "      <td>-0.3422</td>\n",
       "      <td>-0.5840</td>\n",
       "      <td>-0.7168</td>\n",
       "      <td>-0.6342</td>\n",
       "      <td>-0.8614</td>\n",
       "      <td>-0.8318</td>\n",
       "      <td>...</td>\n",
       "      <td>-0.0476</td>\n",
       "      <td>-0.1746</td>\n",
       "      <td>0.0318</td>\n",
       "      <td>-0.0476</td>\n",
       "      <td>0.1112</td>\n",
       "      <td>0.2540</td>\n",
       "      <td>0.1588</td>\n",
       "      <td>-0.4762</td>\n",
       "      <td>2.0</td>\n",
       "      <td>False</td>\n",
       "    </tr>\n",
       "    <tr>\n",
       "      <th>3</th>\n",
       "      <td>-0.3808</td>\n",
       "      <td>-0.0096</td>\n",
       "      <td>0.2602</td>\n",
       "      <td>0.2554</td>\n",
       "      <td>-0.4290</td>\n",
       "      <td>-0.6746</td>\n",
       "      <td>-0.6868</td>\n",
       "      <td>-0.6650</td>\n",
       "      <td>-0.8410</td>\n",
       "      <td>-0.9614</td>\n",
       "      <td>...</td>\n",
       "      <td>-0.0360</td>\n",
       "      <td>-0.1224</td>\n",
       "      <td>0.1366</td>\n",
       "      <td>0.2950</td>\n",
       "      <td>0.0792</td>\n",
       "      <td>-0.0072</td>\n",
       "      <td>0.0936</td>\n",
       "      <td>-0.1510</td>\n",
       "      <td>2.0</td>\n",
       "      <td>False</td>\n",
       "    </tr>\n",
       "    <tr>\n",
       "      <th>4</th>\n",
       "      <td>-0.3412</td>\n",
       "      <td>0.0946</td>\n",
       "      <td>0.6082</td>\n",
       "      <td>0.6216</td>\n",
       "      <td>-0.1622</td>\n",
       "      <td>-0.3784</td>\n",
       "      <td>-0.4324</td>\n",
       "      <td>-0.4358</td>\n",
       "      <td>-0.4966</td>\n",
       "      <td>-0.5406</td>\n",
       "      <td>...</td>\n",
       "      <td>0.3124</td>\n",
       "      <td>0.2500</td>\n",
       "      <td>-0.0938</td>\n",
       "      <td>0.1562</td>\n",
       "      <td>0.3124</td>\n",
       "      <td>0.3124</td>\n",
       "      <td>0.2188</td>\n",
       "      <td>-0.2500</td>\n",
       "      <td>3.0</td>\n",
       "      <td>False</td>\n",
       "    </tr>\n",
       "  </tbody>\n",
       "</table>\n",
       "<p>5 rows × 619 columns</p>\n",
       "</div>"
      ],
      "text/plain": [
       "       V0      V1      V2      V3      V4      V5      V6      V7      V8  \\\n",
       "0 -0.4394 -0.0930  0.1718  0.4620  0.6226  0.4704  0.3578  0.0478 -0.1184   \n",
       "1 -0.4348 -0.1198  0.2474  0.4036  0.5026  0.6328  0.4948  0.0338 -0.0520   \n",
       "2 -0.2330  0.2124  0.5014  0.5222 -0.3422 -0.5840 -0.7168 -0.6342 -0.8614   \n",
       "3 -0.3808 -0.0096  0.2602  0.2554 -0.4290 -0.6746 -0.6868 -0.6650 -0.8410   \n",
       "4 -0.3412  0.0946  0.6082  0.6216 -0.1622 -0.3784 -0.4324 -0.4358 -0.4966   \n",
       "\n",
       "       V9  ...    V609    V610    V611    V612    V613    V614    V615  \\\n",
       "0 -0.2310  ...  0.2052  0.3846  0.3590  0.5898  0.3334  0.6410  0.5898   \n",
       "1 -0.1302  ...  0.2954  0.2046  0.4772  0.0454  0.2046  0.4318  0.4546   \n",
       "2 -0.8318  ... -0.0476 -0.1746  0.0318 -0.0476  0.1112  0.2540  0.1588   \n",
       "3 -0.9614  ... -0.0360 -0.1224  0.1366  0.2950  0.0792 -0.0072  0.0936   \n",
       "4 -0.5406  ...  0.3124  0.2500 -0.0938  0.1562  0.3124  0.3124  0.2188   \n",
       "\n",
       "     V616  V617  isTest  \n",
       "0 -0.4872   1.0   False  \n",
       "1 -0.0910   1.0   False  \n",
       "2 -0.4762   2.0   False  \n",
       "3 -0.1510   2.0   False  \n",
       "4 -0.2500   3.0   False  \n",
       "\n",
       "[5 rows x 619 columns]"
      ]
     },
     "execution_count": 57,
     "metadata": {},
     "output_type": "execute_result"
    }
   ],
   "source": [
    "# Actual example\n",
    "# isolet data from 'https://archive.ics.uci.edu/ml/datasets/ISOLET'\n",
    "dTrain = pd.read_csv('isolet1234.data.gz',header=None,prefix='V')\n",
    "dTrain['isTest'] = False # add column, identifying test\n",
    "print(dTrain.shape)\n",
    "dTrain.head()"
   ]
  },
  {
   "cell_type": "markdown",
   "metadata": {},
   "source": [
    "Read test data."
   ]
  },
  {
   "cell_type": "code",
   "execution_count": 58,
   "metadata": {},
   "outputs": [
    {
     "name": "stdout",
     "output_type": "stream",
     "text": [
      "(1559, 619)\n"
     ]
    },
    {
     "data": {
      "text/html": [
       "<div>\n",
       "<style scoped>\n",
       "    .dataframe tbody tr th:only-of-type {\n",
       "        vertical-align: middle;\n",
       "    }\n",
       "\n",
       "    .dataframe tbody tr th {\n",
       "        vertical-align: top;\n",
       "    }\n",
       "\n",
       "    .dataframe thead th {\n",
       "        text-align: right;\n",
       "    }\n",
       "</style>\n",
       "<table border=\"1\" class=\"dataframe\">\n",
       "  <thead>\n",
       "    <tr style=\"text-align: right;\">\n",
       "      <th></th>\n",
       "      <th>V0</th>\n",
       "      <th>V1</th>\n",
       "      <th>V2</th>\n",
       "      <th>V3</th>\n",
       "      <th>V4</th>\n",
       "      <th>V5</th>\n",
       "      <th>V6</th>\n",
       "      <th>V7</th>\n",
       "      <th>V8</th>\n",
       "      <th>V9</th>\n",
       "      <th>...</th>\n",
       "      <th>V609</th>\n",
       "      <th>V610</th>\n",
       "      <th>V611</th>\n",
       "      <th>V612</th>\n",
       "      <th>V613</th>\n",
       "      <th>V614</th>\n",
       "      <th>V615</th>\n",
       "      <th>V616</th>\n",
       "      <th>V617</th>\n",
       "      <th>isTest</th>\n",
       "    </tr>\n",
       "  </thead>\n",
       "  <tbody>\n",
       "    <tr>\n",
       "      <th>0</th>\n",
       "      <td>-0.2080</td>\n",
       "      <td>0.3480</td>\n",
       "      <td>0.3280</td>\n",
       "      <td>0.5040</td>\n",
       "      <td>0.9320</td>\n",
       "      <td>1.0000</td>\n",
       "      <td>0.8360</td>\n",
       "      <td>0.6680</td>\n",
       "      <td>0.2720</td>\n",
       "      <td>0.2400</td>\n",
       "      <td>...</td>\n",
       "      <td>-0.0624</td>\n",
       "      <td>0.2188</td>\n",
       "      <td>0.4532</td>\n",
       "      <td>0.1094</td>\n",
       "      <td>0.1718</td>\n",
       "      <td>0.1562</td>\n",
       "      <td>0.0468</td>\n",
       "      <td>-0.3750</td>\n",
       "      <td>1.0</td>\n",
       "      <td>True</td>\n",
       "    </tr>\n",
       "    <tr>\n",
       "      <th>1</th>\n",
       "      <td>-0.2864</td>\n",
       "      <td>0.1992</td>\n",
       "      <td>0.2822</td>\n",
       "      <td>0.4398</td>\n",
       "      <td>0.7012</td>\n",
       "      <td>0.7800</td>\n",
       "      <td>1.0000</td>\n",
       "      <td>0.9792</td>\n",
       "      <td>0.5850</td>\n",
       "      <td>0.4066</td>\n",
       "      <td>...</td>\n",
       "      <td>-0.1472</td>\n",
       "      <td>-0.1782</td>\n",
       "      <td>0.0078</td>\n",
       "      <td>0.1162</td>\n",
       "      <td>-0.0542</td>\n",
       "      <td>-0.0542</td>\n",
       "      <td>-0.0388</td>\n",
       "      <td>-0.7984</td>\n",
       "      <td>1.0</td>\n",
       "      <td>True</td>\n",
       "    </tr>\n",
       "    <tr>\n",
       "      <th>2</th>\n",
       "      <td>-0.2348</td>\n",
       "      <td>0.3826</td>\n",
       "      <td>0.6142</td>\n",
       "      <td>0.7492</td>\n",
       "      <td>0.0546</td>\n",
       "      <td>-0.4020</td>\n",
       "      <td>-0.3504</td>\n",
       "      <td>-0.2990</td>\n",
       "      <td>-0.6848</td>\n",
       "      <td>-0.6528</td>\n",
       "      <td>...</td>\n",
       "      <td>0.1500</td>\n",
       "      <td>0.0834</td>\n",
       "      <td>-0.2000</td>\n",
       "      <td>-0.1834</td>\n",
       "      <td>0.0500</td>\n",
       "      <td>-0.0166</td>\n",
       "      <td>-0.1834</td>\n",
       "      <td>-0.8666</td>\n",
       "      <td>2.0</td>\n",
       "      <td>True</td>\n",
       "    </tr>\n",
       "    <tr>\n",
       "      <th>3</th>\n",
       "      <td>-0.1856</td>\n",
       "      <td>0.3592</td>\n",
       "      <td>0.7126</td>\n",
       "      <td>0.7366</td>\n",
       "      <td>0.3414</td>\n",
       "      <td>0.1018</td>\n",
       "      <td>-0.1556</td>\n",
       "      <td>-0.2514</td>\n",
       "      <td>-0.2514</td>\n",
       "      <td>-0.3892</td>\n",
       "      <td>...</td>\n",
       "      <td>0.5556</td>\n",
       "      <td>0.4568</td>\n",
       "      <td>0.4568</td>\n",
       "      <td>0.4568</td>\n",
       "      <td>0.2098</td>\n",
       "      <td>0.0370</td>\n",
       "      <td>-0.0618</td>\n",
       "      <td>-0.3334</td>\n",
       "      <td>2.0</td>\n",
       "      <td>True</td>\n",
       "    </tr>\n",
       "    <tr>\n",
       "      <th>4</th>\n",
       "      <td>-0.1814</td>\n",
       "      <td>0.4404</td>\n",
       "      <td>0.8394</td>\n",
       "      <td>1.0000</td>\n",
       "      <td>0.7564</td>\n",
       "      <td>0.1866</td>\n",
       "      <td>0.0260</td>\n",
       "      <td>-0.0726</td>\n",
       "      <td>-0.2124</td>\n",
       "      <td>-0.3730</td>\n",
       "      <td>...</td>\n",
       "      <td>-0.1688</td>\n",
       "      <td>0.2728</td>\n",
       "      <td>0.2988</td>\n",
       "      <td>0.2468</td>\n",
       "      <td>0.1948</td>\n",
       "      <td>-0.0130</td>\n",
       "      <td>-0.2988</td>\n",
       "      <td>-0.7662</td>\n",
       "      <td>3.0</td>\n",
       "      <td>True</td>\n",
       "    </tr>\n",
       "  </tbody>\n",
       "</table>\n",
       "<p>5 rows × 619 columns</p>\n",
       "</div>"
      ],
      "text/plain": [
       "       V0      V1      V2      V3      V4      V5      V6      V7      V8  \\\n",
       "0 -0.2080  0.3480  0.3280  0.5040  0.9320  1.0000  0.8360  0.6680  0.2720   \n",
       "1 -0.2864  0.1992  0.2822  0.4398  0.7012  0.7800  1.0000  0.9792  0.5850   \n",
       "2 -0.2348  0.3826  0.6142  0.7492  0.0546 -0.4020 -0.3504 -0.2990 -0.6848   \n",
       "3 -0.1856  0.3592  0.7126  0.7366  0.3414  0.1018 -0.1556 -0.2514 -0.2514   \n",
       "4 -0.1814  0.4404  0.8394  1.0000  0.7564  0.1866  0.0260 -0.0726 -0.2124   \n",
       "\n",
       "       V9  ...    V609    V610    V611    V612    V613    V614    V615  \\\n",
       "0  0.2400  ... -0.0624  0.2188  0.4532  0.1094  0.1718  0.1562  0.0468   \n",
       "1  0.4066  ... -0.1472 -0.1782  0.0078  0.1162 -0.0542 -0.0542 -0.0388   \n",
       "2 -0.6528  ...  0.1500  0.0834 -0.2000 -0.1834  0.0500 -0.0166 -0.1834   \n",
       "3 -0.3892  ...  0.5556  0.4568  0.4568  0.4568  0.2098  0.0370 -0.0618   \n",
       "4 -0.3730  ... -0.1688  0.2728  0.2988  0.2468  0.1948 -0.0130 -0.2988   \n",
       "\n",
       "     V616  V617  isTest  \n",
       "0 -0.3750   1.0    True  \n",
       "1 -0.7984   1.0    True  \n",
       "2 -0.8666   2.0    True  \n",
       "3 -0.3334   2.0    True  \n",
       "4 -0.7662   3.0    True  \n",
       "\n",
       "[5 rows x 619 columns]"
      ]
     },
     "execution_count": 58,
     "metadata": {},
     "output_type": "execute_result"
    }
   ],
   "source": [
    "dTest = pd.read_csv('isolet5.data.gz',header=None,prefix='V')\n",
    "dTest['isTest'] = True # add column, identifying test\n",
    "print(dTest.shape)\n",
    "dTest.head()"
   ]
  },
  {
   "cell_type": "markdown",
   "metadata": {},
   "source": [
    "Concatenate train and test to one data frame. Rename column 'V617' to 'target'."
   ]
  },
  {
   "cell_type": "code",
   "execution_count": 59,
   "metadata": {},
   "outputs": [
    {
     "data": {
      "text/plain": [
       "(7797, 619)"
      ]
     },
     "execution_count": 59,
     "metadata": {},
     "output_type": "execute_result"
    }
   ],
   "source": [
    "d = dTrain.append(dTest).rename({'V617':'target'}, axis='columns')\n",
    "d.shape"
   ]
  },
  {
   "cell_type": "markdown",
   "metadata": {},
   "source": [
    "Convert target column letter numbers to letters.    \n",
    "Select only rows with letters \"m\" and \"n\".   \n",
    "Turn the column in to a logical variable: \"n\" corresponding to `TRUE`."
   ]
  },
  {
   "cell_type": "code",
   "execution_count": 60,
   "metadata": {},
   "outputs": [
    {
     "name": "stdout",
     "output_type": "stream",
     "text": [
      "(599, 619)\n"
     ]
    },
    {
     "data": {
      "text/html": [
       "<div>\n",
       "<style scoped>\n",
       "    .dataframe tbody tr th:only-of-type {\n",
       "        vertical-align: middle;\n",
       "    }\n",
       "\n",
       "    .dataframe tbody tr th {\n",
       "        vertical-align: top;\n",
       "    }\n",
       "\n",
       "    .dataframe thead th {\n",
       "        text-align: right;\n",
       "    }\n",
       "</style>\n",
       "<table border=\"1\" class=\"dataframe\">\n",
       "  <thead>\n",
       "    <tr style=\"text-align: right;\">\n",
       "      <th></th>\n",
       "      <th>isLetter</th>\n",
       "    </tr>\n",
       "  </thead>\n",
       "  <tbody>\n",
       "    <tr>\n",
       "      <th>24</th>\n",
       "      <td>False</td>\n",
       "    </tr>\n",
       "    <tr>\n",
       "      <th>25</th>\n",
       "      <td>False</td>\n",
       "    </tr>\n",
       "    <tr>\n",
       "      <th>26</th>\n",
       "      <td>True</td>\n",
       "    </tr>\n",
       "    <tr>\n",
       "      <th>27</th>\n",
       "      <td>True</td>\n",
       "    </tr>\n",
       "    <tr>\n",
       "      <th>76</th>\n",
       "      <td>False</td>\n",
       "    </tr>\n",
       "  </tbody>\n",
       "</table>\n",
       "</div>"
      ],
      "text/plain": [
       "    isLetter\n",
       "24     False\n",
       "25     False\n",
       "26      True\n",
       "27      True\n",
       "76     False"
      ]
     },
     "execution_count": 60,
     "metadata": {},
     "output_type": "execute_result"
    }
   ],
   "source": [
    "d['target'] = d.target.apply(lambda x: string.ascii_lowercase[int(x)-1])\n",
    "d = d[(d.target=='m') | (d.target=='n')]\n",
    "print(d.shape)\n",
    "yColumn = 'isLetter'\n",
    "d[yColumn] = d.target == 'n'\n",
    "d[[yColumn]].head()"
   ]
  },
  {
   "cell_type": "markdown",
   "metadata": {},
   "source": [
    "Run cross validation to find optimal number of rounds using *lightgbm.cv*. "
   ]
  },
  {
   "cell_type": "code",
   "execution_count": 61,
   "metadata": {
    "scrolled": true
   },
   "outputs": [
    {
     "name": "stdout",
     "output_type": "stream",
     "text": [
      "Cross validation\n"
     ]
    },
    {
     "name": "stderr",
     "output_type": "stream",
     "text": [
      "/home/yuri/anaconda3/envs/tf-gpu/lib/python3.8/site-packages/lightgbm/engine.py:620: UserWarning: 'verbose_eval' argument is deprecated and will be removed in a future release of LightGBM. Pass 'log_evaluation()' callback via 'callbacks' argument instead.\n",
      "  _log_warning(\"'verbose_eval' argument is deprecated and will be removed in a future release of LightGBM. \"\n"
     ]
    },
    {
     "name": "stdout",
     "output_type": "stream",
     "text": [
      "[10]\tcv_agg's binary_logloss: 0.352324 + 0.0303723\n",
      "[20]\tcv_agg's binary_logloss: 0.245763 + 0.0442494\n",
      "[30]\tcv_agg's binary_logloss: 0.193716 + 0.0425821\n",
      "[40]\tcv_agg's binary_logloss: 0.1746 + 0.0499421\n",
      "[50]\tcv_agg's binary_logloss: 0.165205 + 0.0513047\n",
      "[60]\tcv_agg's binary_logloss: 0.157633 + 0.052158\n",
      "[70]\tcv_agg's binary_logloss: 0.160817 + 0.0575959\n",
      "[80]\tcv_agg's binary_logloss: 0.161981 + 0.06119\n",
      "[90]\tcv_agg's binary_logloss: 0.167058 + 0.0638135\n",
      "[100]\tcv_agg's binary_logloss: 0.170807 + 0.0672116\n",
      "[110]\tcv_agg's binary_logloss: 0.177249 + 0.0682078\n",
      "[120]\tcv_agg's binary_logloss: 0.183542 + 0.0698706\n"
     ]
    },
    {
     "data": {
      "text/plain": [
       "<matplotlib.legend.Legend at 0x7f9c12c86970>"
      ]
     },
     "execution_count": 61,
     "metadata": {},
     "output_type": "execute_result"
    },
    {
     "data": {
      "image/png": "[encoded data removed]",
      "text/plain": [
       "<Figure size 432x288 with 1 Axes>"
      ]
     },
     "metadata": {},
     "output_type": "display_data"
    }
   ],
   "source": [
    "lgb_param = {'objective': 'binary',\n",
    "             'metric': ['binary_logloss'],\n",
    "             'verbose':-1\n",
    "             }\n",
    "lgb_train = lgb.Dataset(d[~d.isTest].drop(['isTest','isLetter','target'],axis=1), \n",
    "                        label=d.isLetter[~d.isTest].astype(int))\n",
    "print(\"Cross validation\")\n",
    "long_hist = lgb.cv(lgb_param, lgb_train, num_boost_round=120,\n",
    "                   verbose_eval=10) #early_stopping_rounds=3,\n",
    "plt.plot(long_hist['binary_logloss-mean'])\n",
    "plt.legend(['CV logloss mean'])"
   ]
  },
  {
   "cell_type": "markdown",
   "metadata": {},
   "source": [
    "Returned object *hist* is a dictionary with mean and standard deviatioon of selected metric."
   ]
  },
  {
   "cell_type": "code",
   "execution_count": 62,
   "metadata": {},
   "outputs": [
    {
     "data": {
      "text/plain": [
       "dict_keys(['binary_logloss-mean', 'binary_logloss-stdv'])"
      ]
     },
     "execution_count": 62,
     "metadata": {},
     "output_type": "execute_result"
    }
   ],
   "source": [
    "long_hist.keys()"
   ]
  },
  {
   "cell_type": "markdown",
   "metadata": {},
   "source": [
    "The plot shows the model overfitting in the right part of the curve. We could find the optimal number of rounds minimizing *long_hist['binary_logloss-mean']*, but the better way is using parameter *early_stopping_rounds* which activates early stopping. If CV metric is not improved during *early_stopping_rounds* rounds the learning terminates. Last entry in returned evaluation history is the one from best iteration."
   ]
  },
  {
   "cell_type": "code",
   "execution_count": 63,
   "metadata": {
    "attributes": {
     "classes": [],
     "id": "",
     "r,eval": "F"
    }
   },
   "outputs": [
    {
     "name": "stderr",
     "output_type": "stream",
     "text": [
      "/home/yuri/anaconda3/envs/tf-gpu/lib/python3.8/site-packages/lightgbm/engine.py:577: UserWarning: 'early_stopping_rounds' argument is deprecated and will be removed in a future release of LightGBM. Pass 'early_stopping()' callback via 'callbacks' argument instead.\n",
      "  _log_warning(\"'early_stopping_rounds' argument is deprecated and will be removed in a future release of LightGBM. \"\n"
     ]
    },
    {
     "name": "stdout",
     "output_type": "stream",
     "text": [
      "best number of rounds = 62\n"
     ]
    }
   ],
   "source": [
    "hist = lgb.cv(lgb_param,lgb_train, num_boost_round=120, \n",
    "              early_stopping_rounds=3)\n",
    "n_rounds = len(hist['binary_logloss-mean'])\n",
    "print('best number of rounds =',n_rounds)"
   ]
  },
  {
   "cell_type": "code",
   "execution_count": 64,
   "metadata": {},
   "outputs": [
    {
     "data": {
      "text/plain": [
       "<matplotlib.legend.Legend at 0x7f9c12e8c0a0>"
      ]
     },
     "execution_count": 64,
     "metadata": {},
     "output_type": "execute_result"
    },
    {
     "data": {
      "image/png": "[encoded data removed]",
      "text/plain": [
       "<Figure size 432x288 with 1 Axes>"
      ]
     },
     "metadata": {},
     "output_type": "display_data"
    }
   ],
   "source": [
    "l_h = long_hist['binary_logloss-mean']\n",
    "plt.scatter(range(len(l_h)),l_h)\n",
    "plt.scatter(range(n_rounds),hist['binary_logloss-mean'])\n",
    "plt.legend(['overfitting','before early stopping'])"
   ]
  },
  {
   "cell_type": "markdown",
   "metadata": {},
   "source": [
    "Now we can train the model with optimal number of rounds and make prediction."
   ]
  },
  {
   "cell_type": "code",
   "execution_count": 65,
   "metadata": {},
   "outputs": [
    {
     "data": {
      "text/plain": [
       "array([0.00151832, 0.05034628, 0.98387217, 0.97268045, 0.00207903,\n",
       "       0.00550659, 0.84014081, 0.70322169, 0.00205804, 0.00354411])"
      ]
     },
     "execution_count": 65,
     "metadata": {},
     "output_type": "execute_result"
    }
   ],
   "source": [
    "lgb_bst = lgb.train(lgb_param, lgb_train, n_rounds)\n",
    "lgbPred = lgb_bst.predict(d[d.isTest].drop(['isTest','isLetter','target'],axis=1))\n",
    "lgbPred[:10]"
   ]
  },
  {
   "cell_type": "markdown",
   "metadata": {},
   "source": [
    "*Predict* method return numpy array of prediction probabilities. Calculate logloss."
   ]
  },
  {
   "cell_type": "code",
   "execution_count": 66,
   "metadata": {},
   "outputs": [
    {
     "data": {
      "text/plain": [
       "0.21387963946580843"
      ]
     },
     "execution_count": 66,
     "metadata": {},
     "output_type": "execute_result"
    }
   ],
   "source": [
    "log_loss(d.isLetter[d.isTest],lgbPred)"
   ]
  },
  {
   "cell_type": "markdown",
   "metadata": {},
   "source": [
    "Visualize prediction."
   ]
  },
  {
   "cell_type": "code",
   "execution_count": 67,
   "metadata": {},
   "outputs": [
    {
     "data": {
      "text/plain": [
       "<matplotlib.legend.Legend at 0x7f9c12dbc610>"
      ]
     },
     "execution_count": 67,
     "metadata": {},
     "output_type": "execute_result"
    },
    {
     "data": {
      "image/png": "[encoded data removed]",
      "text/plain": [
       "<Figure size 432x288 with 1 Axes>"
      ]
     },
     "metadata": {},
     "output_type": "display_data"
    }
   ],
   "source": [
    "res = pd.DataFrame({'true':d.isLetter[d.isTest].astype(int),'prediction':lgbPred})\n",
    "res = res.sort_values('true').reset_index(drop=True)\n",
    "plt.plot(res.true,'ro') # plot using red circle markers\n",
    "plt.plot(res.prediction,'b*') # plot using blue star markers\n",
    "plt.legend(['true','prediction'])"
   ]
  },
  {
   "cell_type": "markdown",
   "metadata": {},
   "source": [
    "Method *feature_importance* returns array of feature importances."
   ]
  },
  {
   "cell_type": "code",
   "execution_count": 68,
   "metadata": {},
   "outputs": [
    {
     "data": {
      "text/plain": [
       "(617,)"
      ]
     },
     "execution_count": 68,
     "metadata": {},
     "output_type": "execute_result"
    }
   ],
   "source": [
    "imp = lgb_bst.feature_importance()\n",
    "imp.shape"
   ]
  },
  {
   "cell_type": "markdown",
   "metadata": {},
   "source": [
    "It can be visualized either as XGBoost features in the example above or with the method *plot_importance*."
   ]
  },
  {
   "cell_type": "code",
   "execution_count": 69,
   "metadata": {},
   "outputs": [
    {
     "data": {
      "text/plain": [
       "<AxesSubplot:title={'center':'Feature importance'}, xlabel='Feature importance', ylabel='Features'>"
      ]
     },
     "execution_count": 69,
     "metadata": {},
     "output_type": "execute_result"
    },
    {
     "data": {
      "image/png": "[encoded data removed]",
      "text/plain": [
       "<Figure size 432x288 with 1 Axes>"
      ]
     },
     "metadata": {},
     "output_type": "display_data"
    }
   ],
   "source": [
    "lgb.plot_importance(lgb_bst,max_num_features=20)"
   ]
  }
 ],
 "metadata": {
  "kernelspec": {
   "display_name": "Python 3 (ipykernel)",
   "language": "python",
   "name": "python3"
  },
  "language_info": {
   "codemirror_mode": {
    "name": "ipython",
    "version": 3
   },
   "file_extension": ".py",
   "mimetype": "text/x-python",
   "name": "python",
   "nbconvert_exporter": "python",
   "pygments_lexer": "ipython3",
   "version": "3.10.5"
  }
 },
 "nbformat": 4,
 "nbformat_minor": 4
}
