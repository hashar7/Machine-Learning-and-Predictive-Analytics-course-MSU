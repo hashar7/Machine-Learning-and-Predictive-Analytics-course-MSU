{
 "cells": [
  {
   "cell_type": "markdown",
   "metadata": {},
   "source": [
    "# iLykei Lecture Series \n",
    "\n",
    "# Machine Learning\n",
    "\n",
    "# Decision Trees\n",
    "\n",
    "# Workshop 1: Recursive Binary Splitting\n",
    "\n",
    "## Y.Balasanov, L.Nazarov, V. Lavrent'ev, M.Tselishchev &copy; iLykei 2017-22\n",
    "\n",
    "Import necessary packages."
   ]
  },
  {
   "cell_type": "code",
   "execution_count": 1,
   "metadata": {},
   "outputs": [],
   "source": [
    "%matplotlib inline\n",
    "import numpy as np\n",
    "import pandas as pd\n",
    "from matplotlib import pyplot as plt\n",
    "plt.style.use('ggplot')\n",
    "from sklearn.tree import DecisionTreeRegressor, export_graphviz\n",
    "from io import StringIO\n",
    "import pydotplus\n",
    "from IPython.display import Image\n"
   ]
  },
  {
   "cell_type": "markdown",
   "metadata": {},
   "source": [
    "We will also use function *plot_tree* for visualisation."
   ]
  },
  {
   "cell_type": "code",
   "execution_count": 2,
   "metadata": {},
   "outputs": [],
   "source": [
    "def plot_tree(estimator,feature_names):\n",
    "    dot_data = StringIO()\n",
    "    export_graphviz(estimator, out_file=dot_data,feature_names=feature_names,\n",
    "                   rounded=True,filled=True)\n",
    "    graph = pydotplus.graph_from_dot_data(dot_data.getvalue())\n",
    "    return Image(graph.create_png())"
   ]
  },
  {
   "cell_type": "markdown",
   "metadata": {},
   "source": [
    "# Example on binary splitting"
   ]
  },
  {
   "cell_type": "code",
   "execution_count": 3,
   "metadata": {
    "scrolled": true
   },
   "outputs": [
    {
     "data": {
      "text/html": [
       "<div>\n",
       "<style scoped>\n",
       "    .dataframe tbody tr th:only-of-type {\n",
       "        vertical-align: middle;\n",
       "    }\n",
       "\n",
       "    .dataframe tbody tr th {\n",
       "        vertical-align: top;\n",
       "    }\n",
       "\n",
       "    .dataframe thead th {\n",
       "        text-align: right;\n",
       "    }\n",
       "</style>\n",
       "<table border=\"1\" class=\"dataframe\">\n",
       "  <thead>\n",
       "    <tr style=\"text-align: right;\">\n",
       "      <th></th>\n",
       "      <th>y</th>\n",
       "      <th>x1</th>\n",
       "      <th>x2</th>\n",
       "    </tr>\n",
       "  </thead>\n",
       "  <tbody>\n",
       "    <tr>\n",
       "      <th>0</th>\n",
       "      <td>0.162298</td>\n",
       "      <td>0.926459</td>\n",
       "      <td>0.366176</td>\n",
       "    </tr>\n",
       "    <tr>\n",
       "      <th>1</th>\n",
       "      <td>9.033972</td>\n",
       "      <td>1.822821</td>\n",
       "      <td>-1.327041</td>\n",
       "    </tr>\n",
       "    <tr>\n",
       "      <th>2</th>\n",
       "      <td>-10.962341</td>\n",
       "      <td>-1.610567</td>\n",
       "      <td>2.412592</td>\n",
       "    </tr>\n",
       "    <tr>\n",
       "      <th>3</th>\n",
       "      <td>-0.940886</td>\n",
       "      <td>-0.285110</td>\n",
       "      <td>0.063815</td>\n",
       "    </tr>\n",
       "    <tr>\n",
       "      <th>4</th>\n",
       "      <td>-4.902579</td>\n",
       "      <td>-0.342073</td>\n",
       "      <td>1.545515</td>\n",
       "    </tr>\n",
       "  </tbody>\n",
       "</table>\n",
       "</div>"
      ],
      "text/plain": [
       "           y        x1        x2\n",
       "0   0.162298  0.926459  0.366176\n",
       "1   9.033972  1.822821 -1.327041\n",
       "2 -10.962341 -1.610567  2.412592\n",
       "3  -0.940886 -0.285110  0.063815\n",
       "4  -4.902579 -0.342073  1.545515"
      ]
     },
     "execution_count": 3,
     "metadata": {},
     "output_type": "execute_result"
    }
   ],
   "source": [
    "tree_data = pd.read_csv(\"binary_splitting_data.csv\")\n",
    "tree_data"
   ]
  },
  {
   "cell_type": "markdown",
   "metadata": {},
   "source": [
    "## Preparing functions for sums of squares   \n",
    "\n",
    "Prepare functions for calculating sum of squares of one split candidate `oneSplit(Data,Variable,Split)`, and for calculating sums of squares and split levels for all split candidates: `selectSplit(Data)`.     \n",
    "\n",
    "First function is `oneSplit(myData,myVariable,mySplit)`, where     \n",
    "\n",
    "* `myData` is the matrix of data including both response and predictors;    \n",
    "* `myVariable` is variable number among predictors, which splits the set;    \n",
    "* `splitLevel` is the level at which the variable is split.\n",
    "\n",
    "The steps of this function are:    \n",
    "\n",
    "1. Create an index `idx` of logical values separating rows of `myData` belonging to different regions after the split; `< mySplit` corresponds `idx==TRUE`;     \n",
    "2. Create subsets according to the `idx`;    \n",
    "3. Calculate mean values of response `y` for both subsets;    \n",
    "4. Calculate sums of squares of `y-mean(y)` for each subset and add them together; this is the value returned by function `oneSplit(myData,myVariable,mySplit)`     \n",
    "\n",
    "\n",
    "Second function is `selectSplit(myData)` which calls function `oneSplit(myData,myVariable,mySplit)` to decide which variable and at which level should make the next split.     \n",
    "\n",
    "The steps of the function are:      \n",
    "\n",
    "1. CReate variables `x1` and `x2` as sorted original predictor variables from small to large;    \n",
    "2. Create variable `splits` as data frame of two variables of midpoints of  `x1` and `x2`; this variable is a data frame with variables names `x1` and `x2`;     \n",
    "3. Create variables `splits1.SS`, `splits2.SS` each of which is vector of sums of squares of all splits by the corresponding variable; this is done by function `oneSplit(myData,myVariable,mySplit)`  \n",
    "4. Create output in the form of list of 2 data frames:     \n",
    "\n",
    "* SS=data.frame(`splits1.SS`,`splits2.SS`)    \n",
    "* splits     \n",
    "\n",
    "<span style=\"color:red\">(Try to do yourself)</span>    \n",
    "\n",
    "*******    \n",
    "*******    \n",
    "*******    \n",
    "*******    \n",
    "*******"
   ]
  },
  {
   "cell_type": "code",
   "execution_count": 4,
   "metadata": {},
   "outputs": [],
   "source": [
    "def oneSplit(myData,myVariable,mySplit):\n",
    "    # myData: numpy ndarray of data including response in column 0\n",
    "    # myVariable: number of variable that needs split 1:ncol(myData)\n",
    "    # mySplit: split level\n",
    "    # convert to numpy.ndarray\n",
    "    if isinstance(myData, pd.core.frame.DataFrame): myData = myData.values\n",
    "    idx = myData[:,myVariable]<mySplit # separate variable by mySplit \n",
    "    mean1 = np.mean(myData[idx,0])\n",
    "    mean2 = np.mean(myData[~idx,0])\n",
    "    return np.sum((myData[idx,0]-mean1)**2) + np.sum((myData[~idx,0]-mean2)**2)\n",
    "\n",
    "def selectSplit(myData):\n",
    "    # myData: numpy ndarray of data including response in column 0\n",
    "    # sort variables\n",
    "    splits = pd.DataFrame({'x1':sorted(myData.x1),'x2':sorted(myData.x2)})\n",
    "    # rolling mean of each 2 elements in column\n",
    "    splits = splits.rolling(2).mean().dropna().reset_index(drop=True)\n",
    "    \n",
    "    # calculate sums of squares of all splits\n",
    "    splits1_SS = [oneSplit(myData,1,splits.x1[z]) for z in np.arange(len(splits))]\n",
    "    splits2_SS = [oneSplit(myData,2,splits.x2[z]) for z in np.arange(len(splits))]\n",
    "    # out: sums of squares and splits\n",
    "    return {'SS':pd.DataFrame({'splits1_SS':splits1_SS,'splits2_SS':splits2_SS}),\n",
    "                              'splits':splits}\n"
   ]
  },
  {
   "cell_type": "markdown",
   "metadata": {},
   "source": [
    "*****     \n",
    "*****     \n",
    "\n",
    "## Find `node1` - the first split variable and split level.\n",
    "\n",
    "<span style=\"color:red\">(Try to do yourself)</span>\n",
    "\n",
    "*******    \n",
    "*******    \n",
    "*******    \n",
    "*******    \n",
    "*******"
   ]
  },
  {
   "cell_type": "code",
   "execution_count": 5,
   "metadata": {
    "scrolled": true
   },
   "outputs": [
    {
     "name": "stdout",
     "output_type": "stream",
     "text": [
      "SS \n",
      "    splits1_SS  splits2_SS\n",
      "0  103.749224   75.868220\n",
      "1   78.167499  111.792670\n",
      "2   90.301727   78.167499\n",
      "3   75.868220  103.749224\n",
      "splits \n",
      "          x1        x2\n",
      "0 -0.976320 -0.631613\n",
      "1 -0.313591  0.214996\n",
      "2  0.320675  0.955845\n",
      "3  1.374640  1.979053\n",
      "splitVar = 1\n"
     ]
    }
   ],
   "source": [
    "# splits for node 1\n",
    "node1 = selectSplit(tree_data)\n",
    "for k,v in node1.items(): print(k,'\\n',v)\n",
    "    \n",
    "# which variable needs split? compare minimum SS for each variable\n",
    "splitVar = 2 if min(node1[\"SS\"].splits1_SS)>min(node1[\"SS\"].splits2_SS) else 1\n",
    "print('splitVar =', splitVar)"
   ]
  },
  {
   "cell_type": "code",
   "execution_count": 6,
   "metadata": {},
   "outputs": [
    {
     "name": "stdout",
     "output_type": "stream",
     "text": [
      "splitNum = 3\n",
      "splitLevel_1 = 1.374640203550033\n"
     ]
    }
   ],
   "source": [
    "# where is to split? row number corresponding to smallest SS\n",
    "splitNum = np.argmin(node1[\"SS\"].splits1_SS) if splitVar==1 else np.argmin(\n",
    "                                                node1[\"SS\"].splits2_SS)  \n",
    "print('splitNum =', splitNum)\n",
    "\n",
    "# what is the split level? row splitNum in column splitVar\n",
    "splitLevel_1 = node1[\"splits\"].iloc[splitNum,splitVar-1]\n",
    "print('splitLevel_1 =', splitLevel_1)"
   ]
  },
  {
   "cell_type": "markdown",
   "metadata": {},
   "source": [
    "*******    \n",
    "*******    \n",
    "*******    \n",
    "\n",
    "## Create 2 regions $R_1$ and $R_2$ breaking the initial sample.    \n",
    "\n",
    "What are the regions?"
   ]
  },
  {
   "cell_type": "code",
   "execution_count": 7,
   "metadata": {},
   "outputs": [
    {
     "name": "stdout",
     "output_type": "stream",
     "text": [
      "          y        x1        x2\n",
      "1  9.033972  1.822821 -1.327041\n",
      "           y        x1        x2\n",
      "0   0.162298  0.926459  0.366176\n",
      "2 -10.962341 -1.610567  2.412592\n",
      "3  -0.940886 -0.285110  0.063815\n",
      "4  -4.902579 -0.342073  1.545515\n"
     ]
    }
   ],
   "source": [
    "mask = tree_data.iloc[:,splitVar]>=splitLevel_1\n",
    "Reg1 = tree_data[mask]\n",
    "print(Reg1)\n",
    "Reg2 = tree_data[~mask]\n",
    "print(Reg2)"
   ]
  },
  {
   "cell_type": "code",
   "execution_count": 8,
   "metadata": {},
   "outputs": [
    {
     "data": {
      "image/png": "[encoded data removed]",
      "text/plain": [
       "<Figure size 432x288 with 1 Axes>"
      ]
     },
     "metadata": {},
     "output_type": "display_data"
    }
   ],
   "source": [
    "ax = tree_data.drop('y',axis=1).plot(x='x1',y='x2',kind='scatter')\n",
    "if splitVar==1: plt.axvline(x=splitLevel_1)\n",
    "else: plt.axhline(y=splitLevel_1)"
   ]
  },
  {
   "cell_type": "markdown",
   "metadata": {},
   "source": [
    "## Which of the regions $R_1$, $R_2$ needs a split?"
   ]
  },
  {
   "cell_type": "code",
   "execution_count": 9,
   "metadata": {},
   "outputs": [
    {
     "name": "stdout",
     "output_type": "stream",
     "text": [
      "{'SS': Empty DataFrame\n",
      "Columns: [splits1_SS, splits2_SS]\n",
      "Index: [], 'splits': Empty DataFrame\n",
      "Columns: [x1, x2]\n",
      "Index: []}\n"
     ]
    }
   ],
   "source": [
    "node2 = selectSplit(Reg1)\n",
    "print(node2)"
   ]
  },
  {
   "cell_type": "markdown",
   "metadata": {},
   "source": [
    "Looks like leaf."
   ]
  },
  {
   "cell_type": "code",
   "execution_count": 10,
   "metadata": {},
   "outputs": [
    {
     "name": "stdout",
     "output_type": "stream",
     "text": [
      "{'SS':    splits1_SS  splits2_SS\n",
      "0   14.188337   62.043766\n",
      "1   18.968864   18.968864\n",
      "2   50.948426   14.188337, 'splits':          x1        x2\n",
      "0 -0.976320  0.214996\n",
      "1 -0.313591  0.955845\n",
      "2  0.320675  1.979053}\n"
     ]
    }
   ],
   "source": [
    "node2 = selectSplit(Reg2)\n",
    "print(node2)"
   ]
  },
  {
   "cell_type": "markdown",
   "metadata": {},
   "source": [
    "This needs further split.   \n",
    "\n",
    "## Split $R_2$ by creating regions $R_3$ and $R_4$ \n",
    "\n",
    "<span style=\"color:red\">(Try to do yourself)</span>\n",
    "\n",
    "*******    \n",
    "*******    \n",
    "*******    \n",
    "*******    \n",
    "*******"
   ]
  },
  {
   "cell_type": "code",
   "execution_count": 11,
   "metadata": {},
   "outputs": [
    {
     "name": "stdout",
     "output_type": "stream",
     "text": [
      "splitVar = 1\n"
     ]
    }
   ],
   "source": [
    "splitVar = 2 if min(node2[\"SS\"].splits1_SS)>min(node2[\"SS\"].splits2_SS) else 1\n",
    "print('splitVar =', splitVar)"
   ]
  },
  {
   "cell_type": "markdown",
   "metadata": {},
   "source": [
    "*******    \n",
    "*******    \n",
    "*******    \n",
    "\n",
    "## What are the split variables and split levels?    \n",
    "\n",
    "<span style=\"color:red\">(Try to do yourself)</span>\n",
    "\n",
    "*******    \n",
    "*******    \n",
    "*******    \n",
    "*******    \n",
    "*******"
   ]
  },
  {
   "cell_type": "code",
   "execution_count": 12,
   "metadata": {},
   "outputs": [
    {
     "name": "stdout",
     "output_type": "stream",
     "text": [
      "splitNum = 0\n",
      "splitLevel_2 = -0.9763199640224745\n"
     ]
    }
   ],
   "source": [
    "splitNum = np.argmin(node2[\"SS\"].splits1_SS) if splitVar==1 else np.argmin(\n",
    "                                                node2[\"SS\"].splits2_SS)  \n",
    "print('splitNum =', splitNum)\n",
    "\n",
    "splitLevel_2 = node2[\"splits\"].iloc[splitNum,splitVar-1]\n",
    "print('splitLevel_2 =', splitLevel_2)"
   ]
  },
  {
   "cell_type": "markdown",
   "metadata": {},
   "source": [
    "*******    \n",
    "*******    \n",
    "*******    \n",
    "\n",
    "## Create the next breakup.   \n",
    "\n",
    "<span style=\"color:red\">(Try to do yourself)</span>\n",
    "\n",
    "*******    \n",
    "*******    \n",
    "*******    \n",
    "*******    \n",
    "*******"
   ]
  },
  {
   "cell_type": "code",
   "execution_count": 13,
   "metadata": {},
   "outputs": [
    {
     "name": "stdout",
     "output_type": "stream",
     "text": [
      "          y        x1        x2\n",
      "0  0.162298  0.926459  0.366176\n",
      "3 -0.940886 -0.285110  0.063815\n",
      "4 -4.902579 -0.342073  1.545515\n",
      "           y        x1        x2\n",
      "2 -10.962341 -1.610567  2.412592\n"
     ]
    }
   ],
   "source": [
    "mask = Reg2.iloc[:,splitVar]>=splitLevel_2\n",
    "Reg3 = Reg2[mask]\n",
    "print(Reg3)\n",
    "Reg4 = Reg2[~mask]\n",
    "print(Reg4)"
   ]
  },
  {
   "cell_type": "markdown",
   "metadata": {},
   "source": [
    "*******    \n",
    "*******    \n",
    "*******"
   ]
  },
  {
   "cell_type": "code",
   "execution_count": 14,
   "metadata": {},
   "outputs": [
    {
     "data": {
      "image/png": "[encoded data removed]",
      "text/plain": [
       "<Figure size 432x288 with 1 Axes>"
      ]
     },
     "execution_count": 14,
     "metadata": {},
     "output_type": "execute_result"
    }
   ],
   "source": [
    "# using ax we continue editing the above plot\n",
    "if splitVar==1:\n",
    "    ax.axvline(x=splitLevel_2,linestyle='--')\n",
    "else:\n",
    "    ax.axhline(y=splitLevel_2,linestyle='--')\n",
    "ax.legend(['Split1','Split2'],bbox_to_anchor=(1, 1))\n",
    "ax.get_figure()"
   ]
  },
  {
   "cell_type": "markdown",
   "metadata": {},
   "source": [
    "## Which region needs a split?    \n",
    "\n",
    "<span style=\"color:red\">(Try to do yourself)</span>\n",
    "\n",
    "*******    \n",
    "*******    \n",
    "*******    \n",
    "*******    \n",
    "*******"
   ]
  },
  {
   "cell_type": "code",
   "execution_count": 15,
   "metadata": {},
   "outputs": [
    {
     "name": "stdout",
     "output_type": "stream",
     "text": [
      "{'SS': Empty DataFrame\n",
      "Columns: [splits1_SS, splits2_SS]\n",
      "Index: [], 'splits': Empty DataFrame\n",
      "Columns: [x1, x2]\n",
      "Index: []}\n"
     ]
    }
   ],
   "source": [
    "node3 = selectSplit(Reg4)\n",
    "print(node3)"
   ]
  },
  {
   "cell_type": "markdown",
   "metadata": {},
   "source": [
    "*******    \n",
    "*******    \n",
    "*******    \n",
    "\n",
    "Found a leaf in $R_4$."
   ]
  },
  {
   "cell_type": "code",
   "execution_count": 16,
   "metadata": {},
   "outputs": [
    {
     "name": "stdout",
     "output_type": "stream",
     "text": [
      "SS \n",
      "    splits1_SS  splits2_SS\n",
      "0    0.608508   12.826492\n",
      "1    7.847506    0.608508\n",
      "splits \n",
      "          x1        x2\n",
      "0 -0.313591  0.214996\n",
      "1  0.320675  0.955845\n"
     ]
    }
   ],
   "source": [
    "node3 = selectSplit(Reg3)\n",
    "for k,v in node3.items(): print(k,'\\n',v)"
   ]
  },
  {
   "cell_type": "markdown",
   "metadata": {},
   "source": [
    "This needs further split\n",
    "\n",
    "\n",
    "## Select next split variable for $R_3$.    \n",
    "\n",
    "<span style=\"color:red\">(Try to do yourself)</span>\n",
    "\n",
    "*******    \n",
    "*******    \n",
    "*******    \n",
    "*******    \n",
    "*******"
   ]
  },
  {
   "cell_type": "code",
   "execution_count": 17,
   "metadata": {},
   "outputs": [
    {
     "name": "stdout",
     "output_type": "stream",
     "text": [
      "splitVar = 1\n"
     ]
    }
   ],
   "source": [
    "splitVar = 2 if min(node3[\"SS\"].splits1_SS)>min(node3[\"SS\"].splits2_SS) else 1\n",
    "print('splitVar =', splitVar)"
   ]
  },
  {
   "cell_type": "markdown",
   "metadata": {},
   "source": [
    "*******    \n",
    "*******    \n",
    "*******"
   ]
  },
  {
   "cell_type": "code",
   "execution_count": 18,
   "metadata": {},
   "outputs": [
    {
     "name": "stdout",
     "output_type": "stream",
     "text": [
      "splitNum = 0\n",
      "splitLevel_3 = -0.31359139097064603\n"
     ]
    }
   ],
   "source": [
    "splitNum = np.argmin(node3[\"SS\"].splits1_SS) if splitVar==1 else np.argmin(\n",
    "                                                node3[\"SS\"].splits2_SS)  \n",
    "print('splitNum =', splitNum)\n",
    "\n",
    "splitLevel_3 = node3[\"splits\"].iloc[splitNum,splitVar-1]\n",
    "print('splitLevel_3 =', splitLevel_3)"
   ]
  },
  {
   "cell_type": "markdown",
   "metadata": {},
   "source": [
    "## Create regions $R_5$ and $R_6$.    \n",
    "\n",
    "<span style=\"color:red\">(Try to do yourself)</span>\n",
    "\n",
    "*******    \n",
    "*******    \n",
    "*******    \n",
    "*******    \n",
    "*******"
   ]
  },
  {
   "cell_type": "code",
   "execution_count": 19,
   "metadata": {},
   "outputs": [
    {
     "name": "stdout",
     "output_type": "stream",
     "text": [
      "          y        x1        x2\n",
      "0  0.162298  0.926459  0.366176\n",
      "3 -0.940886 -0.285110  0.063815\n",
      "          y        x1        x2\n",
      "4 -4.902579 -0.342073  1.545515\n"
     ]
    }
   ],
   "source": [
    "mask = Reg3.iloc[:,splitVar]>=splitLevel_3\n",
    "Reg5 = Reg3[mask]\n",
    "print(Reg5)\n",
    "Reg6 = Reg3[~mask]\n",
    "print(Reg6)"
   ]
  },
  {
   "cell_type": "markdown",
   "metadata": {},
   "source": [
    "*******    \n",
    "*******    \n",
    "*******"
   ]
  },
  {
   "cell_type": "code",
   "execution_count": 20,
   "metadata": {},
   "outputs": [
    {
     "data": {
      "image/png": "[encoded data removed]",
      "text/plain": [
       "<Figure size 432x288 with 1 Axes>"
      ]
     },
     "execution_count": 20,
     "metadata": {},
     "output_type": "execute_result"
    }
   ],
   "source": [
    "# using ax we continue editing the above plot\n",
    "if splitVar==1:\n",
    "    ax.axvline(x=splitLevel_3,linestyle=':')\n",
    "else:\n",
    "    ax.axhline(y=splitLevel_3,linestyle=':')\n",
    "ax.legend(['Split1','Split2','Split 3'],bbox_to_anchor=(1, 1))\n",
    "ax.get_figure()"
   ]
  },
  {
   "cell_type": "markdown",
   "metadata": {},
   "source": [
    "## Find mean values of all regions.    \n",
    "\n",
    "Since all regions, but $R_5$ contain only one observation need to average only $R_5$."
   ]
  },
  {
   "cell_type": "code",
   "execution_count": 21,
   "metadata": {},
   "outputs": [
    {
     "data": {
      "text/plain": [
       "[9.03397249583563,\n",
       " -4.1608770553392915,\n",
       " -1.893722409511722,\n",
       " -10.962340992822002,\n",
       " -0.389293988930543,\n",
       " -4.90257925067408]"
      ]
     },
     "execution_count": 21,
     "metadata": {},
     "output_type": "execute_result"
    }
   ],
   "source": [
    "[np.mean(r.y) for r in [Reg1,Reg2,Reg3,Reg4,Reg5,Reg6]]"
   ]
  },
  {
   "cell_type": "markdown",
   "metadata": {},
   "source": [
    "## Summary    \n",
    "\n",
    "1. Initial split is at $X_1$ at level *splitLevel_1*.     \n",
    "2. Second split is at $X_1$ at level *splitLevel_2*.   \n",
    "3. Third split is at $X_1$ at level *splitLevel_3*.    \n",
    "\n",
    "## Check the splits against fitted tree."
   ]
  },
  {
   "cell_type": "code",
   "execution_count": 22,
   "metadata": {
    "attributes": {
     "classes": [],
     "id": "",
     "r,echo": "conditionalEcho"
    }
   },
   "outputs": [
    {
     "data": {
      "image/png": "[encoded data removed]",
      "text/plain": [
       "<IPython.core.display.Image object>"
      ]
     },
     "execution_count": 22,
     "metadata": {},
     "output_type": "execute_result"
    }
   ],
   "source": [
    "built_tree = DecisionTreeRegressor(random_state=0,max_leaf_nodes=4)\n",
    "built_tree.fit(tree_data.drop('y',axis=1),tree_data.y)\n",
    "plot_tree(built_tree,['x1','x2'])"
   ]
  },
  {
   "cell_type": "markdown",
   "metadata": {},
   "source": [
    "Compare the 'value' in each leaf with regions' mean values calculated above."
   ]
  }
 ],
 "metadata": {
  "kernelspec": {
   "display_name": "Python 3",
   "language": "python",
   "name": "python3"
  },
  "language_info": {
   "codemirror_mode": {
    "name": "ipython",
    "version": 3
   },
   "file_extension": ".py",
   "mimetype": "text/x-python",
   "name": "python",
   "nbconvert_exporter": "python",
   "pygments_lexer": "ipython3",
   "version": "3.8.13"
  }
 },
 "nbformat": 4,
 "nbformat_minor": 4
}
