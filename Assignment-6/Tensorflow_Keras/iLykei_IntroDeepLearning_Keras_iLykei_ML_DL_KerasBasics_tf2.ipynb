{
 "cells": [
  {
   "cell_type": "markdown",
   "metadata": {
    "collapsed": true,
    "nbpresent": {
     "id": "f765eb10-54e6-4a14-912b-e5117e8f433d"
    }
   },
   "source": [
    "# iLykei Lecture Series\n",
    "\n",
    "# Machine Learning\n",
    "\n",
    "# Introduction to Deep Learning\n",
    "\n",
    "# Introduction to Keras\n",
    "\n",
    "## Yuri Balasanov, Leonid Nazarov, &copy; iLykei 2017-2022\n",
    "\n",
    "\n",
    "Keras is an open source neural network library written in Python. It is capable of running on top of one of several libraries (backends): MXNet, Deeplearning4j, Tensorflow, CNTK or Theano. Designed to enable fast experimentation with deep neural networks, it focuses on being minimal, modular and extensible. It was developed as part of the research effort of project ONEIROS (Open-ended Neuro-Electronic Intelligent Robot Operating System), and its primary author and maintainer is François Chollet, a Google engineer.\n",
    "\n",
    "Keras is a very simple and user friendly modular API that allows managing and organizing layers of neural network in a much easier way than TensorFlow."
   ]
  },
  {
   "cell_type": "markdown",
   "metadata": {},
   "source": [
    "# Sequential model\n",
    "\n",
    "The core data structure of Keras is **model**, a way to organize layers of the neural network. <br>\n",
    "\n",
    "The simplest type of model is the Sequential model, a linear stack of layers.<br>\n",
    "\n",
    "Design a simple neural network with one hidden layer consisting of 3 neurons.  \n",
    "\n",
    "First, define the type of the model."
   ]
  },
  {
   "cell_type": "code",
   "execution_count": 1,
   "metadata": {
    "scrolled": true
   },
   "outputs": [
    {
     "name": "stderr",
     "output_type": "stream",
     "text": [
      "2022-11-02 11:13:45.714968: I tensorflow/core/platform/cpu_feature_guard.cc:193] This TensorFlow binary is optimized with oneAPI Deep Neural Network Library (oneDNN) to use the following CPU instructions in performance-critical operations:  AVX2 FMA\n",
      "To enable them in other operations, rebuild TensorFlow with the appropriate compiler flags.\n",
      "2022-11-02 11:13:50.474491: I tensorflow/core/platform/cpu_feature_guard.cc:193] This TensorFlow binary is optimized with oneAPI Deep Neural Network Library (oneDNN) to use the following CPU instructions in performance-critical operations:  AVX2 FMA\n",
      "To enable them in other operations, rebuild TensorFlow with the appropriate compiler flags.\n"
     ]
    }
   ],
   "source": [
    "%matplotlib inline\n",
    "from tensorflow.keras.models import Sequential\n",
    "from tensorflow.keras.layers import Dense, Dropout, Activation, Flatten\n",
    "\n",
    "model =  Sequential() # create model"
   ]
  },
  {
   "cell_type": "markdown",
   "metadata": {
    "collapsed": true
   },
   "source": [
    "Specify the first (hidden) layer."
   ]
  },
  {
   "cell_type": "code",
   "execution_count": 2,
   "metadata": {},
   "outputs": [],
   "source": [
    "model.add(Dense(units=3, input_dim=30)) # add hidden layer"
   ]
  },
  {
   "cell_type": "markdown",
   "metadata": {},
   "source": [
    "Alternative way of calling the same function creating hidden layer is: <br>\n",
    "\n",
    "`model.add(Dense(3, input_dim=30, activation='relu')).` <br>\n",
    "\n",
    "Difference between the two is activation type that can be added separately or inside `model.add` method.\n",
    "\n",
    "Parameter `input_dim` sets number of inputs (predictors). <br>\n",
    "Parameter `activation` is set to `relu` which is a common [activation function](https://en.wikipedia.org/wiki/Rectifier_(neural_networks)) for neural networks.\n",
    "\n",
    "Input layer is not explicitly created. Instead, only number of neurons (features) that feed into the first hidden layer, needs to be specified (30 for the Wisconsin Breast Cancer Dataset considered in this notebook). \n",
    "\n",
    "There is also no need to worry about the input dimensions for subsequent layers: neurons in the previous layer form input for the next layer. The output dimension of the first hidden layer is equal to 3. "
   ]
  },
  {
   "cell_type": "markdown",
   "metadata": {},
   "source": [
    "Selection of activation function for the hidden layer can be done from the list of available activations, providing formulas for the most popular ones: \n",
    "\n",
    "- softmax(x) :   $f_{i}(x)=\\frac{e^{x_{i}}}{\\sum_{i=1}^{n}e^{x_{i}}},i=1,...,n$\n",
    "- elu(x)\n",
    "- selu(x)\n",
    "- softplus(x) = $ln(1 + e^{x})$\n",
    "- softsign(x) = $\\frac {x}{1+|x|}$\n",
    "- relu(x) = $max(0,x)$; (those familiar with options trading will recognize call option payof function in `relu`)\n",
    "- tanh(x) \n",
    "- sigmoid(x) = $\\frac {1}{1+e^{-x}}$\n",
    "- hard_sigmoid(x)\n",
    "- linear(x) = $x$\n",
    "- LeakyReLU(x,alpha) = $max(\\alpha *x,x)$\n",
    "\n",
    "Activation function 'relu' has earned significant popularity recently because it usually provides faster convergence relative to 'tanh' or 'sigmoid'.\n",
    "\n",
    "Since activation was not specified in the previous cell add it now."
   ]
  },
  {
   "cell_type": "code",
   "execution_count": 3,
   "metadata": {},
   "outputs": [],
   "source": [
    "model.add(Activation('relu')) "
   ]
  },
  {
   "cell_type": "markdown",
   "metadata": {},
   "source": [
    "Add output layer with 1 neuron and 'sigmoid' activation function producing predictive probability for Class 1."
   ]
  },
  {
   "cell_type": "code",
   "execution_count": 4,
   "metadata": {},
   "outputs": [],
   "source": [
    "# output layer for binary classification\n",
    "model.add(Dense(units=1))\n",
    "model.add(Activation('sigmoid'))"
   ]
  },
  {
   "cell_type": "markdown",
   "metadata": {},
   "source": [
    "The following plot displays the nework architecture for Wisconsin breast cancer example and explains the nature of **Dense** (fully connected) layer: each neuron of it is connected with all units of the next layer.\n",
    " \n",
    "![Model plot](https://ilykei.com/api/fileProxy/documents%2FAdvanced%20Machine%20Learning%2FLecture%207%20AdvML%2FR_nn_plot.png)\n",
    "\n",
    "The picture was created with function *plot()* from R **neuralnet** package. <br>\n",
    "\n",
    "Keras has tools for model visualization of its own. \n",
    "\n",
    "Module `tensorflow.keras.utils` provides utility functions to plot a Keras model (using **graphviz**). \n",
    "Unlike the R function used above this utility does not show neurons. It describes network in terms of layers.   \n",
    "\n",
    "The code below plots another graph of the same network model: "
   ]
  },
  {
   "cell_type": "code",
   "execution_count": 5,
   "metadata": {},
   "outputs": [
    {
     "data": {
      "image/svg+xml": [
       "<svg xmlns=\"http://www.w3.org/2000/svg\" xmlns:xlink=\"http://www.w3.org/1999/xlink\" width=\"162pt\" height=\"328pt\" viewBox=\"0.00 0.00 167.00 337.00\">\n",
       "<g id=\"graph0\" class=\"graph\" transform=\"scale(0.972222 0.972222) rotate(0) translate(4 333)\">\n",
       "<title>G</title>\n",
       "<polygon fill=\"white\" stroke=\"none\" points=\"-4,4 -4,-333 163,-333 163,4 -4,4\"/>\n",
       "<!-- 140623300547728 -->\n",
       "<g id=\"node1\" class=\"node\">\n",
       "<title>140623300547728</title>\n",
       "<polygon fill=\"none\" stroke=\"black\" points=\"0,-292.5 0,-328.5 159,-328.5 159,-292.5 0,-292.5\"/>\n",
       "<text text-anchor=\"middle\" x=\"41\" y=\"-306.8\" font-family=\"Times,serif\" font-size=\"14.00\">dense_input</text>\n",
       "<polyline fill=\"none\" stroke=\"black\" points=\"82,-292.5 82,-328.5\"/>\n",
       "<text text-anchor=\"middle\" x=\"120.5\" y=\"-306.8\" font-family=\"Times,serif\" font-size=\"14.00\">InputLayer</text>\n",
       "</g>\n",
       "<!-- 140623300547680 -->\n",
       "<g id=\"node2\" class=\"node\">\n",
       "<title>140623300547680</title>\n",
       "<polygon fill=\"none\" stroke=\"black\" points=\"31,-219.5 31,-255.5 128,-255.5 128,-219.5 31,-219.5\"/>\n",
       "<text text-anchor=\"middle\" x=\"54.5\" y=\"-233.8\" font-family=\"Times,serif\" font-size=\"14.00\">dense</text>\n",
       "<polyline fill=\"none\" stroke=\"black\" points=\"78,-219.5 78,-255.5\"/>\n",
       "<text text-anchor=\"middle\" x=\"103\" y=\"-233.8\" font-family=\"Times,serif\" font-size=\"14.00\">Dense</text>\n",
       "</g>\n",
       "<!-- 140623300547728&#45;&gt;140623300547680 -->\n",
       "<g id=\"edge1\" class=\"edge\">\n",
       "<title>140623300547728-&gt;140623300547680</title>\n",
       "<path fill=\"none\" stroke=\"black\" d=\"M79.5,-292.31C79.5,-284.29 79.5,-274.55 79.5,-265.57\"/>\n",
       "<polygon fill=\"black\" stroke=\"black\" points=\"83,-265.53 79.5,-255.53 76,-265.53 83,-265.53\"/>\n",
       "</g>\n",
       "<!-- 140623301366496 -->\n",
       "<g id=\"node3\" class=\"node\">\n",
       "<title>140623301366496</title>\n",
       "<polygon fill=\"none\" stroke=\"black\" points=\"7.5,-146.5 7.5,-182.5 151.5,-182.5 151.5,-146.5 7.5,-146.5\"/>\n",
       "<text text-anchor=\"middle\" x=\"42.5\" y=\"-160.8\" font-family=\"Times,serif\" font-size=\"14.00\">activation</text>\n",
       "<polyline fill=\"none\" stroke=\"black\" points=\"77.5,-146.5 77.5,-182.5\"/>\n",
       "<text text-anchor=\"middle\" x=\"114.5\" y=\"-160.8\" font-family=\"Times,serif\" font-size=\"14.00\">Activation</text>\n",
       "</g>\n",
       "<!-- 140623300547680&#45;&gt;140623301366496 -->\n",
       "<g id=\"edge2\" class=\"edge\">\n",
       "<title>140623300547680-&gt;140623301366496</title>\n",
       "<path fill=\"none\" stroke=\"black\" d=\"M79.5,-219.31C79.5,-211.29 79.5,-201.55 79.5,-192.57\"/>\n",
       "<polygon fill=\"black\" stroke=\"black\" points=\"83,-192.53 79.5,-182.53 76,-192.53 83,-192.53\"/>\n",
       "</g>\n",
       "<!-- 140623301637024 -->\n",
       "<g id=\"node4\" class=\"node\">\n",
       "<title>140623301637024</title>\n",
       "<polygon fill=\"none\" stroke=\"black\" points=\"24,-73.5 24,-109.5 135,-109.5 135,-73.5 24,-73.5\"/>\n",
       "<text text-anchor=\"middle\" x=\"54.5\" y=\"-87.8\" font-family=\"Times,serif\" font-size=\"14.00\">dense_1</text>\n",
       "<polyline fill=\"none\" stroke=\"black\" points=\"85,-73.5 85,-109.5\"/>\n",
       "<text text-anchor=\"middle\" x=\"110\" y=\"-87.8\" font-family=\"Times,serif\" font-size=\"14.00\">Dense</text>\n",
       "</g>\n",
       "<!-- 140623301366496&#45;&gt;140623301637024 -->\n",
       "<g id=\"edge3\" class=\"edge\">\n",
       "<title>140623301366496-&gt;140623301637024</title>\n",
       "<path fill=\"none\" stroke=\"black\" d=\"M79.5,-146.31C79.5,-138.29 79.5,-128.55 79.5,-119.57\"/>\n",
       "<polygon fill=\"black\" stroke=\"black\" points=\"83,-119.53 79.5,-109.53 76,-119.53 83,-119.53\"/>\n",
       "</g>\n",
       "<!-- 140623301637840 -->\n",
       "<g id=\"node5\" class=\"node\">\n",
       "<title>140623301637840</title>\n",
       "<polygon fill=\"none\" stroke=\"black\" points=\"1,-0.5 1,-36.5 158,-36.5 158,-0.5 1,-0.5\"/>\n",
       "<text text-anchor=\"middle\" x=\"42.5\" y=\"-14.8\" font-family=\"Times,serif\" font-size=\"14.00\">activation_1</text>\n",
       "<polyline fill=\"none\" stroke=\"black\" points=\"84,-0.5 84,-36.5\"/>\n",
       "<text text-anchor=\"middle\" x=\"121\" y=\"-14.8\" font-family=\"Times,serif\" font-size=\"14.00\">Activation</text>\n",
       "</g>\n",
       "<!-- 140623301637024&#45;&gt;140623301637840 -->\n",
       "<g id=\"edge4\" class=\"edge\">\n",
       "<title>140623301637024-&gt;140623301637840</title>\n",
       "<path fill=\"none\" stroke=\"black\" d=\"M79.5,-73.31C79.5,-65.29 79.5,-55.55 79.5,-46.57\"/>\n",
       "<polygon fill=\"black\" stroke=\"black\" points=\"83,-46.53 79.5,-36.53 76,-46.53 83,-46.53\"/>\n",
       "</g>\n",
       "</g>\n",
       "</svg>"
      ],
      "text/plain": [
       "<IPython.core.display.SVG object>"
      ]
     },
     "execution_count": 5,
     "metadata": {},
     "output_type": "execute_result"
    }
   ],
   "source": [
    "from IPython.display import SVG\n",
    "from tensorflow.keras.utils import model_to_dot\n",
    "SVG(model_to_dot(model,dpi=70).create(prog='dot', format='svg'))"
   ]
  },
  {
   "cell_type": "markdown",
   "metadata": {},
   "source": [
    " Another way is to save the diagram to a file and then plot it with the function `plot_model` which takes two optional arguments:\n",
    "- `show_shapes` (defaults to False) controls whether output shapes are shown in the graph.\n",
    "- `show_layer_names` (defaults to True) controls whether layer names are shown in the graph."
   ]
  },
  {
   "cell_type": "code",
   "execution_count": 6,
   "metadata": {},
   "outputs": [
    {
     "data": {
      "image/png": "[encoded data removed]",
      "text/plain": [
       "<IPython.core.display.Image object>"
      ]
     },
     "execution_count": 6,
     "metadata": {},
     "output_type": "execute_result"
    }
   ],
   "source": [
    "from tensorflow.keras.utils import plot_model\n",
    "plot_model(model,show_shapes=True,show_layer_names=True)"
   ]
  },
  {
   "cell_type": "markdown",
   "metadata": {},
   "source": [
    "Here is the plot of the the same network model with additional information loaded from the file *model11.png* using a line of markdown code:\n",
    "\n",
    "\"! [model] (./Path to model)\"\n",
    "\n",
    "The resulting plot is:\n",
    "\n",
    "![Model plot](model11.png)\n",
    "\n",
    "Summary of the model can also be shown including layers types, shapes and the number of parameters:"
   ]
  },
  {
   "cell_type": "code",
   "execution_count": 7,
   "metadata": {
    "scrolled": true
   },
   "outputs": [
    {
     "name": "stdout",
     "output_type": "stream",
     "text": [
      "Model: \"sequential\"\n",
      "_________________________________________________________________\n",
      "Layer (type)                 Output Shape              Param #   \n",
      "=================================================================\n",
      "dense (Dense)                (None, 3)                 93        \n",
      "_________________________________________________________________\n",
      "activation (Activation)      (None, 3)                 0         \n",
      "_________________________________________________________________\n",
      "dense_1 (Dense)              (None, 1)                 4         \n",
      "_________________________________________________________________\n",
      "activation_1 (Activation)    (None, 1)                 0         \n",
      "=================================================================\n",
      "Total params: 97\n",
      "Trainable params: 97\n",
      "Non-trainable params: 0\n",
      "_________________________________________________________________\n",
      "None\n"
     ]
    }
   ],
   "source": [
    "print(model.summary())"
   ]
  },
  {
   "cell_type": "markdown",
   "metadata": {},
   "source": [
    "Use more compact syntax for describing the same Sequential network: "
   ]
  },
  {
   "cell_type": "code",
   "execution_count": 8,
   "metadata": {},
   "outputs": [],
   "source": [
    "model =  Sequential()\n",
    "model.add(Dense(3, input_dim=30,activation='relu'))\n",
    "model.add(Dense(1,activation='sigmoid'))"
   ]
  },
  {
   "cell_type": "markdown",
   "metadata": {},
   "source": [
    "or even define the model in one line."
   ]
  },
  {
   "cell_type": "code",
   "execution_count": 9,
   "metadata": {},
   "outputs": [],
   "source": [
    "model = Sequential([Dense(3, input_dim=30),Activation('relu'),\n",
    "    Dense(1),Activation('sigmoid')])"
   ]
  },
  {
   "cell_type": "markdown",
   "metadata": {},
   "source": [
    "# More complex architectures \n",
    "\n",
    "## Functional API\n",
    "\n",
    "Keras' functional API provides tools for defining more complex models, such as multi-output models, directed acyclic graphs, or models with shared layers. \n",
    "\n",
    "Models are defined by creating instances of layers and connecting them directly to each other pair by pair, then defining a model that specifies the layers to act as the input and output to the model.\n",
    "\n",
    "Define the simple model as above using functional API. \n",
    "\n",
    "Start with the input layer. Recall that input layer was not explicitly created in sequential model. Here it must be created and defined as a standalone Input layer that specifies the shape of input data.\n",
    "\n",
    "The input layer takes shape (tensor shape) argument that is a tuple that indicates the dimensionality of the input data.\n",
    "\n",
    "The shape must explicitly leave room for the mini-batch size used when splitting the data during training process. \n",
    "\n",
    "Therefore, the shape tuple is always defined with a hanging last dimension:"
   ]
  },
  {
   "cell_type": "code",
   "execution_count": 10,
   "metadata": {},
   "outputs": [
    {
     "data": {
      "text/plain": [
       "<KerasTensor: shape=(None, 30) dtype=float32 (created by layer 'input_1')>"
      ]
     },
     "execution_count": 10,
     "metadata": {},
     "output_type": "execute_result"
    }
   ],
   "source": [
    "from tensorflow.keras.layers import Input\n",
    "\n",
    "# This returns a tensor\n",
    "inputs = Input(shape=(30,))\n",
    "inputs"
   ]
  },
  {
   "cell_type": "markdown",
   "metadata": {},
   "source": [
    "A layer instance is callable (on a tensor), and it returns a tensor. The layers in the model are connected pairwise. <br>\n",
    "This is done by specifying where the input comes from when defining each new layer. \n",
    "\n",
    "The following line of code states that the input of Dense layer `hidden_1` comes from `inputs`. <br> "
   ]
  },
  {
   "cell_type": "code",
   "execution_count": 11,
   "metadata": {},
   "outputs": [],
   "source": [
    "hidden = Dense(3, activation='relu',name='hidden_1')(inputs)"
   ]
  },
  {
   "cell_type": "markdown",
   "metadata": {},
   "source": [
    "Parameter `name` is optional. It can be used to pass a name of any layer as an argument.\n",
    "\n",
    "Define the output layer and create a model."
   ]
  },
  {
   "cell_type": "code",
   "execution_count": 12,
   "metadata": {},
   "outputs": [],
   "source": [
    "from tensorflow.keras.models import Model\n",
    "output = Dense(1, activation='sigmoid')(hidden)\n",
    "model_API = Model(inputs=inputs, outputs=output)"
   ]
  },
  {
   "cell_type": "markdown",
   "metadata": {},
   "source": [
    "Model class is used to create a model from layers. It requires only the input and output layers specifications.\n",
    "\n",
    "Here is the model we built: "
   ]
  },
  {
   "cell_type": "code",
   "execution_count": 13,
   "metadata": {},
   "outputs": [
    {
     "data": {
      "image/png": "[encoded data removed]",
      "text/plain": [
       "<IPython.core.display.Image object>"
      ]
     },
     "execution_count": 13,
     "metadata": {},
     "output_type": "execute_result"
    }
   ],
   "source": [
    "plot_model(model, to_file='model_API.png',show_shapes=True,show_layer_names=True)"
   ]
  },
  {
   "cell_type": "markdown",
   "metadata": {},
   "source": [
    "\n",
    "## Concatenating inputs\n",
    "\n",
    "Consider now more complex models. \n",
    "\n",
    "Sometimes in more complex models inputs from a list need to be **concatenated**.\n",
    "\n",
    "Input is a list of tensors and the result is a single tensor: concatenation of all inputs from the list. \n",
    "\n",
    "All tensors must have the same shape except for the concatenation axis. <br>\n",
    "The meaning of this condition can be illustrated on a simple example of tensors of rank 2 which are matrices. <br>\n",
    "\n",
    "Consider, for example, 2 matrices $A,~B$ with the same number of columns, but different number of rows:\n",
    "\n",
    "$$A=\\left(\\begin{array}{cc} \n",
    "a_{11} & a_{12} & a_{13} & a_{14} \\\\\n",
    "a_{21} & a_{22} & a_{23} & a_{24} \\\\\n",
    "a_{31} & a_{32} & a_{33} & a_{34}\n",
    "\\end{array}\\right)\n",
    "$$\n",
    "\n",
    "$$B=\\left(\\begin{array}{cc} \n",
    "b_{11} & b_{12} & b_{13} & b_{14} \\\\\n",
    "b_{21} & b_{22} & b_{23} & b_{24} \\\\\n",
    "b_{31} & b_{32} & b_{33} & b_{34} \\\\\n",
    "b_{41} & b_{42} & b_{43} & b_{44} \\\\\n",
    "b_{51} & b_{52} & b_{53} & b_{54}\n",
    "\\end{array}\\right)\n",
    "$$\n",
    "\n",
    "These matrices as inputs can be concatenated by first dimension (axis), i.e. by appending rows of $B$ to rows of $A$:\n",
    "\n",
    "$$\\left(\\begin{array}{cc} \n",
    "a_{11} & a_{12} & a_{13} & a_{14} \\\\\n",
    "a_{21} & a_{22} & a_{23} & a_{24} \\\\\n",
    "a_{31} & a_{32} & a_{33} & a_{34} \\\\\n",
    "b_{11} & b_{12} & b_{13} & b_{14} \\\\\n",
    "b_{21} & b_{22} & b_{23} & b_{24} \\\\\n",
    "b_{31} & b_{32} & b_{33} & b_{34} \\\\\n",
    "b_{41} & b_{42} & b_{43} & b_{44} \\\\\n",
    "b_{51} & b_{52} & b_{53} & b_{54}\n",
    "\\end{array}\\right)\n",
    "$$\n",
    "\n",
    "But they cannot be concatenated by the second dimension: columns of $A$ cannot be concatenated with columns of $B$ because the numbers of rows are different.\n",
    "\n",
    "Build a model with two inputs using layer of concatenated inputs."
   ]
  },
  {
   "cell_type": "code",
   "execution_count": 14,
   "metadata": {},
   "outputs": [],
   "source": [
    "from tensorflow.keras.layers import concatenate\n",
    "input1 = Input(shape=(10,), name='input_1')\n",
    "hidden = Dense(3, activation='relu',name='hidden1')(input1)\n",
    "input2 = Input(shape=(5,), name='input_2')\n",
    "merge = concatenate([hidden,input2], name='merge')\n",
    "hidden2 = Dense(3, activation='relu',name='hidden2')(merge)\n",
    "output = Dense(1, activation='sigmoid')(hidden2)\n",
    "model_2_inputs = Model(inputs=[input1,input2], outputs=output)"
   ]
  },
  {
   "cell_type": "markdown",
   "metadata": {},
   "source": [
    "Here is the result:"
   ]
  },
  {
   "cell_type": "code",
   "execution_count": 15,
   "metadata": {},
   "outputs": [
    {
     "data": {
      "image/png": "[encoded data removed]",
      "text/plain": [
       "<IPython.core.display.Image object>"
      ]
     },
     "execution_count": 15,
     "metadata": {},
     "output_type": "execute_result"
    }
   ],
   "source": [
    "plot_model(model_2_inputs, to_file='model_2_inputs.png',show_shapes=True,show_layer_names=True)"
   ]
  },
  {
   "cell_type": "markdown",
   "metadata": {},
   "source": [
    "## Shared layers\n",
    "\n",
    "Another way of adding flexibility to network design is shared layers.\n",
    "\n",
    "To share a layer across different inputs, simply instantiate the layer once, then call it on as many inputs as necessary:"
   ]
  },
  {
   "cell_type": "code",
   "execution_count": 16,
   "metadata": {},
   "outputs": [],
   "source": [
    "input1 = Input(shape=(8,), name='input_1')\n",
    "input2 = Input(shape=(8,), name='input_2')\n",
    "shared = Dense(5, activation='relu',name='shared')\n",
    "x1 = shared(input1)\n",
    "x2 = shared(input2)\n",
    "output1 = Dense(1, activation='sigmoid', name='output_1')(x1)\n",
    "output2 = Dense(1, activation='sigmoid', name='output_2')(x2)\n",
    "model_shared = Model(inputs=[input1,input2], outputs=[output1,output2])\n"
   ]
  },
  {
   "cell_type": "markdown",
   "metadata": {},
   "source": [
    "The resulting model has two inputs, two outputs and shared layer. \n",
    "\n",
    "Note that when we reuse the same layer instance  multiple times, the weights of the layer  are also being reused  (it is effectively the same layer)."
   ]
  },
  {
   "cell_type": "code",
   "execution_count": 17,
   "metadata": {},
   "outputs": [
    {
     "data": {
      "image/png": "[encoded data removed]",
      "text/plain": [
       "<IPython.core.display.Image object>"
      ]
     },
     "execution_count": 17,
     "metadata": {},
     "output_type": "execute_result"
    }
   ],
   "source": [
    "plot_model(model_shared, to_file='model_shared.png',\n",
    "           show_shapes=True,show_layer_names=True)"
   ]
  },
  {
   "cell_type": "markdown",
   "metadata": {},
   "source": [
    "<font color=blue>\n",
    "\n",
    "**Assignment 1**\n",
    "\n",
    "Write code creating the following network architecture as *test_model1*.\n",
    "\n",
    "![test_model1](https://ilykei.com/api/fileProxy/documents%2FAdvanced%20Machine%20Learning%2FLecture%207%20AdvML%2Ftest_model1.png) \n",
    "\n",
    "Print out the plot of the resulting model.\n",
    "\n",
    "Enter code in the following cell."
   ]
  },
  {
   "cell_type": "code",
   "execution_count": 18,
   "metadata": {
    "scrolled": true
   },
   "outputs": [],
   "source": [
    "#Skipped code\n",
    "# Assignment 1\n",
    "\n",
    "\n",
    "\n",
    "\n",
    "\n",
    "\n",
    "\n",
    "#plot_model(test_model1, to_file='test_model1.png',\n",
    "#           show_shapes=True,show_layer_names=True)"
   ]
  },
  {
   "cell_type": "markdown",
   "metadata": {},
   "source": [
    "![test_model1](./test_model1.png) \n"
   ]
  },
  {
   "cell_type": "markdown",
   "metadata": {},
   "source": [
    "## Merge layers\n",
    "\n",
    "Merge layers is a set of layers that merge input tensors  executing arithmetic operations over them or just concatenating them. \n",
    "\n",
    "The list of merge layers is not large: \n",
    "- Add, Subtract, Multiply, Average, Maximum  - take as input a list of tensors, all of the same shape, and return a single tensor (also of the same shape) - the result of corresponding pointwise arithmetic operation \n",
    "- Dot - dot product, \n",
    "- Concatenate has been already discussed earlier. \n",
    "\n",
    "Functional API uses lowercase variants of their names. Import them from `keras.layers` before using, e.g.\n",
    "\n",
    "`from tensorflow.keras.layers import add`\n",
    "\n",
    "NB! Though `subtract` layer is described in Keras documentation it may not work in earlier versions giving the error message **\"cannot import name 'subtract'\"** when you try to import it. \n",
    "In order to subtract two inputs you may use `Lambda` core layer that wraps arbitrary expression as a Layer object. For example, the following line:  "
   ]
  },
  {
   "cell_type": "code",
   "execution_count": 18,
   "metadata": {},
   "outputs": [],
   "source": [
    "from tensorflow.keras.layers import Input, Lambda\n",
    "sqr_input = Lambda(lambda x: x*x)(input1)"
   ]
  },
  {
   "cell_type": "markdown",
   "metadata": {},
   "source": [
    "defines layer that returns squared input. \n",
    "\n",
    "Here is a way of subtracting two inputs using `Lambda` layer"
   ]
  },
  {
   "cell_type": "code",
   "execution_count": 19,
   "metadata": {},
   "outputs": [],
   "source": [
    "x = Input(shape=(100,))\n",
    "y = Input(shape=(100,))\n",
    "# Note: shapes must match!\n",
    "subtract_layer = Lambda(lambda inputs: inputs[0] - inputs[1])\n",
    "diff = subtract_layer([x, y])"
   ]
  },
  {
   "cell_type": "markdown",
   "metadata": {},
   "source": [
    "<font color=blue>\n",
    "    \n",
    "**Assignment 2**\n",
    "\n",
    "Create network with two inputs. <br>\n",
    "Input shapes are (10,) and (20,). <br>\n",
    "Each input is processed with its own Dense layer `hidden1` and `hidden2` consisting of 5 neurons. <br>\n",
    "The network output should be square of differences of outputs of `hidden1` and `hidden2`. <br>\n",
    "Draw this network. "
   ]
  },
  {
   "cell_type": "code",
   "execution_count": 21,
   "metadata": {
    "scrolled": true
   },
   "outputs": [],
   "source": [
    "#Skipped code\n",
    "# Assignment 2 \n",
    "\n"
   ]
  },
  {
   "cell_type": "markdown",
   "metadata": {},
   "source": [
    "![test_model5](https://ilykei.com/api/fileProxy/documents%2FAdvanced%20Machine%20Learning%2FLecture%207%20AdvML%2Ftest_model5.png)"
   ]
  },
  {
   "cell_type": "markdown",
   "metadata": {},
   "source": [
    "# Compile model\n",
    "\n",
    "Once the model architecture is finalized, configure its learning process using `compile()`, for example:"
   ]
  },
  {
   "cell_type": "code",
   "execution_count": 20,
   "metadata": {},
   "outputs": [],
   "source": [
    "model.compile(loss='categorical_crossentropy', optimizer='sgd')"
   ]
  },
  {
   "cell_type": "markdown",
   "metadata": {},
   "source": [
    "Here `model` is the sequential model created above.  \n",
    "\n",
    "Compillation of the model requires declaration of the loss function (objective function) and the optimizer.\n",
    "\n",
    "Keras has a variety of [loss functions](https://keras.io/losses/) and [optimizers](https://keras.io/optimizers/) to choose from. \n",
    "\n",
    "An optional parameter `metrics` also can be set. Metric is a function (or list of functions) that is used to judge the performance of the model. \n",
    "\n",
    "Metric can be selected from the [list of available metrics](https://keras.io/metrics/) or passed as custom metric function name during the compilation step. <br>\n",
    "The function would need to take  `(y_true, y_pred)` as arguments and return a single tensor value.\n",
    "\n",
    "In the example below we use logarithmic loss as objective function, which for a binary classification problem is defined in Keras as `binary_crossentropy`. \n",
    "\n",
    "We can also use gradient descent algorithm `adam` and choose `accuracy` as metric for collectiing and reporting during training."
   ]
  },
  {
   "cell_type": "code",
   "execution_count": 21,
   "metadata": {},
   "outputs": [],
   "source": [
    "model.compile(loss='binary_crossentropy', optimizer='adam',\n",
    "              metrics=['accuracy'])"
   ]
  },
  {
   "cell_type": "markdown",
   "metadata": {},
   "source": [
    "# Data for example\n",
    "\n",
    "Example in this notebook use [**Breast cancer Wisconsin dataset**](https://archive.ics.uci.edu/ml/datasets/Breast+Cancer+Wisconsin+(Diagnostic)). \n",
    "\n",
    "The breast cancer dataset is a well known data for binary classification. It was created by Dr. William H. Wolberg, physician at the University Of Wisconsin Hospital at Madison, Wisconsin, USA.\n",
    "\n",
    "Features are created from a digitized images of a [fine needle aspirate (FNA)](https://en.wikipedia.org/wiki/Fine-needle_aspiration), a biopsy method, of a breast mass. They describe characteristics of the cell nuclei present in the image.\n",
    "\n",
    "To create the dataset Dr. Wolberg used ﬂuid samples, taken from patients with solid breast masses and graphical software [Xcyt](http://software.broadinstitute.org/mpg/xcyt/) capable of performing analysis of cytological features on a digital scan. \n",
    "\n",
    "Main research article on the subject of this analysis, including an image of malignant cells, is [Wisconsin Breast Cancer Dataset and Machine Learning for Breast Cancer Detection, by Lucas Rodrigues Borges](https://www.researchgate.net/publication/311950799_Analysis_of_the_Wisconsin_Breast_Cancer_Dataset_and_Machine_Learning_for_Breast_Cancer_Detection [accessed Nov 09 2017]).\n",
    "\n",
    "The data set has following characteristics:\n",
    "\n",
    "- Classes:\t2\n",
    "- Samples per class:\t212(malignant), 357(benign)\n",
    "- Samples total:\t569\n",
    "- Dimensionality:\t30\n",
    "- Features:\treal, positive\n",
    "\n",
    "Load the data using utility `load_breast_cancer` from `sklearn.datasets` module. <br>\n",
    "Print names of the features and dimensions of the data."
   ]
  },
  {
   "cell_type": "code",
   "execution_count": 22,
   "metadata": {
    "scrolled": true
   },
   "outputs": [
    {
     "name": "stdout",
     "output_type": "stream",
     "text": [
      "['mean radius' 'mean texture' 'mean perimeter' 'mean area'\n",
      " 'mean smoothness' 'mean compactness' 'mean concavity'\n",
      " 'mean concave points' 'mean symmetry' 'mean fractal dimension'\n",
      " 'radius error' 'texture error' 'perimeter error' 'area error'\n",
      " 'smoothness error' 'compactness error' 'concavity error'\n",
      " 'concave points error' 'symmetry error' 'fractal dimension error'\n",
      " 'worst radius' 'worst texture' 'worst perimeter' 'worst area'\n",
      " 'worst smoothness' 'worst compactness' 'worst concavity'\n",
      " 'worst concave points' 'worst symmetry' 'worst fractal dimension']\n",
      "data (569, 30) labels (569,)\n"
     ]
    }
   ],
   "source": [
    "%matplotlib inline\n",
    "from sklearn.datasets import load_breast_cancer\n",
    "data  = load_breast_cancer()\n",
    "print(data.feature_names)\n",
    "print('data',data.data.shape,'labels',data.target.shape)"
   ]
  },
  {
   "cell_type": "markdown",
   "metadata": {},
   "source": [
    "# Fit model on training data\n",
    "\n",
    "Training or fitting the model on loaded data is done by calling method `fit` on the model. \n",
    "\n",
    "Split the breast cancer dataset into train and test subsets and train simple sequential architecture defined above with one hidden layer with 3 units and `relu` activation function, followed by one output unit with sigmoid activation.\n",
    "\n",
    "![Model plot](https://ilykei.com/api/fileProxy/documents%2FAdvanced%20Machine%20Learning%2FLecture%207%20AdvML%2FR_nn_plot.png)\n"
   ]
  },
  {
   "cell_type": "code",
   "execution_count": 23,
   "metadata": {},
   "outputs": [],
   "source": [
    "from sklearn.model_selection import train_test_split\n",
    "\n",
    "X_train, X_test, y_train, y_test = train_test_split(data.data, data.target,\n",
    "                                                    test_size=0.2, random_state=1)\n",
    "def get_model_simple():\n",
    "    model = Sequential([Dense(3, input_dim=30),Activation('relu'),\n",
    "    Dense(1),Activation('sigmoid')])\n",
    "    model.compile(loss='binary_crossentropy', optimizer='adam',\n",
    "                  metrics=['accuracy'])\n",
    "    return model\n"
   ]
  },
  {
   "cell_type": "markdown",
   "metadata": {},
   "source": [
    "Creating and compiling model by a function instead of creating it directly allows experimenting and fitting with the model multiple times. <br>\n",
    "If model is fitted again it will use the previously fitted weights which makes fitting experiment incorrect. <br>\n",
    "In order to reinitialize weights call function generating the model.  \n",
    "\n",
    "Fit the model on train set using 10 epochs and iterating on the data in batches of 32 samples.\n",
    "\n",
    "- Parameter `epoch` is an arbitrary cutoff, typically means one pass over entire dataset, used to separate training process in distinct phases. <br>\n",
    "- Parameter `batch_size` is size of batch, a set of samples (observations) that is a subsample processed simultaneously. Processing of each batch results in one update of the network weights. <br>\n",
    "- Batch approximates distribution of weights better than single observation. The larger the batch the better the approximation. But larger batch processing requires more memory. \n",
    "- For evaluation or prediction it is recommended to use as large batch size as mempry allows since it makes the inference faster."
   ]
  },
  {
   "cell_type": "code",
   "execution_count": 24,
   "metadata": {
    "scrolled": true
   },
   "outputs": [
    {
     "data": {
      "text/plain": [
       "<tensorflow.python.keras.callbacks.History at 0x7f0fa21ba820>"
      ]
     },
     "execution_count": 24,
     "metadata": {},
     "output_type": "execute_result"
    }
   ],
   "source": [
    "model = get_model_simple()\n",
    "model.fit(X_train, y_train, epochs=30, batch_size=32, verbose=0)"
   ]
  },
  {
   "cell_type": "markdown",
   "metadata": {},
   "source": [
    "There is no progress in training process: loss stalled and accuracy does not go high enough (results may vary from run to run). <br>\n",
    "Scale the input data and fit the model again. <br>\n",
    "Note that first call of the scaler is `fit_transform`, but the second is just `transform`: test sample are scaled by the same amounts as train. "
   ]
  },
  {
   "cell_type": "code",
   "execution_count": 25,
   "metadata": {
    "scrolled": true
   },
   "outputs": [],
   "source": [
    "from sklearn.preprocessing import StandardScaler\n",
    "scaler = StandardScaler()\n",
    "X_train = scaler.fit_transform(X_train)\n",
    "X_test = scaler.transform(X_test)\n",
    "model = get_model_simple()\n",
    "hist = model.fit(X_train, y_train, epochs=30, batch_size=32, verbose=0)"
   ]
  },
  {
   "cell_type": "markdown",
   "metadata": {},
   "source": [
    "After scaling both logloss and accuracy measures have improved very significantly."
   ]
  },
  {
   "cell_type": "markdown",
   "metadata": {},
   "source": [
    "Method `fit` returns a History object. <br>\n",
    "Its `.history` attribute is a record of training loss values and metrics values at successive epochs, as well as validation loss values and validation metrics values (if applicable)."
   ]
  },
  {
   "cell_type": "code",
   "execution_count": 26,
   "metadata": {},
   "outputs": [
    {
     "name": "stdout",
     "output_type": "stream",
     "text": [
      "dict_keys(['loss', 'accuracy'])\n",
      "best train loss 0.3624422550201416\n"
     ]
    }
   ],
   "source": [
    "print(hist.history.keys())\n",
    "print('best train loss', min(hist.history[\"loss\"]))"
   ]
  },
  {
   "cell_type": "markdown",
   "metadata": {},
   "source": [
    "Now predict test labels using method *'predict'* and evaluate prediction."
   ]
  },
  {
   "cell_type": "code",
   "execution_count": 27,
   "metadata": {},
   "outputs": [
    {
     "data": {
      "text/plain": [
       "(114, 1)"
      ]
     },
     "execution_count": 27,
     "metadata": {},
     "output_type": "execute_result"
    }
   ],
   "source": [
    "pred1 = model.predict(X_test)\n",
    "pred1.shape"
   ]
  },
  {
   "cell_type": "markdown",
   "metadata": {},
   "source": [
    "Method `evaluate` returns values of all metrics the model calculates. Their names are in the attribute `metrics_names`."
   ]
  },
  {
   "cell_type": "code",
   "execution_count": 28,
   "metadata": {},
   "outputs": [
    {
     "name": "stdout",
     "output_type": "stream",
     "text": [
      "['loss', 'accuracy']\n",
      "[0.3720635175704956, 0.9736841917037964]\n"
     ]
    }
   ],
   "source": [
    "print(model.metrics_names)\n",
    "print(model.evaluate(X_test, y_test,verbose=0))"
   ]
  },
  {
   "cell_type": "code",
   "execution_count": 29,
   "metadata": {},
   "outputs": [
    {
     "data": {
      "image/png": "[encoded data removed]",
      "text/plain": [
       "<Figure size 432x288 with 1 Axes>"
      ]
     },
     "metadata": {
      "needs_background": "light"
     },
     "output_type": "display_data"
    }
   ],
   "source": [
    "# plot predictions and true labels\n",
    "# blue for class 0, orange for class 1\n",
    "\n",
    "import matplotlib.pyplot as plt\n",
    "color = ['blue' if y==0 else 'orange' for y in y_test]\n",
    "plt.scatter(range(len(pred1)), pred1, color=color)\n",
    "plt.title('Probability of class 1')\n",
    "plt.show()"
   ]
  },
  {
   "cell_type": "markdown",
   "metadata": {},
   "source": [
    "<font color=blue>\n",
    "    \n",
    "**Assignment 3** <br>\n",
    "Define sequential model with two hidden layers of 5 and 10 units followed by `relu` activation and one output unit with `sigmoid` activation similar to the architecture in [MScA_31009_ML_DeepLearning_TF_Intro_3.html](https://ilykei.com/api/fileProxy/documents%2FAdvanced%20Data%20Mining%20and%20Predictive%20Analytics%2031009%2FLecture%20Deep%20Learning%2FMScA_31009_ML_DeepLearning_TF_Intro_3.html).\n",
    "Create a function `get_model_1()` that adds layers and compiles the model with loss as `binary_crossentropy`, optimizer `adam` and metrics `accuracy`."
   ]
  },
  {
   "cell_type": "markdown",
   "metadata": {},
   "source": [
    "\n",
    "![Model plot](https://ilykei.com/api/fileProxy/documents%2FAdvanced%20Machine%20Learning%2FLecture%207%20AdvML%2FWBCD_5_10_Architecture.png)"
   ]
  },
  {
   "cell_type": "markdown",
   "metadata": {},
   "source": [
    "<font color=blue>\n",
    "Fit the model using 30 epochs and batch size 32. <br>\n",
    "Print best train loss. <br>\n",
    "Evaluate the model on test data using both metrics. <br>\n",
    "Plot predictions and true labels. <br>\n",
    "Plot predictions and true labels.\n",
    "Enter code in the following cell."
   ]
  },
  {
   "cell_type": "code",
   "execution_count": 32,
   "metadata": {},
   "outputs": [],
   "source": [
    "# Skipped code\n",
    "# function get_model_1(), compilation and fitting\n",
    "# evaluate model on test data, print both metrics\n",
    "# dict_keys(['loss', 'acc'])\n",
    "# best train loss 0.0752962507881\n",
    "# ['loss', 'acc']\n",
    "# [0.11679617080249284, 0.97368421052631582]\n",
    "# Plot predictions and true labels\n",
    "\n"
   ]
  },
  {
   "cell_type": "markdown",
   "metadata": {},
   "source": [
    "## Batch normalization in Keras\n",
    "\n",
    "Keras has its own tool for data scaling: `BatchNormalization` layer. <br>\n",
    "It normalizes the activations of the previous layer at each batch, i.e. applies a transformation that maintains the mean activation (previous layer' output) close to 0 and the activation standard deviation close to 1. <br>\n",
    "Sergey Ioffe and Christian Szegedy show in [Batch Normalization: Accelerating Deep Network Training by Reducing Internal Covariate Shift](https://arxiv.org/abs/1502.03167) that Batch Normalization improves convergence speed  of deep neural networks.  \n",
    "\n",
    "In order to apply BatchNormalization to the `previous_layer` in Keras functional API you need two lines of code:\n",
    "\n",
    "`from tensorflow.keras.layers import BatchNormalization`  \n",
    "`scaled = BatchNormalization()(input1)`"
   ]
  },
  {
   "cell_type": "markdown",
   "metadata": {},
   "source": [
    "In the following cell: \n",
    "\n",
    "1. Modify function `get_model_1` into `get_model_2` in functional API and insert BatchNormalization layer after `input1`. <br>\n",
    "2. Currently `X_train`, `X_test` are scaled. In order to restore the original train and test split the data again. \n",
    "3. Run fitting 10 times and average the results. \n",
    "4. Set verbose=0 in the fit() call to remove unnecessary logging. \n",
    "5. Print loss function on every iteration.\n"
   ]
  },
  {
   "cell_type": "code",
   "execution_count": 30,
   "metadata": {},
   "outputs": [
    {
     "name": "stdout",
     "output_type": "stream",
     "text": [
      "0 0.24716556072235107\n",
      "1 0.1927226334810257\n",
      "2 0.29406043887138367\n",
      "3 0.3584884703159332\n",
      "4 0.4627397358417511\n",
      "5 0.3721246123313904\n",
      "6 0.17977920174598694\n",
      "7 0.20166634023189545\n",
      "8 0.21172088384628296\n",
      "9 0.37726154923439026\n",
      "average loss =  0.2897729426622391\n"
     ]
    }
   ],
   "source": [
    "import numpy as np\n",
    "from tensorflow.keras.layers import BatchNormalization\n",
    "def get_model_2():\n",
    "    input1 = Input(shape=(30,), name='input_1')\n",
    "    scaled = BatchNormalization()(input1)\n",
    "    hidden1 = Dense(5, activation='relu',name='hidden1')(scaled)\n",
    "    hidden2 = Dense(10, activation='relu',name='hidden2')(hidden1)\n",
    "    output = Dense(1,activation='sigmoid')(hidden2)\n",
    "    model = Model(inputs=input1, outputs=output)\n",
    "    model.compile(loss='binary_crossentropy', optimizer='adam',\n",
    "                  metrics=['accuracy'])    \n",
    "    return model\n",
    "\n",
    "n = 10\n",
    "loss = np.zeros(n)\n",
    "X_train, X_test, y_train, y_test = train_test_split(data.data,data.target,\n",
    "                                                    test_size=0.2)\n",
    "for i in np.arange(n):\n",
    "    model = get_model_2()\n",
    "    hist = model.fit(X_train, y_train, epochs=10, batch_size=32,verbose=0)\n",
    "    loss[i] = min(hist.history[\"loss\"])\n",
    "    print(i,loss[i])\n",
    "print('average loss = ',np.mean(loss))\n",
    "\n"
   ]
  },
  {
   "cell_type": "markdown",
   "metadata": {},
   "source": [
    "# Callbacks\n",
    "\n",
    "Keras has a set of functions that can be used to get a view on internal states and statistics of the model during training. They are called callbacks and `History` mentioned above is one of them.\n",
    "\n",
    "A list of callbacks can be passed (as the keyword argument `callbacks`) to the  `fit()` method of the Sequential or Model classes. The relevant methods of the callbacks will then be called at each stage of the training.  \n",
    "\n",
    "Here are some usefull callbacks that will be used below.\n",
    "\n",
    "- `CSVLogger`  \n",
    "    `keras.callbacks.CSVLogger(filename, separator=',', append=False)`  \n",
    "    Callback that streams epoch results to a csv file.  \n",
    "\n",
    "\n",
    "- `ModelCheckpoint`  \n",
    "    `keras.callbacks.ModelCheckpoint(filepath, monitor='val_loss', verbose=0, save_best_only=False, save_weights_only=False, mode='auto', period=1)`  \n",
    "    By default save the model to the file `filepath` after every epoch. If `save_best_only=True` only the latest best model is saved according to the quantity monitored. So one can restart trainning from the last saved state in case of failure. This is important when training deep learning models, which can often be a time-consuming task.  \n",
    "\n",
    "Here is an example of how we can save the model and restore it later."
   ]
  },
  {
   "cell_type": "code",
   "execution_count": 31,
   "metadata": {},
   "outputs": [
    {
     "name": "stdout",
     "output_type": "stream",
     "text": [
      "\n",
      "Epoch 00001: saving model to weights.hdf5\n",
      "\n",
      "Epoch 00002: saving model to weights.hdf5\n",
      "\n",
      "Epoch 00003: saving model to weights.hdf5\n",
      "\n",
      "Epoch 00004: saving model to weights.hdf5\n",
      "\n",
      "Epoch 00005: saving model to weights.hdf5\n",
      "\n",
      "Epoch 00006: saving model to weights.hdf5\n",
      "\n",
      "Epoch 00007: saving model to weights.hdf5\n",
      "\n",
      "Epoch 00008: saving model to weights.hdf5\n",
      "\n",
      "Epoch 00009: saving model to weights.hdf5\n",
      "\n",
      "Epoch 00010: saving model to weights.hdf5\n",
      "evaluation results of trained model\n",
      "['loss', 'accuracy']\n",
      "[0.299270898103714, 0.9385964870452881]\n",
      "evaluation results of reinitialized model\n",
      "[0.5985122919082642, 0.7719298005104065]\n",
      "evaluation results of model with weights loaded from file\n",
      "[0.299270898103714, 0.9385964870452881]\n"
     ]
    }
   ],
   "source": [
    "from tensorflow.keras.callbacks import ModelCheckpoint\n",
    "\n",
    "#\n",
    "scaler = StandardScaler()\n",
    "X_train = scaler.fit_transform(X_train)\n",
    "X_test = scaler.transform(X_test)\n",
    "\n",
    "# initialize model\n",
    "model = get_model_simple()\n",
    "# saves the model weights after each epoch\n",
    "checkpointer = ModelCheckpoint('weights.hdf5', verbose=1)\n",
    "model.fit(X_train, y_train, epochs=10, verbose=0, callbacks=[checkpointer])\n",
    "print('evaluation results of trained model')\n",
    "print(model.metrics_names)\n",
    "print(model.evaluate(X_test, y_test,verbose=0))\n",
    "# reinitialize model\n",
    "model = get_model_simple()\n",
    "print('evaluation results of reinitialized model')\n",
    "print(model.evaluate(X_test, y_test,verbose=0))\n",
    "model.load_weights('weights.hdf5')\n",
    "print('evaluation results of model with weights loaded from file')\n",
    "print(model.evaluate(X_test, y_test,verbose=0))"
   ]
  },
  {
   "cell_type": "markdown",
   "metadata": {},
   "source": [
    "Note that by loading weights from file we restore saved model.\n",
    "\n",
    "- `EarlyStopping`  \n",
    "    `keras.callbacks.EarlyStopping(monitor='val_loss', min_delta=0, patience=0, verbose=0, mode='auto')`  \n",
    "    Stop training when a monitored quantity has stopped improving. Using it we can set large number of epochs but the process will be stopped if validation loss is not improved during `patience` epochs.  \n",
    "\n",
    "In the example below define `EarlyStopping` callback with `patience=5` and validation loss (`val_loss`) as monitored quantity. \n",
    "\n",
    "Validation loss can be calculated only if `validation_data` parameter in the `fit` method call is defined. <br>\n",
    "In this case `validation_data=(X_test, y_test)`. <br>\n",
    "Allow 200 epochs to train the model."
   ]
  },
  {
   "cell_type": "code",
   "execution_count": 32,
   "metadata": {},
   "outputs": [],
   "source": [
    "from tensorflow.keras.callbacks import EarlyStopping\n",
    "X_train, X_test, y_train, y_test = train_test_split(scaler.transform(data.data), data.target,\n",
    "                                                    test_size=0.2, random_state=1)\n",
    "# initialize model\n",
    "model = get_model_simple()\n",
    "early_stopping = EarlyStopping(monitor=\"val_loss\", patience=1)\n",
    "history=model.fit(X_train, y_train, validation_data=(X_test, y_test), epochs=200,\n",
    "          callbacks=[early_stopping], verbose=0)\n"
   ]
  },
  {
   "cell_type": "code",
   "execution_count": 33,
   "metadata": {},
   "outputs": [
    {
     "data": {
      "text/plain": [
       "113"
      ]
     },
     "execution_count": 33,
     "metadata": {},
     "output_type": "execute_result"
    }
   ],
   "source": [
    "len(history.history['loss'])"
   ]
  },
  {
   "cell_type": "markdown",
   "metadata": {},
   "source": [
    "EarlyStopping callback terminated process earlier, but the model now is not the best one (according to `val_loss` criterion). The best model was achieved (`patience`+1) epochs before the end.  "
   ]
  },
  {
   "cell_type": "markdown",
   "metadata": {},
   "source": [
    "# Regularization\n",
    "\n",
    "One of the major issues with artificial neural networks is that the models are quite complex. For example, let us consider a neural network that is pulling data from an image from the MNIST database (28 by 28 pixels), feeds into two hidden layers with 30 neurons, and finally reaches a soft-max layer of 10 neurons. The total number of parameters in the network is nearly 25,000. Aparently the model with so many parameters is prone to overfititng.\n",
    "\n",
    "Keras has a number of layers that can help prevent overfitting.  \n",
    "\n",
    "### Dropout\n",
    "\n",
    "Dropout is a regularization technique for neural network models proposed by Srivastava, et al. in their 2014 paper [Dropout: A Simple Way to Prevent Neural Networks from Overfitting](http://jmlr.org/papers/volume15/srivastava14a/srivastava14a.pdf).\n",
    "\n",
    "Dropout is a technique where randomly selected neurons are ignored during training. <br>\n",
    "They are “dropped-out” randomly. This means that their contribution to the activation of downstream neurons is temporally removed on the forward pass and any weight updates are not applied to the neuron on the backward pass.\n",
    "\n",
    "Dropout layer can be created as follows"
   ]
  },
  {
   "cell_type": "code",
   "execution_count": 34,
   "metadata": {
    "scrolled": true
   },
   "outputs": [],
   "source": [
    "from tensorflow.keras.layers import Dropout\n",
    "dropout_layer = Dropout(rate=0.1)"
   ]
  },
  {
   "cell_type": "markdown",
   "metadata": {},
   "source": [
    "where `rate` is float number between 0 and 1 meaning fraction of the input units to drop.\n",
    "\n",
    "Keras provides a number of Noise layers that are also useful to mitigate overfitting.  \n",
    "\n",
    "### GaussianNoise\n",
    "\n",
    "Layer `GaussianNoise(stddev)` applies additive zero-centered Gaussian noise with standard deviation `stdev`. <br>\n",
    "It could be treated as a form of random data augmentation. Since it is a regularization layer, it is only active at training time.\n",
    "\n",
    "### GaussianDropout\n",
    "\n",
    "Layer `GaussianDropout(rate)` applies multiplicative 1-centered Gaussian noise with standard deviation \n",
    "$$\\sqrt{\\frac{rate} { (1 - rate)}}.$$ \n",
    "It is only active at training time.\n",
    "\n",
    "The way of choosing appropriate dropout rate and some other parameters will be shown in TuningNetworks notebook."
   ]
  }
 ],
 "metadata": {
  "anaconda-cloud": {},
  "kernelspec": {
   "display_name": "Python 3 (ipykernel)",
   "language": "python",
   "name": "python3"
  },
  "language_info": {
   "codemirror_mode": {
    "name": "ipython",
    "version": 3
   },
   "file_extension": ".py",
   "mimetype": "text/x-python",
   "name": "python",
   "nbconvert_exporter": "python",
   "pygments_lexer": "ipython3",
   "version": "3.9.6"
  },
  "toc": {
   "base_numbering": 1,
   "nav_menu": {},
   "number_sections": true,
   "sideBar": true,
   "skip_h1_title": false,
   "title_cell": "Table of Contents",
   "title_sidebar": "Contents",
   "toc_cell": false,
   "toc_position": {},
   "toc_section_display": true,
   "toc_window_display": false
  }
 },
 "nbformat": 4,
 "nbformat_minor": 1
}
