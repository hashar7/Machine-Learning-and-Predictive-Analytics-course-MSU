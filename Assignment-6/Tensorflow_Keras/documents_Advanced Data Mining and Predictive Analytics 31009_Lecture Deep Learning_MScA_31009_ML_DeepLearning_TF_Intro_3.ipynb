{
 "cells": [
  {
   "cell_type": "markdown",
   "metadata": {},
   "source": [
    "# Machine Learning (MScA, 2009)\n",
    "\n",
    "# Introduction to TensorFlow, Part 3\n",
    "\n",
    "### Yuri Balasanov, Mihail Tselishchev, &copy; 2018\n",
    "\n",
    "\n",
    "\n",
    "# Data \n",
    "\n",
    "Example in this notebook is [**breast cancer wisconsin dataset**](https://archive.ics.uci.edu/ml/datasets/Breast+Cancer+Wisconsin+&#40;Diagnostic&#41;). \n",
    "\n",
    "The breast cancer dataset is a well known data for binary classification. It was created by Dr. William H. Wolberg, physician at the University Of Wisconsin Hospital at Madison, Wisconsin, USA.\n",
    "\n",
    "Features are created from a digitized images of a [fine needle aspirate (FNA)](https://en.wikipedia.org/wiki/Fine-needle_aspiration), a biopsy method, of a breast mass. They describe characteristics of the cell nuclei present in the image.\n",
    "\n",
    "To create the dataset Dr. Wolberg used ﬂuid samples, taken from patients with solid breast masses and graphical software [Xcyt](http://software.broadinstitute.org/mpg/xcyt/) capable of performing analysis of cytological features on a digital scan. \n",
    "\n",
    "Main research article on the subject of this analysis, including an image of malignant cells, is [Wisconsin Breast Cancer Dataset and Machine Learning for Breast Cancer Detection, by Lucas Rodrigues Borges](https://www.researchgate.net/publication/311950799_Analysis_of_the_Wisconsin_Breast_Cancer_Dataset_and_Machine_Learning_for_Breast_Cancer_Detection [accessed Nov 09 2017]).\n",
    "\n",
    "The data set has following characteristics:\n",
    "\n",
    "- Classes:\t2\n",
    "- Samples per class:\t212(malignant), 357(benign)\n",
    "- Samples total:\t569\n",
    "- Dimensionality:\t30\n",
    "- Features:\treal, positive\n",
    "\n",
    "Load the data using utility *load_breast_cancer* from *sklearn.datasets* module. <br>\n",
    "Print names of the features and dimensions of the data."
   ]
  },
  {
   "cell_type": "code",
   "execution_count": 1,
   "metadata": {},
   "outputs": [
    {
     "name": "stdout",
     "output_type": "stream",
     "text": [
      "['mean radius' 'mean texture' 'mean perimeter' 'mean area'\n",
      " 'mean smoothness' 'mean compactness' 'mean concavity'\n",
      " 'mean concave points' 'mean symmetry' 'mean fractal dimension'\n",
      " 'radius error' 'texture error' 'perimeter error' 'area error'\n",
      " 'smoothness error' 'compactness error' 'concavity error'\n",
      " 'concave points error' 'symmetry error' 'fractal dimension error'\n",
      " 'worst radius' 'worst texture' 'worst perimeter' 'worst area'\n",
      " 'worst smoothness' 'worst compactness' 'worst concavity'\n",
      " 'worst concave points' 'worst symmetry' 'worst fractal dimension']\n",
      "data (569, 30) labels (569,)\n"
     ]
    }
   ],
   "source": [
    "%matplotlib inline\n",
    "# loading data\n",
    "from sklearn.datasets import load_breast_cancer\n",
    "data = load_breast_cancer()\n",
    "print(data.feature_names)\n",
    "print('data', data.data.shape, 'labels', data.target.shape)"
   ]
  },
  {
   "cell_type": "code",
   "execution_count": 2,
   "metadata": {},
   "outputs": [
    {
     "name": "stdout",
     "output_type": "stream",
     "text": [
      "Number of inputs = 30\n"
     ]
    }
   ],
   "source": [
    "n_inputs = data.data.shape[1]\n",
    "print('Number of inputs =',n_inputs)"
   ]
  },
  {
   "cell_type": "markdown",
   "metadata": {},
   "source": [
    "Separate data into train and test samples"
   ]
  },
  {
   "cell_type": "code",
   "execution_count": 3,
   "metadata": {
    "collapsed": true
   },
   "outputs": [],
   "source": [
    "# prepare test and train sets\n",
    "from sklearn.model_selection import train_test_split\n",
    "x_train, x_test, y_train, y_test = train_test_split(data.data, \n",
    "                                                    data.target,\n",
    "                                                    test_size=0.2)"
   ]
  },
  {
   "cell_type": "markdown",
   "metadata": {},
   "source": [
    "# Architecture of the network \n",
    "\n",
    "A possible architecture for the network may have 2 dense hidden layers of 5 and 10 units folowed by a sigmoid activation function. \n",
    "The following plot displays the nework architecture and explains the nature of **Dense** (fully connected) layer: each neuron of it is connected with all input variables of the next layer.\n",
    " \n",
    "![Model plot](https://ilykei.com/api/fileProxy/documents%2FAdvanced%20Machine%20Learning%2FLecture%207%20AdvML%2FR_nn_plot.png)\n",
    "\n",
    "The picture was created with function *plot()* from R **neuralnet** package. <br>\n"
   ]
  },
  {
   "cell_type": "markdown",
   "metadata": {},
   "source": [
    "Alternatively the network can have 3 layers of 5, 10 and 2 units, followed by a softmax activation function, like in the plot below.\n",
    "\n",
    "![Model plot](https://ilykei.com/api/fileProxy/documents%2FAdvanced%20Data%20Mining%20and%20Predictive%20Analytics%2031009%2FLecture%20Deep%20Learning%2FWBCD_5_10_2_Architecture.png)\n",
    "\n",
    "This plot was also created in R **neuralnet** package.\n",
    "\n",
    "**Explain why these two architectures can be used to train the same binary classification model**."
   ]
  },
  {
   "cell_type": "markdown",
   "metadata": {},
   "source": [
    "# Creating neural network in TensorFlow\n",
    "\n",
    "## Construction phase\n",
    "\n",
    "Use TensorFlow Python API to construct graph for the neural network.\n",
    "\n",
    "### 1. Create placeholder nodes for training inputs and the target \n",
    "\n",
    "We need placeholder because shape is only partially defined prior to calculation. Another placeholder node is a flag deciding whether the sample is train or test."
   ]
  },
  {
   "cell_type": "code",
   "execution_count": 4,
   "metadata": {},
   "outputs": [
    {
     "name": "stdout",
     "output_type": "stream",
     "text": [
      "Shape of \"x\" = (?, 30)\n",
      "Shape of \"y\" = (?,)\n",
      "Shape of \"is_training\" = ()\n"
     ]
    }
   ],
   "source": [
    "import tensorflow as tf\n",
    "\n",
    "tf.reset_default_graph()\n",
    "x = tf.placeholder('float32', shape=(None, n_inputs), name='x')\n",
    "y = tf.placeholder('int64', (None, ), name='y')\n",
    "is_training = tf.placeholder(tf.bool, shape=(), name='is_training')\n",
    "print('Shape of \"x\" =',x.shape)\n",
    "print('Shape of \"y\" =',y.shape)\n",
    "print('Shape of \"is_training\" =',is_training.shape)"
   ]
  },
  {
   "cell_type": "markdown",
   "metadata": {},
   "source": [
    "### 2. Create layers\n",
    "\n",
    "The following methods from TensorFlow module `contrib.layers` normalize the inputs, set the layers and define the output\n",
    "\n",
    "**Method `batch_norm()`**\n",
    "\n",
    "Can be used as a normalizer function for conv2d and fully_connected.\n",
    "Syntax (not all arguments shown):\n",
    "\n",
    "`batch_norm(inputs,center=True,scale=False,activation_fn=None,is_training=True,scope=None)`\n",
    "\n",
    "where\n",
    "\n",
    "- `inputs`: a tensor with 2 or more dimensions, where the first dimension has batch_size. In this default case the normalization is over all but the last dimension;\n",
    "- `center`:  if True, add intercept $\\beta$ to normalized tensor. If False, $\\beta$ is ignored. See [\"Batch Normalization: Accelerating Deep Network Training by Reducing Internal Covariate Shift\" by Sergey Ioffe, Christian Szegedy](http://arxiv.org/abs/1502.03167) for notations and details;\n",
    "- `scale`: if True, multiply by slopes $\\gamma$. If False, $\\gamma$ is not used. See link above for notations and further details;\n",
    "- `scope`: ensures that the name of created variable is used properly within the scope of the current graph.\n",
    "- `is_training`: whether or not the layer is in training mode. In training mode it would accumulate the statistics of the moments into moving_mean and moving_variance using an exponential moving average with the given decay. When it is not in training mode then it would use the values of the moving_mean and the moving_variance.\n",
    "\n",
    "**Method `fully_connected()`**\n",
    "\n",
    "Adds a fully connected layer.\n",
    "Syntax (not all arguments shown):\n",
    "\n",
    "`fully_connected(inputs,num_outputs,activation_fn=tf.nn.relu,scope=None)`\n",
    "\n",
    "where\n",
    "\n",
    "- `inputs`: a tensor of at least rank 2 and static value for the last dimension; for example, [batch_size, depth], [None, None, None, channels];  \n",
    "- `num_outputs`: integer or long, the number of output units in the layer; \n",
    "- `activation_fn=tf.nn.relu`: activation function. The default value is a ReLU function. Explicitly set it to None to skip it and maintain a linear activation; \n",
    "- `scope`: same as above\n"
   ]
  },
  {
   "cell_type": "code",
   "execution_count": 5,
   "metadata": {
    "collapsed": true
   },
   "outputs": [],
   "source": [
    "# scale inputs\n",
    "scaled = tf.contrib.layers.batch_norm(x, center=True, scale=True, scope='scaled',\n",
    "                                      is_training=is_training)\n",
    "# hidden layer 1\n",
    "hidden1 = tf.contrib.layers.fully_connected(scaled, num_outputs=5, scope='hidden1',\n",
    "                                            activation_fn=tf.nn.relu)\n",
    "# hidden layer 2\n",
    "hidden2 = tf.contrib.layers.fully_connected(hidden1, num_outputs=10, scope='hidden2',\n",
    "                                            activation_fn=tf.nn.relu)\n",
    "# instead of final sigmoid returning 1 number p between 0 and 1\n",
    "# use softmax returning a pair of numbers p and 1-p\n",
    "logits = tf.contrib.layers.fully_connected(hidden2, num_outputs=2, scope='logits',\n",
    "                                           activation_fn=None)\n",
    "# apply softmax to make 2 numbers add to 1\n",
    "output = tf.nn.softmax(logits, name='output')"
   ]
  },
  {
   "cell_type": "markdown",
   "metadata": {},
   "source": [
    "### 3. Prepare measures of goodness of fit: accuracy and logloss for logging\n",
    "\n",
    "The methods in the following cell are:\n",
    "\n",
    "**reduce_mean**\n",
    "\n",
    "Calculates mean of onput tensor along given dimensions.\n",
    "Syntax is (not all arguments shown):\n",
    "\n",
    "*reduce_mean(input_tensor,axis=None)*\n",
    "\n",
    "where *axis* is the dimension of averaging; when None then all dimensions are reduced (returns a number).\n",
    "\n",
    "**Example**:"
   ]
  },
  {
   "cell_type": "markdown",
   "metadata": {},
   "source": [
    "x = tf.constant([[1., 1.], [2., 2.]]) <br>\n",
    "xBar=tf.reduce_mean(x)                   # total average   <br>\n",
    "xApplyColumn=tf.reduce_mean(x, axis=0)   # average by column  <br>\n",
    "xApplyRow=tf.reduce_mean(x, axis=1)      # average by row <br>\n",
    "with tf.Session() as sess: <br>\n",
    "> print (sess.run(x)) <br>\n",
    "> print(sess.run(xBar)) <br>\n",
    "> print(sess.run(xApplyColumn)) <br>\n",
    "> print(sess.run(xApplyRow)) <br>\n",
    "\n",
    "[[ 1.  1.] <br>\n",
    " [ 2.  2.]] <br>\n",
    "1.5 <br>\n",
    "[ 1.5  1.5] <br>\n",
    "[ 1.  2.] <br>"
   ]
  },
  {
   "cell_type": "markdown",
   "metadata": {},
   "source": [
    "**cast**\n",
    "\n",
    "Casts tensor into a data type *dtype*\n",
    "\n",
    "*cast(x,dtype,name=None)*\n",
    "\n",
    "**Example**:\n",
    "\n"
   ]
  },
  {
   "cell_type": "markdown",
   "metadata": {},
   "source": [
    "x = tf.constant([1.8, 2.2], dtype=tf.float32) <br>\n",
    "with tf.Session() as sess:  <br>\n",
    "> print('Original: ',x,sess.run(x))  <br>\n",
    "> print('Cast: ',tf.cast(x, tf.int32),sess.run(tf.cast(x, tf.int32)))  <br>\n",
    "\n",
    "Original:  Tensor(\"Const_15:0\", shape=(2,), dtype=float32) [ 1.79999995  2.20000005]  <br>\n",
    "Cast:  Tensor(\"Cast_10:0\", shape=(2,), dtype=int32) [1 2]  <br>"
   ]
  },
  {
   "cell_type": "markdown",
   "metadata": {},
   "source": [
    "**sparse_softmax_cross_entropy_with_logits**\n",
    "\n",
    "Calculates log loss function\n",
    "$$logloss = -\\frac{1}{N}\\sum_{i=1}^N \\sum_{j=1}^M y_{ij} \\ln(p_{ij}),$$\n",
    "\n",
    "where $y$ are labels and $\\ln(p_{ij})$ are outputs of the layer *logits* defined above. <br>\n",
    "Output of *logits* contains 2 numbers which are not normalized to add to 1. Operation *sparse_softmax_cross_entropy_with_logits* returns probabilities."
   ]
  },
  {
   "cell_type": "code",
   "execution_count": 6,
   "metadata": {
    "collapsed": true
   },
   "outputs": [],
   "source": [
    "with tf.name_scope('accuracy'):\n",
    "    accuracy = tf.reduce_mean(tf.cast(tf.equal(y, tf.argmax(logits, 1)),\n",
    "                                      'float32'))\n",
    "with tf.name_scope('logloss'):\n",
    "    y_float = tf.cast(y, 'float32')\n",
    "    logloss = tf.reduce_mean(\n",
    "              tf.nn.sparse_softmax_cross_entropy_with_logits(labels=y, logits=logits) )"
   ]
  },
  {
   "cell_type": "markdown",
   "metadata": {},
   "source": [
    "Create nodes that will evaluate values and write it to a TensorBoard-compatible binary log string called a summary.\n",
    "\n",
    "Operation *summary.merge_all()* merges all summaries collected in the default graph."
   ]
  },
  {
   "cell_type": "code",
   "execution_count": 7,
   "metadata": {
    "collapsed": true
   },
   "outputs": [],
   "source": [
    "tf.summary.scalar(\"logloss\", logloss)\n",
    "tf.summary.scalar(\"accuracy\", accuracy)\n",
    "\n",
    "merged = tf.summary.merge_all()"
   ]
  },
  {
   "cell_type": "markdown",
   "metadata": {},
   "source": [
    "## Training phase\n",
    "\n",
    "Create a function that takes arguments:\n",
    "\n",
    "- *n_epochs* - number of times entire train set runs through the network during the process of training;\n",
    "- *batch_size* - number of observations in a batch; batch is a group of observations (i.e. rows of the data matrix) that will be fed through the network in back propagation cycle (feed forward, obtain predictions of the labels, calculate the loss, calculate the gradient, adjust the weights). Training the network in batches rather than one observation at a time helps speeding up training process, smoothing gradients and taking advantage of the power of GPUs which are efficient at doing array operations;\n",
    "- *logdir* - name of the log directory."
   ]
  },
  {
   "cell_type": "code",
   "execution_count": 8,
   "metadata": {
    "collapsed": true
   },
   "outputs": [],
   "source": [
    "def train(n_epochs, batch_size, logdir, trained_params_path):\n",
    "    update_ops = tf.get_collection(tf.GraphKeys.UPDATE_OPS)\n",
    "    with tf.control_dependencies(update_ops):\n",
    "        # Ensures that we execute the update_ops before performing the train_step\n",
    "        optimizer = tf.train.AdamOptimizer()\n",
    "        # Select type of optimizer\n",
    "        train_step = optimizer.minimize(logloss)\n",
    "        # Gradient descent step\n",
    "    sess = tf.Session()\n",
    "    train_writer = tf.summary.FileWriter(logdir + '/train', sess.graph)\n",
    "    test_writer = tf.summary.FileWriter(logdir + '/test')\n",
    "    # Write summary to the log\n",
    "\n",
    "    sess.run(tf.global_variables_initializer())  # Initialize all variables\n",
    "    saver = tf.train.Saver()  # use saver to store trained model parameters on disk\n",
    "    best_epoch = 0\n",
    "    best_test_logloss = float(\"inf\")\n",
    "    test_accuracy_for_best_test_logloss = 0\n",
    "\n",
    "    history = []\n",
    "    for epoch in range(n_epochs):\n",
    "        batch_from = 0\n",
    "        while batch_from < len(y_train):\n",
    "            batch_to = min(batch_from + batch_size, len(y_train))\n",
    "            x_trainbatch = x_train[batch_from:batch_to,]\n",
    "            y_trainbatch = y_train[batch_from:batch_to]\n",
    "            batch_from = batch_from + batch_size  # for next iteration\n",
    "            sess.run(train_step,\n",
    "                     feed_dict={x: x_trainbatch, \n",
    "                                y: y_trainbatch, \n",
    "                                is_training: True})\n",
    "        # Run batches through the network until epoch is over\n",
    "\n",
    "        # Calculate statistics (logloss & accuracy) for train & test:\n",
    "        train_res = sess.run([merged, logloss, accuracy], \n",
    "                             feed_dict={x: x_train, y: y_train, is_training: False})\n",
    "        test_res  = sess.run([merged, logloss, accuracy], \n",
    "                             feed_dict={x: x_test,  y: y_test,  is_training: False})\n",
    "        history += [[epoch] + train_res[1:] + test_res[1:]]\n",
    "        train_writer.add_summary(train_res[0], epoch)\n",
    "        test_writer.add_summary(test_res[0], epoch)  # Update history and write to the log\n",
    "        test_logloss = test_res[1]\n",
    "        test_accuracy = test_res[2]\n",
    "        if test_logloss < best_test_logloss:\n",
    "            # save params for best test logloss only\n",
    "            saver.save(sess, trained_params_path)\n",
    "            best_epoch = epoch\n",
    "            best_test_logloss = test_logloss\n",
    "            test_accuracy_for_best_test_logloss = test_accuracy\n",
    "            \n",
    "    print('Best epoch is #{} with test logloss of {:.4f} (test_accuracy = {:.4f})'\\\n",
    "            .format(best_epoch, best_test_logloss, test_accuracy_for_best_test_logloss))\n",
    "\n",
    "    train_writer.flush()\n",
    "    train_writer.close()\n",
    "    test_writer.flush()\n",
    "    test_writer.close()\n",
    "    sess.close()\n",
    "    return history"
   ]
  },
  {
   "cell_type": "markdown",
   "metadata": {},
   "source": [
    "Now run network training process."
   ]
  },
  {
   "cell_type": "code",
   "execution_count": 9,
   "metadata": {},
   "outputs": [
    {
     "name": "stdout",
     "output_type": "stream",
     "text": [
      "Best epoch is #320 with test logloss of 0.1218 (test_accuracy = 0.9737)\n"
     ]
    },
    {
     "data": {
      "text/plain": [
       "[[990, 0.12401454, 0.97362638, 0.78693354, 0.94736844],\n",
       " [991, 0.12413789, 0.97362638, 0.78718692, 0.94736844],\n",
       " [992, 0.12404867, 0.97362638, 0.78743666, 0.94736844],\n",
       " [993, 0.12400958, 0.97362638, 0.7876913, 0.94736844],\n",
       " [994, 0.1241911, 0.97362638, 0.78794372, 0.94736844],\n",
       " [995, 0.12414104, 0.97362638, 0.78820735, 0.94736844],\n",
       " [996, 0.12411554, 0.97362638, 0.78846288, 0.94736844],\n",
       " [997, 0.12413415, 0.97362638, 0.78869283, 0.94736844],\n",
       " [998, 0.12406655, 0.97362638, 0.78891468, 0.94736844],\n",
       " [999, 0.12412852, 0.97362638, 0.7891466, 0.94736844]]"
      ]
     },
     "execution_count": 9,
     "metadata": {},
     "output_type": "execute_result"
    }
   ],
   "source": [
    "h = train(n_epochs=1000, batch_size=32, \n",
    "          logdir = './log/', trained_params_path='./fitted.params')\n",
    "h[-10:]"
   ]
  },
  {
   "cell_type": "markdown",
   "metadata": {},
   "source": [
    "# Analyze the results \n",
    "\n",
    "Columns returned in `h` are:\n",
    "\n",
    "- Epoch number\n",
    "- Logloss for train sample\n",
    "- Accuracy for train sample\n",
    "- Logloss for test sample\n",
    "- Accuracy for test sample\n",
    "\n",
    "Check the results on TensorBoard using\n",
    "\n",
    "*tensorboard --logdir=./log*\n",
    "\n",
    "or see the history of training in the Notebook using returned variable `h`:"
   ]
  },
  {
   "cell_type": "code",
   "execution_count": 10,
   "metadata": {},
   "outputs": [
    {
     "name": "stdout",
     "output_type": "stream",
     "text": [
      "<class 'numpy.ndarray'> (1000, 5)\n"
     ]
    }
   ],
   "source": [
    "import numpy as np\n",
    "df_h = np.asarray(h)\n",
    "print(type(df_h), df_h.shape)"
   ]
  },
  {
   "cell_type": "code",
   "execution_count": 11,
   "metadata": {},
   "outputs": [
    {
     "data": {
      "text/plain": [
       "<matplotlib.legend.Legend at 0x7ff0a1687e10>"
      ]
     },
     "execution_count": 11,
     "metadata": {},
     "output_type": "execute_result"
    },
    {
     "data": {
      "image/png": "[encoded data removed]",
      "text/plain": [
       "<matplotlib.figure.Figure at 0x7ff10025f128>"
      ]
     },
     "metadata": {},
     "output_type": "display_data"
    }
   ],
   "source": [
    "%matplotlib inline\n",
    "import matplotlib.pyplot as plt\n",
    "\n",
    "# Plot logloss for train & test\n",
    "plt.plot(df_h[:,0], df_h[:,1], label='train')\n",
    "plt.plot(df_h[:,0], df_h[:,3], label='test')\n",
    "plt.title('logloss')\n",
    "plt.legend()"
   ]
  },
  {
   "cell_type": "code",
   "execution_count": 12,
   "metadata": {},
   "outputs": [
    {
     "data": {
      "text/plain": [
       "<matplotlib.legend.Legend at 0x7ff0a0871198>"
      ]
     },
     "execution_count": 12,
     "metadata": {},
     "output_type": "execute_result"
    },
    {
     "data": {
      "image/png": "[encoded data removed]",
      "text/plain": [
       "<matplotlib.figure.Figure at 0x7ff0b2887ef0>"
      ]
     },
     "metadata": {},
     "output_type": "display_data"
    }
   ],
   "source": [
    "# Plot accuracy for train & test\n",
    "plt.plot(df_h[:,0], df_h[:,2], label='train')\n",
    "plt.plot(df_h[:,0], df_h[:,4], label='test')\n",
    "plt.title('accuracy')\n",
    "plt.legend()"
   ]
  },
  {
   "cell_type": "markdown",
   "metadata": {},
   "source": [
    "Create a function that makes predictions for both classes.\n",
    "\n",
    "This function uses *tf.train.Saver*. Class *tf.train* contains TensorFlow optimization tools. Class [Saver](https://www.tensorflow.org/api_docs/python/tf/train/Saver) adds ops to save and restore variables to and from checkpoints. It also provides convenience methods to run these ops.\n",
    "\n",
    "Checkpoints are binary files in a proprietary format which map variable names to tensor values. The best way to examine the contents of a checkpoint is to load it using a Saver.\n"
   ]
  },
  {
   "cell_type": "code",
   "execution_count": 13,
   "metadata": {
    "collapsed": true
   },
   "outputs": [],
   "source": [
    "def predict(x_new, trained_params_path):\n",
    "    with tf.Session() as sess:\n",
    "        saver = tf.train.Saver()\n",
    "        saver.restore(sess, trained_params_path)\n",
    "        pr = output.eval(feed_dict={x: x_new, is_training: False})\n",
    "        return pr"
   ]
  },
  {
   "cell_type": "code",
   "execution_count": 14,
   "metadata": {},
   "outputs": [
    {
     "name": "stdout",
     "output_type": "stream",
     "text": [
      "INFO:tensorflow:Restoring parameters from ./fitted.params\n",
      "(114, 2)\n"
     ]
    }
   ],
   "source": [
    "z = predict(x_test, './fitted.params')\n",
    "print(z.shape)"
   ]
  },
  {
   "cell_type": "markdown",
   "metadata": {},
   "source": [
    "The following graph shows predicted probabilities of class 1. Blue dots correspond to true class 0 and orange dots correspond to true class 1."
   ]
  },
  {
   "cell_type": "code",
   "execution_count": 15,
   "metadata": {},
   "outputs": [
    {
     "data": {
      "text/plain": [
       "<matplotlib.text.Text at 0x7ff0a27e0dd8>"
      ]
     },
     "execution_count": 15,
     "metadata": {},
     "output_type": "execute_result"
    },
    {
     "data": {
      "image/png": "[encoded data removed]",
      "text/plain": [
       "<matplotlib.figure.Figure at 0x7ff0a0803780>"
      ]
     },
     "metadata": {},
     "output_type": "display_data"
    }
   ],
   "source": [
    "# blue for class 0, orange for class 1\n",
    "color = ['blue' if y == 0 else 'orange' for y in y_test]\n",
    "plt.scatter(range(y_test.shape[0]), z[:,1], color=color)\n",
    "plt.title('Probability of class 1')"
   ]
  },
  {
   "cell_type": "markdown",
   "metadata": {},
   "source": [
    "Try repeating running cells starting from model training. Observe different predictions after every training.  "
   ]
  }
 ],
 "metadata": {
  "kernelspec": {
   "display_name": "Python 3 (ipykernel)",
   "language": "python",
   "name": "python3"
  },
  "language_info": {
   "codemirror_mode": {
    "name": "ipython",
    "version": 3
   },
   "file_extension": ".py",
   "mimetype": "text/x-python",
   "name": "python",
   "nbconvert_exporter": "python",
   "pygments_lexer": "ipython3",
   "version": "3.9.6"
  },
  "toc": {
   "base_numbering": 1,
   "nav_menu": {},
   "number_sections": true,
   "sideBar": true,
   "skip_h1_title": false,
   "title_cell": "Table of Contents",
   "title_sidebar": "Contents",
   "toc_cell": false,
   "toc_position": {},
   "toc_section_display": true,
   "toc_window_display": false
  }
 },
 "nbformat": 4,
 "nbformat_minor": 2
}
