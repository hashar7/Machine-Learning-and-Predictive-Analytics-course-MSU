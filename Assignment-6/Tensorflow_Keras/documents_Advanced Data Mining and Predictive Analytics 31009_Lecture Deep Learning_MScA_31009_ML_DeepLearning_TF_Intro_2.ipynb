{
 "cells": [
  {
   "cell_type": "markdown",
   "metadata": {},
   "source": [
    "# Machine Learning (MScA 32009)\n",
    "\n",
    "# Introduction to TensorFlow: Part 2\n",
    "\n",
    "# Linear Regression using Gradient Decent\n",
    "\n",
    "### Yuri Balasanov, Mihail Tselishchev, &copy; 2017"
   ]
  },
  {
   "cell_type": "markdown",
   "metadata": {},
   "source": [
    "Generate data for linear regression:"
   ]
  },
  {
   "cell_type": "code",
   "execution_count": 1,
   "metadata": {},
   "outputs": [],
   "source": [
    "import numpy as np\n",
    "a = 3.0  # intercept\n",
    "b = 2.0  # slope\n",
    "n = 100\n",
    "data_x = np.random.normal(0, 1, size = n)\n",
    "data_eps = np.random.normal(0, 0.01, size = n)\n",
    "data_y = a + b*data_x + data_eps"
   ]
  },
  {
   "cell_type": "code",
   "execution_count": 2,
   "metadata": {},
   "outputs": [
    {
     "data": {
      "text/plain": [
       "(array([ 0.15637478,  1.27491441, -0.36015435, -1.115352  ,  1.33752607,\n",
       "         0.00408397,  0.13011454,  1.05731452, -0.78813875,  0.39475421]),\n",
       " array([3.30136982, 5.54635378, 2.28308964, 0.77006954, 5.68851175,\n",
       "        3.01619416, 3.24156678, 5.11921347, 1.42016063, 3.78501417]))"
      ]
     },
     "execution_count": 2,
     "metadata": {},
     "output_type": "execute_result"
    }
   ],
   "source": [
    "data_x[0:10], data_y[0:10]"
   ]
  },
  {
   "cell_type": "markdown",
   "metadata": {},
   "source": [
    "Next, create TensorFlow graph:"
   ]
  },
  {
   "cell_type": "code",
   "execution_count": 3,
   "metadata": {},
   "outputs": [],
   "source": [
    "import tensorflow as tf\n",
    "\n",
    "tf.reset_default_graph()\n",
    "x = tf.placeholder(tf.float32, shape=(None,), name='y')\n",
    "y_ = tf.placeholder(tf.float32, shape=(None,), name='y_')\n",
    "beta = tf.Variable(0, dtype=tf.float32, name='beta')\n",
    "alpha = tf.Variable(0, dtype=tf.float32, name='alpha')\n",
    "y = tf.add(alpha, tf.multiply(beta, x), name='output')\n",
    "mse = tf.reduce_sum(tf.pow(y - y_, 2), name='MSE') # sum of squares\n",
    "# Create Gradient Descent Optimizer node with learning_rate = 0.0025:\n",
    "train_node = tf.train.GradientDescentOptimizer(0.0025).minimize(mse)"
   ]
  },
  {
   "cell_type": "markdown",
   "metadata": {},
   "source": [
    "Log history of all variablies:"
   ]
  },
  {
   "cell_type": "code",
   "execution_count": 4,
   "metadata": {},
   "outputs": [],
   "source": [
    "# Create nodes that will evaluate values and write them\n",
    "# to a TensorBoard-compatible binary log string called a summary\n",
    "tf.summary.scalar(\"alpha\", alpha)\n",
    "tf.summary.scalar(\"beta\", beta)\n",
    "tf.summary.scalar(\"mse\", mse)\n",
    "\n",
    "merged = tf.summary.merge_all()"
   ]
  },
  {
   "cell_type": "markdown",
   "metadata": {},
   "source": [
    "Create unique folder for the log."
   ]
  },
  {
   "cell_type": "code",
   "execution_count": 5,
   "metadata": {},
   "outputs": [],
   "source": [
    "from datetime import datetime\n",
    "now = datetime.utcnow().strftime(\"%Y%m%d_%H%M%S\")\n",
    "root_logdir = \"tf_logs\"\n",
    "logdir = \"{}/run-{}/\".format(root_logdir, now)  # path to TensorBoard logs"
   ]
  },
  {
   "cell_type": "markdown",
   "metadata": {},
   "source": [
    "Start computation:"
   ]
  },
  {
   "cell_type": "code",
   "execution_count": 6,
   "metadata": {},
   "outputs": [
    {
     "name": "stdout",
     "output_type": "stream",
     "text": [
      "Step #1: alpha=1.57212495803833, beta=0.8786414861679077\n",
      "Step #2: alpha=2.326694965362549, beta=1.3619362115859985\n",
      "Step #3: alpha=2.686657428741455, beta=1.6317203044891357\n",
      "Step #4: alpha=2.856969118118286, beta=1.7845141887664795\n",
      "Step #5: alpha=2.936648368835449, beta=1.8722525835037231\n",
      "Step #6: alpha=2.9733431339263916, beta=1.9232838153839111\n",
      "Step #7: alpha=2.989861488342285, beta=1.9533108472824097\n",
      "Step #8: alpha=2.997044563293457, beta=1.9711607694625854\n",
      "Step #9: alpha=2.9999961853027344, beta=1.9818663597106934\n",
      "Step #10: alpha=3.0010883808135986, beta=1.9883357286453247\n",
      "Step #11: alpha=3.0014026165008545, beta=1.9922699928283691\n",
      "Step #12: alpha=3.0014185905456543, beta=1.9946750402450562\n",
      "Step #13: alpha=3.001340389251709, beta=1.9961515665054321\n",
      "Step #14: alpha=3.001248359680176, beta=1.9970612525939941\n",
      "Step #15: alpha=3.0011696815490723, beta=1.997623324394226\n",
      "Step #16: alpha=3.001110315322876, beta=1.9979712963104248\n",
      "Step #17: alpha=3.001068115234375, beta=1.9981871843338013\n",
      "Step #18: alpha=3.0010392665863037, beta=1.998321294784546\n",
      "Step #19: alpha=3.0010201930999756, beta=1.998404622077942\n",
      "Step #20: alpha=3.001007556915283, beta=1.9984564781188965\n"
     ]
    }
   ],
   "source": [
    "sess = tf.InteractiveSession()\n",
    "file_writer = tf.summary.FileWriter(logdir, sess.graph)\n",
    "\n",
    "sess.run(tf.global_variables_initializer())\n",
    "for i in range(20):\n",
    "    sess.run(train_node, feed_dict={x: data_x , y_: data_y})\n",
    "    file_writer.add_summary(sess.run(merged, feed_dict={x: data_x , y_: data_y}), i)\n",
    "    print('Step #{}: alpha={}, beta={}'.format(i+1, sess.run(alpha), sess.run(beta)))\n",
    "    \n",
    "file_writer.flush()\n",
    "file_writer.close()\n",
    "sess.close()"
   ]
  },
  {
   "cell_type": "markdown",
   "metadata": {},
   "source": [
    "## Tensorboard\n",
    "Now run this command in your shell:\n",
    "\n",
    "*tensorboard --logdir=YOUR_tf_log_PATH*\n",
    "\n",
    "Open TensorBoard using http://localhost:6006 . There find saved history and also TensorFlow graph (see GRAPHS tab for it)."
   ]
  }
 ],
 "metadata": {
  "kernelspec": {
   "display_name": "Python 3 (ipykernel)",
   "language": "python",
   "name": "python3"
  },
  "language_info": {
   "codemirror_mode": {
    "name": "ipython",
    "version": 3
   },
   "file_extension": ".py",
   "mimetype": "text/x-python",
   "name": "python",
   "nbconvert_exporter": "python",
   "pygments_lexer": "ipython3",
   "version": "3.9.6"
  },
  "toc": {
   "base_numbering": 1,
   "nav_menu": {},
   "number_sections": true,
   "sideBar": true,
   "skip_h1_title": false,
   "title_cell": "Table of Contents",
   "title_sidebar": "Contents",
   "toc_cell": false,
   "toc_position": {},
   "toc_section_display": true,
   "toc_window_display": false
  }
 },
 "nbformat": 4,
 "nbformat_minor": 2
}
