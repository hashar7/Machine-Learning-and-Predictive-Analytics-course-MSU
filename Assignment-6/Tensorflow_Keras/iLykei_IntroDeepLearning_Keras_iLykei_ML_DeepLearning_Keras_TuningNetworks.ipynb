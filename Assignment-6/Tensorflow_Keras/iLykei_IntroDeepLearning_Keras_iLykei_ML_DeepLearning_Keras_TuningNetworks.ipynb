{
 "cells": [
  {
   "cell_type": "markdown",
   "metadata": {
    "collapsed": true,
    "nbpresent": {
     "id": "f765eb10-54e6-4a14-912b-e5117e8f433d"
    }
   },
   "source": [
    "# iLykei Lecture Series\n",
    "\n",
    "# Machine Learning\n",
    "\n",
    "# Introduction to Deep Learning\n",
    "\n",
    "# Tuning Nets with Keras\n",
    "\n",
    "## Yuri Balasanov, Leonid Nazarov, &copy; iLykei 2017-2020\n",
    "\n",
    "\n",
    "This notebook shows how to tune basic network parameters: number of epochs, dropout rate, learning rate, number of neurons in the layers, optimization algorithm.\n",
    "\n",
    "Import all necessary modules."
   ]
  },
  {
   "cell_type": "code",
   "execution_count": 1,
   "metadata": {
    "nbpresent": {
     "id": "efdff163-e13a-4bed-ae11-c66a9f45047d"
    },
    "scrolled": false
   },
   "outputs": [
    {
     "name": "stderr",
     "output_type": "stream",
     "text": [
      "Using TensorFlow backend.\n",
      "/home/yuri/anaconda3/envs/tfspecial/lib/python3.7/site-packages/tensorflow/python/framework/dtypes.py:516: FutureWarning: Passing (type, 1) or '1type' as a synonym of type is deprecated; in a future version of numpy, it will be understood as (type, (1,)) / '(1,)type'.\n",
      "  _np_qint8 = np.dtype([(\"qint8\", np.int8, 1)])\n",
      "/home/yuri/anaconda3/envs/tfspecial/lib/python3.7/site-packages/tensorflow/python/framework/dtypes.py:517: FutureWarning: Passing (type, 1) or '1type' as a synonym of type is deprecated; in a future version of numpy, it will be understood as (type, (1,)) / '(1,)type'.\n",
      "  _np_quint8 = np.dtype([(\"quint8\", np.uint8, 1)])\n",
      "/home/yuri/anaconda3/envs/tfspecial/lib/python3.7/site-packages/tensorflow/python/framework/dtypes.py:518: FutureWarning: Passing (type, 1) or '1type' as a synonym of type is deprecated; in a future version of numpy, it will be understood as (type, (1,)) / '(1,)type'.\n",
      "  _np_qint16 = np.dtype([(\"qint16\", np.int16, 1)])\n",
      "/home/yuri/anaconda3/envs/tfspecial/lib/python3.7/site-packages/tensorflow/python/framework/dtypes.py:519: FutureWarning: Passing (type, 1) or '1type' as a synonym of type is deprecated; in a future version of numpy, it will be understood as (type, (1,)) / '(1,)type'.\n",
      "  _np_quint16 = np.dtype([(\"quint16\", np.uint16, 1)])\n",
      "/home/yuri/anaconda3/envs/tfspecial/lib/python3.7/site-packages/tensorflow/python/framework/dtypes.py:520: FutureWarning: Passing (type, 1) or '1type' as a synonym of type is deprecated; in a future version of numpy, it will be understood as (type, (1,)) / '(1,)type'.\n",
      "  _np_qint32 = np.dtype([(\"qint32\", np.int32, 1)])\n",
      "/home/yuri/anaconda3/envs/tfspecial/lib/python3.7/site-packages/tensorflow/python/framework/dtypes.py:525: FutureWarning: Passing (type, 1) or '1type' as a synonym of type is deprecated; in a future version of numpy, it will be understood as (type, (1,)) / '(1,)type'.\n",
      "  np_resource = np.dtype([(\"resource\", np.ubyte, 1)])\n",
      "/home/yuri/anaconda3/envs/tfspecial/lib/python3.7/site-packages/tensorboard/compat/tensorflow_stub/dtypes.py:541: FutureWarning: Passing (type, 1) or '1type' as a synonym of type is deprecated; in a future version of numpy, it will be understood as (type, (1,)) / '(1,)type'.\n",
      "  _np_qint8 = np.dtype([(\"qint8\", np.int8, 1)])\n",
      "/home/yuri/anaconda3/envs/tfspecial/lib/python3.7/site-packages/tensorboard/compat/tensorflow_stub/dtypes.py:542: FutureWarning: Passing (type, 1) or '1type' as a synonym of type is deprecated; in a future version of numpy, it will be understood as (type, (1,)) / '(1,)type'.\n",
      "  _np_quint8 = np.dtype([(\"quint8\", np.uint8, 1)])\n",
      "/home/yuri/anaconda3/envs/tfspecial/lib/python3.7/site-packages/tensorboard/compat/tensorflow_stub/dtypes.py:543: FutureWarning: Passing (type, 1) or '1type' as a synonym of type is deprecated; in a future version of numpy, it will be understood as (type, (1,)) / '(1,)type'.\n",
      "  _np_qint16 = np.dtype([(\"qint16\", np.int16, 1)])\n",
      "/home/yuri/anaconda3/envs/tfspecial/lib/python3.7/site-packages/tensorboard/compat/tensorflow_stub/dtypes.py:544: FutureWarning: Passing (type, 1) or '1type' as a synonym of type is deprecated; in a future version of numpy, it will be understood as (type, (1,)) / '(1,)type'.\n",
      "  _np_quint16 = np.dtype([(\"quint16\", np.uint16, 1)])\n",
      "/home/yuri/anaconda3/envs/tfspecial/lib/python3.7/site-packages/tensorboard/compat/tensorflow_stub/dtypes.py:545: FutureWarning: Passing (type, 1) or '1type' as a synonym of type is deprecated; in a future version of numpy, it will be understood as (type, (1,)) / '(1,)type'.\n",
      "  _np_qint32 = np.dtype([(\"qint32\", np.int32, 1)])\n",
      "/home/yuri/anaconda3/envs/tfspecial/lib/python3.7/site-packages/tensorboard/compat/tensorflow_stub/dtypes.py:550: FutureWarning: Passing (type, 1) or '1type' as a synonym of type is deprecated; in a future version of numpy, it will be understood as (type, (1,)) / '(1,)type'.\n",
      "  np_resource = np.dtype([(\"resource\", np.ubyte, 1)])\n"
     ]
    }
   ],
   "source": [
    "%matplotlib inline\n",
    "import pandas as pd\n",
    "import numpy as np\n",
    "from matplotlib import pyplot as plt\n",
    "from sklearn.preprocessing import LabelEncoder\n",
    "from sklearn.model_selection import GridSearchCV\n",
    "from keras.models import Sequential\n",
    "from keras.layers import Dense, Dropout, Activation, Flatten\n",
    "from keras.utils import to_categorical, plot_model\n",
    "from keras.optimizers import Adam,SGD,Adagrad\n",
    "from keras.utils.vis_utils import model_to_dot\n",
    "from keras.wrappers.scikit_learn import KerasClassifier\n",
    "from IPython.display import SVG\n"
   ]
  },
  {
   "cell_type": "markdown",
   "metadata": {
    "raw_mimetype": "text/markdown"
   },
   "source": [
    "# Data (Kaggle OTTO  Group challenge)\n",
    "\n",
    "Tuning methods will be demonstrated on the train dataset from Kaggle [Otto Group Product Classification Challenge](https://www.kaggle.com/c/otto-group-product-classification-challenge).  \n",
    "Read the data, remove 'id' column and shuffle rows since they are originally oredered by class. "
   ]
  },
  {
   "cell_type": "code",
   "execution_count": 2,
   "metadata": {},
   "outputs": [
    {
     "name": "stdout",
     "output_type": "stream",
     "text": [
      "(55878, 94)\n"
     ]
    }
   ],
   "source": [
    "X = pd.read_csv(\"KaggleOtto_train.csv\")\n",
    "X.drop('id', axis=1, inplace=True)\n",
    "print(X.shape)\n",
    "np.random.seed(1)\n",
    "# Shuffle data. It is originally oredered by class\n",
    "X = X.reindex(np.random.permutation(X.index))"
   ]
  },
  {
   "cell_type": "markdown",
   "metadata": {},
   "source": [
    "This is a multiclass classification problem. \n",
    "\n",
    "Keras loss function for this problem is `categorical_crossentropy` (multiclass logloss). \n",
    "\n",
    "There is important note in the manual:  <br>\n",
    "when using the `categorical_crossentropy` loss, your targets should be in categorical format (e.g. if you have 10 classes, the target for each sample should be a 10-dimensional vector that is all-zeros except for 1 at the index corresponding to the class of the sample). \n",
    "\n",
    "In order to convert integer targets into categorical targets, you can use Keras utility `to_categorical`:\n",
    "\n",
    "`from keras.utils import to_categorical`\n",
    "`categorical_labels = to_categorical(int_labels, num_classes=None)`\n",
    "\n",
    "The target variable initially is in string format:"
   ]
  },
  {
   "cell_type": "code",
   "execution_count": 3,
   "metadata": {},
   "outputs": [
    {
     "data": {
      "text/plain": [
       "34888    Class_8\n",
       "33063    Class_1\n",
       "18402    Class_5\n",
       "48904    Class_9\n",
       "8078     Class_3\n",
       "24224    Class_6\n",
       "Name: target, dtype: object"
      ]
     },
     "execution_count": 3,
     "metadata": {},
     "output_type": "execute_result"
    }
   ],
   "source": [
    "X.target[:6]"
   ]
  },
  {
   "cell_type": "markdown",
   "metadata": {},
   "source": [
    "Convert strings to integers and then to categorical format"
   ]
  },
  {
   "cell_type": "code",
   "execution_count": 4,
   "metadata": {},
   "outputs": [
    {
     "data": {
      "text/plain": [
       "array([[0., 0., 0., 0., 0., 0., 0., 1., 0.],\n",
       "       [1., 0., 0., 0., 0., 0., 0., 0., 0.],\n",
       "       [0., 0., 0., 0., 1., 0., 0., 0., 0.],\n",
       "       [0., 0., 0., 0., 0., 0., 0., 0., 1.],\n",
       "       [0., 0., 1., 0., 0., 0., 0., 0., 0.],\n",
       "       [0., 0., 0., 0., 0., 1., 0., 0., 0.]], dtype=float32)"
      ]
     },
     "execution_count": 4,
     "metadata": {},
     "output_type": "execute_result"
    }
   ],
   "source": [
    "# Extract target\n",
    "# Encode it to make it manageable by ML algo, convert to np.int32\n",
    "y = X.target.values\n",
    "encoder = LabelEncoder()\n",
    "y = encoder.fit_transform(y).astype(np.int32)\n",
    "num_classes = len(encoder.classes_)\n",
    "# convert class vectors to binary class matrices\n",
    "y = to_categorical(y, num_classes)\n",
    "\n",
    "# Remove target from train\n",
    "X.drop('target', axis=1, inplace=True)\n",
    "\n",
    "y[:6,:]"
   ]
  },
  {
   "cell_type": "markdown",
   "metadata": {
    "collapsed": true
   },
   "source": [
    "It was noticed during competition that logarithmic transfrom improves performance of most of ML algrithms. Transform the data and convert them to numpy array."
   ]
  },
  {
   "cell_type": "code",
   "execution_count": 5,
   "metadata": {
    "nbpresent": {
     "id": "9ae3ad2d-82e9-4ac2-b198-dce882dfcd53"
    }
   },
   "outputs": [],
   "source": [
    "num_features = X.shape[1]\n",
    "# log transform to decrease large values affect\n",
    "X = np.log(1+X.values)"
   ]
  },
  {
   "cell_type": "markdown",
   "metadata": {
    "nbpresent": {
     "id": "ab91eb3a-658e-4ffd-ba20-864fea7b7f8d"
    }
   },
   "source": [
    "# The baseline model\n",
    "\n",
    "Start tunning sequential network with two hidden layers and dropout layers after each of them. \n",
    "\n",
    "The following function creates such network."
   ]
  },
  {
   "cell_type": "code",
   "execution_count": 25,
   "metadata": {
    "nbpresent": {
     "id": "a4306c9c-9be2-4172-9ad6-2355ffad6ba5"
    }
   },
   "outputs": [
    {
     "data": {
      "image/svg+xml": [
       "<svg height=\"370pt\" viewBox=\"0.00 0.00 174.00 410.00\" width=\"157pt\" xmlns=\"http://www.w3.org/2000/svg\" xmlns:xlink=\"http://www.w3.org/1999/xlink\">\n",
       "<g class=\"graph\" id=\"graph0\" transform=\"scale(.9028 .9028) rotate(0) translate(4 406)\">\n",
       "<title>G</title>\n",
       "<polygon fill=\"#ffffff\" points=\"-4,4 -4,-406 170,-406 170,4 -4,4\" stroke=\"transparent\"/>\n",
       "<!-- 140486850757912 -->\n",
       "<g class=\"node\" id=\"node1\">\n",
       "<title>140486850757912</title>\n",
       "<polygon fill=\"none\" points=\"0,-365.5 0,-401.5 166,-401.5 166,-365.5 0,-365.5\" stroke=\"#000000\"/>\n",
       "<text fill=\"#000000\" font-family=\"Times,serif\" font-size=\"14.00\" text-anchor=\"middle\" x=\"83\" y=\"-379.8\">Dense_1_input: InputLayer</text>\n",
       "</g>\n",
       "<!-- 140486850757576 -->\n",
       "<g class=\"node\" id=\"node2\">\n",
       "<title>140486850757576</title>\n",
       "<polygon fill=\"none\" points=\"30.5,-292.5 30.5,-328.5 135.5,-328.5 135.5,-292.5 30.5,-292.5\" stroke=\"#000000\"/>\n",
       "<text fill=\"#000000\" font-family=\"Times,serif\" font-size=\"14.00\" text-anchor=\"middle\" x=\"83\" y=\"-306.8\">Dense_1: Dense</text>\n",
       "</g>\n",
       "<!-- 140486850757912&#45;&gt;140486850757576 -->\n",
       "<g class=\"edge\" id=\"edge1\">\n",
       "<title>140486850757912-&gt;140486850757576</title>\n",
       "<path d=\"M83,-365.4551C83,-357.3828 83,-347.6764 83,-338.6817\" fill=\"none\" stroke=\"#000000\"/>\n",
       "<polygon fill=\"#000000\" points=\"86.5001,-338.5903 83,-328.5904 79.5001,-338.5904 86.5001,-338.5903\" stroke=\"#000000\"/>\n",
       "</g>\n",
       "<!-- 140486850758024 -->\n",
       "<g class=\"node\" id=\"node3\">\n",
       "<title>140486850758024</title>\n",
       "<polygon fill=\"none\" points=\"19,-219.5 19,-255.5 147,-255.5 147,-219.5 19,-219.5\" stroke=\"#000000\"/>\n",
       "<text fill=\"#000000\" font-family=\"Times,serif\" font-size=\"14.00\" text-anchor=\"middle\" x=\"83\" y=\"-233.8\">Dropout_1: Dropout</text>\n",
       "</g>\n",
       "<!-- 140486850757576&#45;&gt;140486850758024 -->\n",
       "<g class=\"edge\" id=\"edge2\">\n",
       "<title>140486850757576-&gt;140486850758024</title>\n",
       "<path d=\"M83,-292.4551C83,-284.3828 83,-274.6764 83,-265.6817\" fill=\"none\" stroke=\"#000000\"/>\n",
       "<polygon fill=\"#000000\" points=\"86.5001,-265.5903 83,-255.5904 79.5001,-265.5904 86.5001,-265.5903\" stroke=\"#000000\"/>\n",
       "</g>\n",
       "<!-- 140486850848192 -->\n",
       "<g class=\"node\" id=\"node4\">\n",
       "<title>140486850848192</title>\n",
       "<polygon fill=\"none\" points=\"30.5,-146.5 30.5,-182.5 135.5,-182.5 135.5,-146.5 30.5,-146.5\" stroke=\"#000000\"/>\n",
       "<text fill=\"#000000\" font-family=\"Times,serif\" font-size=\"14.00\" text-anchor=\"middle\" x=\"83\" y=\"-160.8\">Dense_2: Dense</text>\n",
       "</g>\n",
       "<!-- 140486850758024&#45;&gt;140486850848192 -->\n",
       "<g class=\"edge\" id=\"edge3\">\n",
       "<title>140486850758024-&gt;140486850848192</title>\n",
       "<path d=\"M83,-219.4551C83,-211.3828 83,-201.6764 83,-192.6817\" fill=\"none\" stroke=\"#000000\"/>\n",
       "<polygon fill=\"#000000\" points=\"86.5001,-192.5903 83,-182.5904 79.5001,-192.5904 86.5001,-192.5903\" stroke=\"#000000\"/>\n",
       "</g>\n",
       "<!-- 140486850484208 -->\n",
       "<g class=\"node\" id=\"node5\">\n",
       "<title>140486850484208</title>\n",
       "<polygon fill=\"none\" points=\"19,-73.5 19,-109.5 147,-109.5 147,-73.5 19,-73.5\" stroke=\"#000000\"/>\n",
       "<text fill=\"#000000\" font-family=\"Times,serif\" font-size=\"14.00\" text-anchor=\"middle\" x=\"83\" y=\"-87.8\">Dropout_2: Dropout</text>\n",
       "</g>\n",
       "<!-- 140486850848192&#45;&gt;140486850484208 -->\n",
       "<g class=\"edge\" id=\"edge4\">\n",
       "<title>140486850848192-&gt;140486850484208</title>\n",
       "<path d=\"M83,-146.4551C83,-138.3828 83,-128.6764 83,-119.6817\" fill=\"none\" stroke=\"#000000\"/>\n",
       "<polygon fill=\"#000000\" points=\"86.5001,-119.5903 83,-109.5904 79.5001,-119.5904 86.5001,-119.5903\" stroke=\"#000000\"/>\n",
       "</g>\n",
       "<!-- 140486850759424 -->\n",
       "<g class=\"node\" id=\"node6\">\n",
       "<title>140486850759424</title>\n",
       "<polygon fill=\"none\" points=\"35.5,-.5 35.5,-36.5 130.5,-36.5 130.5,-.5 35.5,-.5\" stroke=\"#000000\"/>\n",
       "<text fill=\"#000000\" font-family=\"Times,serif\" font-size=\"14.00\" text-anchor=\"middle\" x=\"83\" y=\"-14.8\">Output: Dense</text>\n",
       "</g>\n",
       "<!-- 140486850484208&#45;&gt;140486850759424 -->\n",
       "<g class=\"edge\" id=\"edge5\">\n",
       "<title>140486850484208-&gt;140486850759424</title>\n",
       "<path d=\"M83,-73.4551C83,-65.3828 83,-55.6764 83,-46.6817\" fill=\"none\" stroke=\"#000000\"/>\n",
       "<polygon fill=\"#000000\" points=\"86.5001,-46.5903 83,-36.5904 79.5001,-46.5904 86.5001,-46.5903\" stroke=\"#000000\"/>\n",
       "</g>\n",
       "</g>\n",
       "</svg>"
      ],
      "text/plain": [
       "<IPython.core.display.SVG object>"
      ]
     },
     "execution_count": 25,
     "metadata": {},
     "output_type": "execute_result"
    }
   ],
   "source": [
    "def getModel(dropout=0.1, neurons1=500, neurons2=250,\n",
    "             learningRate=0.04):\n",
    "    np.random.seed(1)\n",
    "    model = Sequential()\n",
    "    model.add(Dense(neurons1, activation='relu', input_dim=num_features,\n",
    "                    name='Dense_1'))\n",
    "    model.add(Dropout(dropout,name='Dropout_1'))\n",
    "    model.add(Dense(neurons2, activation='relu',name='Dense_2'))\n",
    "    model.add(Dropout(dropout,name='Dropout_2'))\n",
    "    model.add(Dense(num_classes, activation='softmax',name='Output'))\n",
    "    model.compile(loss='categorical_crossentropy',\n",
    "                  optimizer=Adagrad(lr=learningRate), metrics=['accuracy'])\n",
    "    return model\n",
    "\n",
    "model1 = getModel()\n",
    "\n",
    "SVG(model_to_dot(model1,dpi=65).create(prog='dot', format='svg'))"
   ]
  },
  {
   "cell_type": "markdown",
   "metadata": {},
   "source": [
    "The network was created by `getModel()` with default parameters. Method `Fit` has parameter  \n",
    "\n",
    "`validation_split`: float (0. < x < 1): this is fraction of the data to use as hold-out validation data.  \n",
    "\n",
    "Set `validation_split = 0.2` i.e. 20% of data will be used for validation. <br>\n",
    "Fit the model and draw validation loss plot. <br>\n",
    "Since we want to show validation loss behaviour after it reaches minimum, we do not use `EarlyStopping` callback."
   ]
  },
  {
   "cell_type": "code",
   "execution_count": 7,
   "metadata": {},
   "outputs": [
    {
     "name": "stdout",
     "output_type": "stream",
     "text": [
      "WARNING:tensorflow:From /home/yuri/anaconda3/envs/tfspecial/lib/python3.7/site-packages/keras/backend/tensorflow_backend.py:422: The name tf.global_variables is deprecated. Please use tf.compat.v1.global_variables instead.\n",
      "\n",
      "Train on 44702 samples, validate on 11176 samples\n",
      "Epoch 1/12\n",
      " - 1s - loss: 0.9565 - accuracy: 0.7123 - val_loss: 0.6122 - val_accuracy: 0.7643\n",
      "Epoch 2/12\n",
      " - 1s - loss: 0.5570 - accuracy: 0.7856 - val_loss: 0.5701 - val_accuracy: 0.7810\n",
      "Epoch 3/12\n",
      " - 1s - loss: 0.5123 - accuracy: 0.8028 - val_loss: 0.5388 - val_accuracy: 0.7897\n",
      "Epoch 4/12\n",
      " - 1s - loss: 0.4795 - accuracy: 0.8115 - val_loss: 0.5278 - val_accuracy: 0.7989\n",
      "Epoch 5/12\n",
      " - 1s - loss: 0.4523 - accuracy: 0.8226 - val_loss: 0.5221 - val_accuracy: 0.7961\n",
      "Epoch 6/12\n",
      " - 1s - loss: 0.4271 - accuracy: 0.8309 - val_loss: 0.5181 - val_accuracy: 0.8012\n",
      "Epoch 7/12\n",
      " - 1s - loss: 0.4040 - accuracy: 0.8394 - val_loss: 0.5099 - val_accuracy: 0.8068\n",
      "Epoch 8/12\n",
      " - 1s - loss: 0.3848 - accuracy: 0.8488 - val_loss: 0.5181 - val_accuracy: 0.8017\n",
      "Epoch 9/12\n",
      " - 1s - loss: 0.3645 - accuracy: 0.8545 - val_loss: 0.5386 - val_accuracy: 0.8020\n",
      "Epoch 10/12\n",
      " - 1s - loss: 0.3464 - accuracy: 0.8646 - val_loss: 0.5380 - val_accuracy: 0.8062\n",
      "Epoch 11/12\n",
      " - 1s - loss: 0.3318 - accuracy: 0.8691 - val_loss: 0.5305 - val_accuracy: 0.8070\n",
      "Epoch 12/12\n",
      " - 1s - loss: 0.3165 - accuracy: 0.8745 - val_loss: 0.5344 - val_accuracy: 0.8086\n"
     ]
    }
   ],
   "source": [
    "net1 = model1.fit(X, y, epochs=12, batch_size=512, verbose=2,\n",
    "                  validation_split=0.2)"
   ]
  },
  {
   "cell_type": "code",
   "execution_count": 8,
   "metadata": {
    "nbpresent": {
     "id": "b1913631-f4d5-4a17-a7dc-b14ff18f2233"
    }
   },
   "outputs": [
    {
     "data": {
      "image/png": "[encoded data removed]",
      "text/plain": [
       "<Figure size 432x288 with 1 Axes>"
      ]
     },
     "metadata": {
      "needs_background": "light"
     },
     "output_type": "display_data"
    }
   ],
   "source": [
    "valid_loss1 = net1.history[\"val_loss\"]\n",
    "plt.plot(valid_loss1, linewidth=3, label=\"The baseline\")\n",
    "plt.grid()\n",
    "plt.legend()\n",
    "plt.xlabel(\"epoch\")\n",
    "plt.ylabel(\"validation loss\")\n",
    "plt.xlim(0, 40)\n",
    "plt.ylim(0.48, 0.6)\n",
    "plt.yscale(\"log\")\n",
    "plt.show()"
   ]
  },
  {
   "cell_type": "markdown",
   "metadata": {
    "nbpresent": {
     "id": "1a787e08-697b-4665-b430-80d2c2ab6487"
    }
   },
   "source": [
    "Note that optimal performance is often achieved around `epoch = 7`.\n",
    "For later epochs the model is overfitting, and performance is worse."
   ]
  },
  {
   "cell_type": "markdown",
   "metadata": {
    "nbpresent": {
     "id": "f632bfe3-05ff-45f8-8229-e312cb9cf4ab"
    }
   },
   "source": [
    "# Increase dropout\n",
    "\n",
    "Add some drop out to prevent overfitting."
   ]
  },
  {
   "cell_type": "code",
   "execution_count": 9,
   "metadata": {
    "nbpresent": {
     "id": "af0110da-1129-4946-92db-0977911c1724"
    }
   },
   "outputs": [
    {
     "name": "stdout",
     "output_type": "stream",
     "text": [
      "Train on 44702 samples, validate on 11176 samples\n",
      "Epoch 1/12\n",
      " - 1s - loss: 1.0058 - accuracy: 0.6930 - val_loss: 0.6212 - val_accuracy: 0.7662\n",
      "Epoch 2/12\n",
      " - 1s - loss: 0.6265 - accuracy: 0.7622 - val_loss: 0.5815 - val_accuracy: 0.7699\n",
      "Epoch 3/12\n",
      " - 1s - loss: 0.5832 - accuracy: 0.7781 - val_loss: 0.5566 - val_accuracy: 0.7861\n",
      "Epoch 4/12\n",
      " - 1s - loss: 0.5575 - accuracy: 0.7868 - val_loss: 0.5436 - val_accuracy: 0.7870\n",
      "Epoch 5/12\n",
      " - 1s - loss: 0.5365 - accuracy: 0.7946 - val_loss: 0.5344 - val_accuracy: 0.7894\n",
      "Epoch 6/12\n",
      " - 1s - loss: 0.5195 - accuracy: 0.8003 - val_loss: 0.5310 - val_accuracy: 0.7953\n",
      "Epoch 7/12\n",
      " - 1s - loss: 0.5039 - accuracy: 0.8034 - val_loss: 0.5148 - val_accuracy: 0.8002\n",
      "Epoch 8/12\n",
      " - 1s - loss: 0.4943 - accuracy: 0.8098 - val_loss: 0.5111 - val_accuracy: 0.8000\n",
      "Epoch 9/12\n",
      " - 1s - loss: 0.4778 - accuracy: 0.8136 - val_loss: 0.5140 - val_accuracy: 0.7992\n",
      "Epoch 10/12\n",
      " - 1s - loss: 0.4677 - accuracy: 0.8153 - val_loss: 0.5095 - val_accuracy: 0.8046\n",
      "Epoch 11/12\n",
      " - 1s - loss: 0.4575 - accuracy: 0.8213 - val_loss: 0.5047 - val_accuracy: 0.8042\n",
      "Epoch 12/12\n",
      " - 1s - loss: 0.4485 - accuracy: 0.8234 - val_loss: 0.5009 - val_accuracy: 0.8051\n"
     ]
    }
   ],
   "source": [
    "increasedDropout = 0.4\n",
    "model2 = getModel(increasedDropout)\n",
    "net2 = model2.fit(X, y, epochs=12, batch_size=512, verbose=2,validation_split=0.2)"
   ]
  },
  {
   "cell_type": "markdown",
   "metadata": {},
   "source": [
    "Compare validation loss for `net1` and `net2`"
   ]
  },
  {
   "cell_type": "code",
   "execution_count": 10,
   "metadata": {
    "nbpresent": {
     "id": "9681dd61-7153-4302-821a-679f712d6620"
    }
   },
   "outputs": [
    {
     "data": {
      "image/png": "[encoded data removed]",
      "text/plain": [
       "<Figure size 432x288 with 1 Axes>"
      ]
     },
     "metadata": {
      "needs_background": "light"
     },
     "output_type": "display_data"
    },
    {
     "name": "stdout",
     "output_type": "stream",
     "text": [
      "best validation loss 0.500865222346211\n"
     ]
    }
   ],
   "source": [
    "valid_loss2 = net2.history[\"val_loss\"]\n",
    "plt.plot(valid_loss1, linewidth=3, label=\"The baseline\")\n",
    "plt.plot(valid_loss2, linewidth=3, label=\"Increased dropout\")\n",
    "plt.grid()\n",
    "plt.legend()\n",
    "plt.xlabel(\"epoch\")\n",
    "plt.ylabel(\"validation loss\")\n",
    "plt.xlim(0, 40)\n",
    "plt.ylim(0.47, 0.6)\n",
    "plt.yscale(\"log\")\n",
    "plt.show()\n",
    "print('best validation loss', min(valid_loss2))"
   ]
  },
  {
   "cell_type": "markdown",
   "metadata": {
    "nbpresent": {
     "id": "f1ed5413-2a3e-4867-9f13-3370cfd8eaf1"
    }
   },
   "source": [
    "That is better. <br>\n",
    "No more overfitting, and it feels like it is possible to increase number of epochs."
   ]
  },
  {
   "cell_type": "markdown",
   "metadata": {
    "nbpresent": {
     "id": "06969724-bbdd-4fb1-8d07-6482f7215782"
    }
   },
   "source": [
    "# Increase number of epochs\n",
    "\n",
    "Increase number of epochs and check what loss can be reached."
   ]
  },
  {
   "cell_type": "code",
   "execution_count": 11,
   "metadata": {
    "nbpresent": {
     "id": "6356fb1c-4fd3-44f3-98b1-8bdf49066203"
    }
   },
   "outputs": [
    {
     "name": "stdout",
     "output_type": "stream",
     "text": [
      "Train on 44702 samples, validate on 11176 samples\n",
      "Epoch 1/25\n",
      " - 1s - loss: 1.0058 - accuracy: 0.6930 - val_loss: 0.6212 - val_accuracy: 0.7662\n",
      "Epoch 2/25\n",
      " - 1s - loss: 0.6265 - accuracy: 0.7622 - val_loss: 0.5815 - val_accuracy: 0.7699\n",
      "Epoch 3/25\n",
      " - 1s - loss: 0.5832 - accuracy: 0.7781 - val_loss: 0.5566 - val_accuracy: 0.7861\n",
      "Epoch 4/25\n",
      " - 1s - loss: 0.5575 - accuracy: 0.7868 - val_loss: 0.5436 - val_accuracy: 0.7870\n",
      "Epoch 5/25\n",
      " - 1s - loss: 0.5365 - accuracy: 0.7946 - val_loss: 0.5344 - val_accuracy: 0.7894\n",
      "Epoch 6/25\n",
      " - 1s - loss: 0.5195 - accuracy: 0.8003 - val_loss: 0.5310 - val_accuracy: 0.7953\n",
      "Epoch 7/25\n",
      " - 1s - loss: 0.5039 - accuracy: 0.8034 - val_loss: 0.5148 - val_accuracy: 0.8002\n",
      "Epoch 8/25\n",
      " - 1s - loss: 0.4943 - accuracy: 0.8098 - val_loss: 0.5111 - val_accuracy: 0.8000\n",
      "Epoch 9/25\n",
      " - 1s - loss: 0.4778 - accuracy: 0.8136 - val_loss: 0.5140 - val_accuracy: 0.7992\n",
      "Epoch 10/25\n",
      " - 1s - loss: 0.4677 - accuracy: 0.8153 - val_loss: 0.5095 - val_accuracy: 0.8046\n",
      "Epoch 11/25\n",
      " - 1s - loss: 0.4575 - accuracy: 0.8213 - val_loss: 0.5047 - val_accuracy: 0.8042\n",
      "Epoch 12/25\n",
      " - 1s - loss: 0.4485 - accuracy: 0.8234 - val_loss: 0.5009 - val_accuracy: 0.8051\n",
      "Epoch 13/25\n",
      " - 1s - loss: 0.4421 - accuracy: 0.8255 - val_loss: 0.5000 - val_accuracy: 0.8079\n",
      "Epoch 14/25\n",
      " - 1s - loss: 0.4331 - accuracy: 0.8305 - val_loss: 0.5016 - val_accuracy: 0.8067\n",
      "Epoch 15/25\n",
      " - 1s - loss: 0.4278 - accuracy: 0.8320 - val_loss: 0.5050 - val_accuracy: 0.8067\n",
      "Epoch 16/25\n",
      " - 1s - loss: 0.4198 - accuracy: 0.8337 - val_loss: 0.5002 - val_accuracy: 0.8072\n",
      "Epoch 17/25\n",
      " - 1s - loss: 0.4110 - accuracy: 0.8375 - val_loss: 0.5017 - val_accuracy: 0.8093\n",
      "Epoch 18/25\n",
      " - 1s - loss: 0.4055 - accuracy: 0.8380 - val_loss: 0.5056 - val_accuracy: 0.8088\n",
      "Epoch 19/25\n",
      " - 1s - loss: 0.4005 - accuracy: 0.8415 - val_loss: 0.5094 - val_accuracy: 0.8088\n",
      "Epoch 20/25\n",
      " - 1s - loss: 0.3945 - accuracy: 0.8420 - val_loss: 0.5050 - val_accuracy: 0.8086\n",
      "Epoch 21/25\n",
      " - 1s - loss: 0.3900 - accuracy: 0.8426 - val_loss: 0.5063 - val_accuracy: 0.8094\n",
      "Epoch 22/25\n",
      " - 1s - loss: 0.3846 - accuracy: 0.8470 - val_loss: 0.5038 - val_accuracy: 0.8114\n",
      "Epoch 23/25\n",
      " - 1s - loss: 0.3771 - accuracy: 0.8491 - val_loss: 0.5067 - val_accuracy: 0.8099\n",
      "Epoch 24/25\n",
      " - 1s - loss: 0.3738 - accuracy: 0.8522 - val_loss: 0.5087 - val_accuracy: 0.8132\n",
      "Epoch 25/25\n",
      " - 1s - loss: 0.3693 - accuracy: 0.8527 - val_loss: 0.5104 - val_accuracy: 0.8123\n"
     ]
    }
   ],
   "source": [
    "model3 = getModel(increasedDropout)\n",
    "net3 = model3.fit(X, y, epochs=25, batch_size=512, verbose=2, validation_split=0.2)"
   ]
  },
  {
   "cell_type": "code",
   "execution_count": 12,
   "metadata": {
    "nbpresent": {
     "id": "f248015c-df5d-47d3-86fd-073d8b0860a3"
    }
   },
   "outputs": [
    {
     "data": {
      "image/png": "[encoded data removed]",
      "text/plain": [
       "<Figure size 432x288 with 1 Axes>"
      ]
     },
     "metadata": {
      "needs_background": "light"
     },
     "output_type": "display_data"
    },
    {
     "name": "stdout",
     "output_type": "stream",
     "text": [
      "best validation loss 0.5000290817760449\n"
     ]
    }
   ],
   "source": [
    "valid_loss3 = np.array(net3.history[\"val_loss\"])\n",
    "plt.plot(valid_loss1, linewidth=3, label=\"The baseline\")\n",
    "plt.plot(valid_loss3, linewidth=3, label=\"Increased dropout & epoch\")\n",
    "plt.grid()\n",
    "plt.legend()\n",
    "plt.xlabel(\"epoch\")\n",
    "plt.ylabel(\"validation loss\")\n",
    "plt.xlim(0, 40)\n",
    "plt.ylim(0.47, 0.6)\n",
    "plt.yscale(\"log\")\n",
    "plt.show()\n",
    "print('best validation loss', min(valid_loss3))"
   ]
  },
  {
   "cell_type": "markdown",
   "metadata": {},
   "source": [
    "Try to improve performance further by adding neurons"
   ]
  },
  {
   "cell_type": "markdown",
   "metadata": {
    "nbpresent": {
     "id": "21f44c66-abe8-4ca0-b689-2abf7290d246"
    }
   },
   "source": [
    "# Increase number of neurons\n",
    "\n",
    "Increase number of neurons in the first hidden layer."
   ]
  },
  {
   "cell_type": "code",
   "execution_count": 13,
   "metadata": {
    "nbpresent": {
     "id": "0a6a6da6-7a04-4cfd-8030-34f14d1918ea"
    },
    "scrolled": false
   },
   "outputs": [
    {
     "name": "stdout",
     "output_type": "stream",
     "text": [
      "Train on 44702 samples, validate on 11176 samples\n",
      "Epoch 1/25\n",
      " - 2s - loss: 1.2508 - accuracy: 0.7044 - val_loss: 0.6234 - val_accuracy: 0.7654\n",
      "Epoch 2/25\n",
      " - 2s - loss: 0.6110 - accuracy: 0.7692 - val_loss: 0.5684 - val_accuracy: 0.7809\n",
      "Epoch 3/25\n",
      " - 2s - loss: 0.5671 - accuracy: 0.7826 - val_loss: 0.5409 - val_accuracy: 0.7925\n",
      "Epoch 4/25\n",
      " - 2s - loss: 0.5386 - accuracy: 0.7931 - val_loss: 0.5341 - val_accuracy: 0.7959\n",
      "Epoch 5/25\n",
      " - 2s - loss: 0.5153 - accuracy: 0.7991 - val_loss: 0.5268 - val_accuracy: 0.7898\n",
      "Epoch 6/25\n",
      " - 2s - loss: 0.5002 - accuracy: 0.8055 - val_loss: 0.5168 - val_accuracy: 0.7957\n",
      "Epoch 7/25\n",
      " - 2s - loss: 0.4810 - accuracy: 0.8148 - val_loss: 0.5084 - val_accuracy: 0.8026\n",
      "Epoch 8/25\n",
      " - 2s - loss: 0.4618 - accuracy: 0.8185 - val_loss: 0.5042 - val_accuracy: 0.8042\n",
      "Epoch 9/25\n",
      " - 2s - loss: 0.4528 - accuracy: 0.8217 - val_loss: 0.5078 - val_accuracy: 0.8024\n",
      "Epoch 10/25\n",
      " - 2s - loss: 0.4394 - accuracy: 0.8268 - val_loss: 0.5023 - val_accuracy: 0.8063\n",
      "Epoch 11/25\n",
      " - 2s - loss: 0.4241 - accuracy: 0.8337 - val_loss: 0.5001 - val_accuracy: 0.8104\n",
      "Epoch 12/25\n",
      " - 2s - loss: 0.4143 - accuracy: 0.8369 - val_loss: 0.4931 - val_accuracy: 0.8097\n",
      "Epoch 13/25\n",
      " - 2s - loss: 0.4047 - accuracy: 0.8402 - val_loss: 0.4942 - val_accuracy: 0.8116\n",
      "Epoch 14/25\n",
      " - 2s - loss: 0.3956 - accuracy: 0.8429 - val_loss: 0.4966 - val_accuracy: 0.8090\n",
      "Epoch 15/25\n",
      " - 2s - loss: 0.3847 - accuracy: 0.8477 - val_loss: 0.5000 - val_accuracy: 0.8127\n",
      "Epoch 16/25\n",
      " - 2s - loss: 0.3772 - accuracy: 0.8514 - val_loss: 0.4939 - val_accuracy: 0.8142\n",
      "Epoch 17/25\n",
      " - 2s - loss: 0.3663 - accuracy: 0.8527 - val_loss: 0.5044 - val_accuracy: 0.8146\n",
      "Epoch 18/25\n",
      " - 2s - loss: 0.3545 - accuracy: 0.8593 - val_loss: 0.5078 - val_accuracy: 0.8088\n",
      "Epoch 19/25\n",
      " - 2s - loss: 0.3495 - accuracy: 0.8601 - val_loss: 0.5140 - val_accuracy: 0.8132\n",
      "Epoch 20/25\n",
      " - 2s - loss: 0.3427 - accuracy: 0.8623 - val_loss: 0.5155 - val_accuracy: 0.8125\n",
      "Epoch 21/25\n",
      " - 2s - loss: 0.3370 - accuracy: 0.8670 - val_loss: 0.5040 - val_accuracy: 0.8145\n",
      "Epoch 22/25\n",
      " - 2s - loss: 0.3251 - accuracy: 0.8707 - val_loss: 0.5117 - val_accuracy: 0.8182\n",
      "Epoch 23/25\n",
      " - 2s - loss: 0.3189 - accuracy: 0.8734 - val_loss: 0.5138 - val_accuracy: 0.8137\n",
      "Epoch 24/25\n",
      " - 2s - loss: 0.3148 - accuracy: 0.8751 - val_loss: 0.5261 - val_accuracy: 0.8134\n",
      "Epoch 25/25\n",
      " - 2s - loss: 0.3080 - accuracy: 0.8778 - val_loss: 0.5239 - val_accuracy: 0.8152\n"
     ]
    }
   ],
   "source": [
    "increasedNeurons1 = 1000\n",
    "model4 = getModel(increasedDropout, neurons1=increasedNeurons1)\n",
    "net4 = model4.fit(X, y, epochs=25, batch_size=512, verbose=2, validation_split=0.2)"
   ]
  },
  {
   "cell_type": "code",
   "execution_count": 14,
   "metadata": {
    "nbpresent": {
     "id": "696ef53e-4019-4f1f-8cc4-786269febd64"
    },
    "scrolled": true
   },
   "outputs": [
    {
     "data": {
      "image/png": "[encoded data removed]",
      "text/plain": [
       "<Figure size 432x288 with 1 Axes>"
      ]
     },
     "metadata": {
      "needs_background": "light"
     },
     "output_type": "display_data"
    },
    {
     "name": "stdout",
     "output_type": "stream",
     "text": [
      "best validation loss 0.4930979978978506\n"
     ]
    }
   ],
   "source": [
    "valid_loss4 = net4.history[\"val_loss\"]\n",
    "plt.plot(valid_loss1, linewidth=3, label=\"The baseline\")\n",
    "plt.plot(valid_loss3, linewidth=3, label=\"Increased dropout & epoch\")\n",
    "plt.plot(valid_loss4, linewidth=3, label=\"Increased neurons\")\n",
    "plt.grid()\n",
    "plt.legend()\n",
    "plt.xlabel(\"epoch\")\n",
    "plt.ylabel(\"validation loss\")\n",
    "plt.xlim(0, 40)\n",
    "plt.ylim(0.47, 0.6)\n",
    "plt.yscale(\"log\")\n",
    "plt.show()\n",
    "print('best validation loss', min(valid_loss4))"
   ]
  },
  {
   "cell_type": "markdown",
   "metadata": {
    "nbpresent": {
     "id": "e4df500f-c9fc-494e-8e99-5eba98055ec9"
    }
   },
   "source": [
    "That is better, but we start overfitting around epoch 12. <br>"
   ]
  },
  {
   "cell_type": "markdown",
   "metadata": {
    "nbpresent": {
     "id": "a7b34497-c26a-4f4b-9ad4-ded1f752db13"
    }
   },
   "source": [
    "# Decrease learning rate\n",
    "\n",
    "To prevent overfitting decrease the learning rate."
   ]
  },
  {
   "cell_type": "code",
   "execution_count": 15,
   "metadata": {
    "nbpresent": {
     "id": "2be239bf-bf81-4233-84a4-49a6565de50d"
    },
    "scrolled": true
   },
   "outputs": [
    {
     "name": "stdout",
     "output_type": "stream",
     "text": [
      "Train on 44702 samples, validate on 11176 samples\n",
      "Epoch 1/30\n",
      " - 2s - loss: 0.7756 - accuracy: 0.7183 - val_loss: 0.6112 - val_accuracy: 0.7734\n",
      "Epoch 2/30\n",
      " - 2s - loss: 0.6081 - accuracy: 0.7687 - val_loss: 0.5769 - val_accuracy: 0.7802\n",
      "Epoch 3/30\n",
      " - 2s - loss: 0.5773 - accuracy: 0.7783 - val_loss: 0.5599 - val_accuracy: 0.7836\n",
      "Epoch 4/30\n",
      " - 2s - loss: 0.5548 - accuracy: 0.7874 - val_loss: 0.5509 - val_accuracy: 0.7870\n",
      "Epoch 5/30\n",
      " - 2s - loss: 0.5386 - accuracy: 0.7920 - val_loss: 0.5402 - val_accuracy: 0.7912\n",
      "Epoch 6/30\n",
      " - 2s - loss: 0.5299 - accuracy: 0.7959 - val_loss: 0.5365 - val_accuracy: 0.7902\n",
      "Epoch 7/30\n",
      " - 2s - loss: 0.5170 - accuracy: 0.8005 - val_loss: 0.5293 - val_accuracy: 0.7942\n",
      "Epoch 8/30\n",
      " - 2s - loss: 0.5074 - accuracy: 0.8026 - val_loss: 0.5243 - val_accuracy: 0.7940\n",
      "Epoch 9/30\n",
      " - 2s - loss: 0.4995 - accuracy: 0.8054 - val_loss: 0.5276 - val_accuracy: 0.7960\n",
      "Epoch 10/30\n",
      " - 2s - loss: 0.4931 - accuracy: 0.8095 - val_loss: 0.5201 - val_accuracy: 0.7996\n",
      "Epoch 11/30\n",
      " - 2s - loss: 0.4835 - accuracy: 0.8131 - val_loss: 0.5147 - val_accuracy: 0.7992\n",
      "Epoch 12/30\n",
      " - 2s - loss: 0.4775 - accuracy: 0.8149 - val_loss: 0.5107 - val_accuracy: 0.8017\n",
      "Epoch 13/30\n",
      " - 2s - loss: 0.4739 - accuracy: 0.8155 - val_loss: 0.5082 - val_accuracy: 0.8018\n",
      "Epoch 14/30\n",
      " - 2s - loss: 0.4661 - accuracy: 0.8178 - val_loss: 0.5097 - val_accuracy: 0.8025\n",
      "Epoch 15/30\n",
      " - 2s - loss: 0.4628 - accuracy: 0.8196 - val_loss: 0.5063 - val_accuracy: 0.8039\n",
      "Epoch 16/30\n",
      " - 2s - loss: 0.4573 - accuracy: 0.8215 - val_loss: 0.5034 - val_accuracy: 0.8054\n",
      "Epoch 17/30\n",
      " - 2s - loss: 0.4526 - accuracy: 0.8253 - val_loss: 0.5037 - val_accuracy: 0.8044\n",
      "Epoch 18/30\n",
      " - 2s - loss: 0.4465 - accuracy: 0.8260 - val_loss: 0.5025 - val_accuracy: 0.8057\n",
      "Epoch 19/30\n",
      " - 2s - loss: 0.4408 - accuracy: 0.8282 - val_loss: 0.5033 - val_accuracy: 0.8086\n",
      "Epoch 20/30\n",
      " - 2s - loss: 0.4386 - accuracy: 0.8292 - val_loss: 0.5002 - val_accuracy: 0.8057\n",
      "Epoch 21/30\n",
      " - 2s - loss: 0.4356 - accuracy: 0.8281 - val_loss: 0.4972 - val_accuracy: 0.8094\n",
      "Epoch 22/30\n",
      " - 2s - loss: 0.4295 - accuracy: 0.8324 - val_loss: 0.4970 - val_accuracy: 0.8113\n",
      "Epoch 23/30\n",
      " - 2s - loss: 0.4280 - accuracy: 0.8314 - val_loss: 0.4966 - val_accuracy: 0.8089\n",
      "Epoch 24/30\n",
      " - 2s - loss: 0.4240 - accuracy: 0.8345 - val_loss: 0.5008 - val_accuracy: 0.8081\n",
      "Epoch 25/30\n",
      " - 2s - loss: 0.4196 - accuracy: 0.8352 - val_loss: 0.4953 - val_accuracy: 0.8131\n",
      "Epoch 26/30\n",
      " - 2s - loss: 0.4159 - accuracy: 0.8374 - val_loss: 0.4982 - val_accuracy: 0.8085\n",
      "Epoch 27/30\n",
      " - 2s - loss: 0.4131 - accuracy: 0.8366 - val_loss: 0.4958 - val_accuracy: 0.8116\n",
      "Epoch 28/30\n",
      " - 2s - loss: 0.4100 - accuracy: 0.8389 - val_loss: 0.4954 - val_accuracy: 0.8099\n",
      "Epoch 29/30\n",
      " - 2s - loss: 0.4097 - accuracy: 0.8389 - val_loss: 0.4928 - val_accuracy: 0.8110\n",
      "Epoch 30/30\n",
      " - 2s - loss: 0.4066 - accuracy: 0.8409 - val_loss: 0.4950 - val_accuracy: 0.8116\n"
     ]
    }
   ],
   "source": [
    "model5 = getModel(increasedDropout, neurons1=increasedNeurons1, learningRate=0.008)\n",
    "net5 = model5.fit(X, y, epochs=30, batch_size=512, verbose=2, validation_split=0.2)"
   ]
  },
  {
   "cell_type": "code",
   "execution_count": 16,
   "metadata": {
    "nbpresent": {
     "id": "5754a0dd-3083-49bc-baff-f669dd566b4c"
    },
    "scrolled": true
   },
   "outputs": [
    {
     "data": {
      "image/png": "[encoded data removed]",
      "text/plain": [
       "<Figure size 432x288 with 1 Axes>"
      ]
     },
     "metadata": {
      "needs_background": "light"
     },
     "output_type": "display_data"
    },
    {
     "name": "stdout",
     "output_type": "stream",
     "text": [
      "best validation loss 0.4927682465284999\n"
     ]
    }
   ],
   "source": [
    "valid_loss5 = net5.history[\"val_loss\"]\n",
    "plt.plot(valid_loss1, linewidth=3, label=\"The baseline\")\n",
    "plt.plot(valid_loss3, linewidth=3, label=\"Increased dropout & epoch\")\n",
    "plt.plot(valid_loss4, linewidth=3, label=\"Increased neurons\")\n",
    "plt.plot(valid_loss5, linewidth=3, label=\"Increased neurons & decr. learning rate\")\n",
    "plt.grid()\n",
    "plt.legend()\n",
    "plt.xlabel(\"epoch\")\n",
    "plt.ylabel(\"validation loss\")\n",
    "plt.xlim(0, 40)\n",
    "plt.ylim(0.47, 0.6)\n",
    "plt.yscale(\"log\")\n",
    "plt.show()\n",
    "print('best validation loss', min(valid_loss5))"
   ]
  },
  {
   "cell_type": "markdown",
   "metadata": {
    "nbpresent": {
     "id": "9bdfced1-2060-4294-ac62-c864b95be8f2"
    }
   },
   "source": [
    "Low learning rate smoothed down validation loss curve and improved prediction quality. \n",
    "Now there is a good balance between number of neurons, dropout and learning rate. <br>\n",
    "Note that other parameters could have been tuned too: number of layers, activation function etc."
   ]
  },
  {
   "cell_type": "markdown",
   "metadata": {},
   "source": [
    "<font color=blue>\n",
    "    \n",
    "**Assignment 1**  <br>\n",
    "Tune sequentially droput rate, number of epochs and number of neurons of the following network:\n",
    "\n",
    "![test_model6](https://ilykei.com/api/fileProxy/documents%2FAdvanced%20Machine%20Learning%2FLecture%207%20AdvML%2Ftest_model6.png)\n",
    "\n",
    "Try to improve 'best validation loss' at least by 0.02 compare to starting point (dropout rate = 0, optimizer=Adagrad(lr=0.04). <br>\n",
    "Do not change validation_split=0.2, optimizer and learning rate. \n",
    "\n",
    "![TunningPic1](https://ilykei.com/api/fileProxy/documents%2FAdvanced%20Machine%20Learning%2FLecture%207%20AdvML%2FTunningPic1.png)"
   ]
  },
  {
   "cell_type": "code",
   "execution_count": 17,
   "metadata": {
    "scrolled": true
   },
   "outputs": [],
   "source": [
    "#Skipped code\n",
    "# Assignment 1\n"
   ]
  },
  {
   "cell_type": "markdown",
   "metadata": {},
   "source": [
    "# Tuning hyperparameters with grid search\n",
    "\n",
    "Keras sequential models (single-input only) can be used in `scikit-learn` by wrapping them with the `KerasClassifier` or `KerasRegressor` class.\n",
    "\n",
    "To use these wrappers define a function that creates and returns Keras sequential model, then pass this function to the `build_fn` argument when constructing `KerasClassifier` class. `build_fn` should construct, compile and return a Keras model, which will then be used to fit/predict. One of the following three values could be passed to build_fn:  \n",
    "\n",
    "- A function\n",
    "- An instance of a class that implements the call method\n",
    "- None. This means you implement a class that inherits from either `KerasClassifier` or `KerasRegressor`. The call method of the present class will then be treated as the default `build_fn`.\n",
    "\n",
    "E.g. we can create `KerasClassifier` instance with the above defined function `getModel` :"
   ]
  },
  {
   "cell_type": "code",
   "execution_count": 18,
   "metadata": {},
   "outputs": [],
   "source": [
    "model = KerasClassifier(build_fn=getModel)"
   ]
  },
  {
   "cell_type": "markdown",
   "metadata": {},
   "source": [
    "The constructor for the KerasClassifier class takes second argument   \n",
    "`ssk_params`: model parameters & fitting parameters.  \n",
    "We can pass there any legal model and fitting parameters. "
   ]
  },
  {
   "cell_type": "code",
   "execution_count": 19,
   "metadata": {},
   "outputs": [
    {
     "data": {
      "text/plain": [
       "{'epochs': 20,\n",
       " 'batch_size': 512,\n",
       " 'verbose': 0,\n",
       " 'build_fn': <function __main__.getModel(dropout=0.1, neurons1=500, neurons2=250, learningRate=0.04)>}"
      ]
     },
     "execution_count": 19,
     "metadata": {},
     "output_type": "execute_result"
    }
   ],
   "source": [
    "model = KerasClassifier(build_fn=getModel, epochs=20, batch_size=512, verbose=0)\n",
    "model.get_params()"
   ]
  },
  {
   "cell_type": "markdown",
   "metadata": {},
   "source": [
    "Since it is now scikit-learn Classifier, we can use Grid search - a model hyperparameter optimization technique provided in scikit-learn GridSearchCV class.  \n",
    "\n",
    "When constructing this class we provide a dictionary of hyperparameters to evaluate in the `param_grid` argument.\n",
    "\n",
    "By default, the grid search will only use one thread. <br>\n",
    "By setting the `n_jobs` argument in the `GridSearchCV` constructor to -1, the process will use all cores on your machine. <br>\n",
    "If `n_jobs` was set to a value higher than one, the data are copied for each point in the grid (but not `n_jobs` times). <br>\n",
    "This is done for efficiency if individual jobs take very little time, but may raise errors if the dataset is large and there is not enough memory available. <br>\n",
    "A workaround in this case is to set `pre_dispatch`. <br>\n",
    "Then, the memory is copied only `pre_dispatch` number of times. <br>\n",
    "A reasonable value for `pre_dispatch` is $2~\\times~$n_jobs.\n",
    "\n",
    "The `GridSearchCV` process will then construct and evaluate one model for each combination of parameters. <br>\n",
    "Cross validation is used to evaluate each individual model (by default - 3-fold cross validation, this can be overridden by specifying the `cv` argument to the `GridSearchCV` constructor).  \n",
    "\n",
    "We set \"neg_log_loss\" (negative logloss) as a scoring measure since  `GridSearchCV` is trying to maximize score."
   ]
  },
  {
   "cell_type": "code",
   "execution_count": 20,
   "metadata": {},
   "outputs": [],
   "source": [
    "# define the grid search parameters\n",
    "param_grid = dict(dropout=[0.2, 0.3], neurons1=[300, 500])\n",
    "\n",
    "grid = GridSearchCV(estimator=model, param_grid=param_grid, \n",
    "                    scoring=\"neg_log_loss\", n_jobs=1)\n"
   ]
  },
  {
   "cell_type": "code",
   "execution_count": 21,
   "metadata": {},
   "outputs": [
    {
     "name": "stderr",
     "output_type": "stream",
     "text": [
      "/home/yuri/anaconda3/envs/tfspecial/lib/python3.7/site-packages/sklearn/model_selection/_split.py:1978: FutureWarning: The default value of cv will change from 3 to 5 in version 0.22. Specify it explicitly to silence this warning.\n",
      "  warnings.warn(CV_WARNING, FutureWarning)\n"
     ]
    }
   ],
   "source": [
    "grid_result = grid.fit(X, y)"
   ]
  },
  {
   "cell_type": "markdown",
   "metadata": {},
   "source": [
    "We can extract results from `grid_result` attribute `cv_results_`. \n",
    "\n",
    "Recall that we were maximizing negative logloss. So, we output `-mean`  as logloss mean."
   ]
  },
  {
   "cell_type": "code",
   "execution_count": 22,
   "metadata": {
    "scrolled": true
   },
   "outputs": [
    {
     "name": "stdout",
     "output_type": "stream",
     "text": [
      "Best: 0.523635 using {'dropout': 0.3, 'neurons1': 300}\n",
      "0.543756 (0.001761) with: {'dropout': 0.2, 'neurons1': 300}\n",
      "0.572386 (0.002783) with: {'dropout': 0.2, 'neurons1': 500}\n",
      "0.523635 (0.003038) with: {'dropout': 0.3, 'neurons1': 300}\n",
      "0.541836 (0.003278) with: {'dropout': 0.3, 'neurons1': 500}\n"
     ]
    }
   ],
   "source": [
    "# summarize results\n",
    "print(\"Best: %f using %s\" % (-grid_result.best_score_, grid_result.best_params_))\n",
    "means = grid_result.cv_results_['mean_test_score']\n",
    "stds = grid_result.cv_results_['std_test_score']\n",
    "params = grid_result.cv_results_['params']\n",
    "for mean, stdev, param in zip(means, stds, params):\n",
    "    print(\"%f (%f) with: %r\" % (-mean, stdev, param))\n"
   ]
  },
  {
   "cell_type": "markdown",
   "metadata": {},
   "source": [
    "# Selecting Optimization Algorithm\n",
    "\n",
    "Grid search may be applied not only to numerical parameters. \n",
    "\n",
    "We can find the best optimizer using it."
   ]
  },
  {
   "cell_type": "code",
   "execution_count": 23,
   "metadata": {},
   "outputs": [],
   "source": [
    "def getModel1(dropout=0.1, neurons1=500, neurons2=250,optimizer=\"Adagrad\"):\n",
    "    np.random.seed(1)\n",
    "    model = Sequential()\n",
    "    model.add(Dense(neurons1, activation='relu', input_dim=num_features))\n",
    "    model.add(Dropout(dropout))\n",
    "    model.add(Dense(neurons2, activation='relu'))\n",
    "    model.add(Dropout(dropout))\n",
    "    model.add(Dense(num_classes, activation='softmax'))\n",
    "    model.compile(loss='categorical_crossentropy',\n",
    "                  optimizer=optimizer, metrics=['accuracy'])\n",
    "    return model\n",
    "\n",
    "\n",
    "optimizer = ['SGD', 'RMSprop', 'Adagrad', 'Adadelta', 'Adam', 'Adamax', 'Nadam']\n",
    "# create model\n",
    "model = KerasClassifier(build_fn=getModel1, dropout=0.3, neurons1=300,\n",
    "                        epochs=20, batch_size=512, verbose=0)\n",
    "# define the grid search parameters\n",
    "\n",
    "grid = GridSearchCV(estimator=model, param_grid=dict(optimizer=optimizer),\n",
    "                    scoring=\"neg_log_loss\",n_jobs=1)\n"
   ]
  },
  {
   "cell_type": "code",
   "execution_count": 24,
   "metadata": {
    "scrolled": true
   },
   "outputs": [
    {
     "name": "stderr",
     "output_type": "stream",
     "text": [
      "/home/yuri/anaconda3/envs/tfspecial/lib/python3.7/site-packages/sklearn/model_selection/_split.py:1978: FutureWarning: The default value of cv will change from 3 to 5 in version 0.22. Specify it explicitly to silence this warning.\n",
      "  warnings.warn(CV_WARNING, FutureWarning)\n"
     ]
    },
    {
     "name": "stdout",
     "output_type": "stream",
     "text": [
      "Best: 0.511791 using {'optimizer': 'Adam'}\n",
      "0.746069 (0.002899) with: {'optimizer': 'SGD'}\n",
      "0.515951 (0.003090) with: {'optimizer': 'RMSprop'}\n",
      "0.521008 (0.002222) with: {'optimizer': 'Adagrad'}\n",
      "0.519182 (0.001439) with: {'optimizer': 'Adadelta'}\n",
      "0.511791 (0.003018) with: {'optimizer': 'Adam'}\n",
      "0.517968 (0.001172) with: {'optimizer': 'Adamax'}\n",
      "0.524609 (0.003715) with: {'optimizer': 'Nadam'}\n"
     ]
    }
   ],
   "source": [
    "grid_result = grid.fit(X, y)\n",
    "# summarize results\n",
    "print(\"Best: %f using %s\" % (-grid_result.best_score_, grid_result.best_params_))\n",
    "means = grid_result.cv_results_['mean_test_score']\n",
    "stds = grid_result.cv_results_['std_test_score']\n",
    "params = grid_result.cv_results_['params']\n",
    "for mean, stdev, param in zip(means, stds, params):\n",
    "    print(\"%f (%f) with: %r\" % (-mean, stdev, param))"
   ]
  }
 ],
 "metadata": {
  "anaconda-cloud": {},
  "kernelspec": {
   "display_name": "Python 3 (ipykernel)",
   "language": "python",
   "name": "python3"
  },
  "language_info": {
   "codemirror_mode": {
    "name": "ipython",
    "version": 3
   },
   "file_extension": ".py",
   "mimetype": "text/x-python",
   "name": "python",
   "nbconvert_exporter": "python",
   "pygments_lexer": "ipython3",
   "version": "3.9.6"
  },
  "toc": {
   "base_numbering": 1,
   "nav_menu": {},
   "number_sections": true,
   "sideBar": true,
   "skip_h1_title": false,
   "title_cell": "Table of Contents",
   "title_sidebar": "Contents",
   "toc_cell": false,
   "toc_position": {},
   "toc_section_display": true,
   "toc_window_display": false
  }
 },
 "nbformat": 4,
 "nbformat_minor": 1
}
