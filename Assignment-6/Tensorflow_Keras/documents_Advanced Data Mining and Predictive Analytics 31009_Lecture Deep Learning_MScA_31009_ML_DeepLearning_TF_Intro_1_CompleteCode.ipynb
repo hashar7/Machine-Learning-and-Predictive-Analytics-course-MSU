{
 "cells": [
  {
   "cell_type": "markdown",
   "metadata": {},
   "source": [
    "# Machine Learning (MScA 32009)\n",
    "\n",
    "# Introduction to TensorFlow: Part 1\n",
    "\n",
    "## Yuri Balasanov, Mihail Tselishchev, &copy; iLykei 2018\n",
    "\n",
    "##### Main text: Hands-On Machine Learning with Scikit-Learn and TensorFlow, Aurelien Geron, &copy; Aurelien Geron 2017, O'Reilly Media, Inc\n",
    "\n",
    "# General Introduction\n",
    "\n",
    "- TensorFlow was initially developed by Google Brain team for Google internal large-scale projects like Google Cloud Speech, Google Photos, Google Search, etc. <br>\n",
    "- TensorFlow was designed particularly to train efficiently complex neural networks.\n",
    "- In November 2015 Google made TensorFlow an open source product. By that time there were multiple libraries for neural networks available. Those libraries contained most of the features of TensorFlow. But the quality of the product, its clean design, scalability and flexibility together with well developed documentation quickly gained leadership among all similar products.\n",
    "\n",
    "Attractive features of TensorFlow:\n",
    "\n",
    "- Runs not only on Windows, Linux, macOS, but also on mobile devices with Android and iOS;\n",
    "- Provides simple API TF.Learn (tensorflow.contrib.learn) compatible with Scikit-Learn. This previously had been an independent project Scikit Flow. TF.Learn allows training neural networks with minimum amount of code;\n",
    "- Another API called TF-slim (tensorflow.contrib.slim) simplifies designing and evaluating neural networks;\n",
    "- Several independently built on top of TensorFlow high-level APIs (among them Keras) made it one of the most popular open source projects on GitHub;\n",
    "- TensorFlow is based on very efficient C++ library containing many popular Machine Learning methods;\n",
    "- TensorFlow has Python as main API which combines high flexibility with computational efficiency;\n",
    "- TensorFlow has very advanced gradient optimization methods based on automatic differentiation (autodiff);\n",
    "- Google provided a very nice cloud service to run TensorFlow graphs\n",
    "\n",
    "\n",
    "Main principle of TensorFlow: \n",
    "\n",
    "1. Define in Python a graph of computations (construction phase); \n",
    "2. Ask TensorFlow to run efficient calculation with this graph using optimized C++ software (execution phase). Calculations with the graph are parallelized between multiple CPUs, GPUs or TPUs."
   ]
  },
  {
   "cell_type": "code",
   "execution_count": 1,
   "metadata": {},
   "outputs": [
    {
     "name": "stdout",
     "output_type": "stream",
     "text": [
      "(3, 2, 0)\n",
      "Tensor(\"Const:0\", shape=(3, 2, 0), dtype=float32)\n"
     ]
    }
   ],
   "source": [
    "import tensorflow as tf\n",
    "t = tf.constant([[[],[]],[[],[]],[[],[]]])\n",
    "print(t.shape)\n",
    "print(t)"
   ]
  },
  {
   "cell_type": "code",
   "execution_count": 2,
   "metadata": {
    "collapsed": true
   },
   "outputs": [],
   "source": [
    "tf.reset_default_graph()"
   ]
  },
  {
   "cell_type": "markdown",
   "metadata": {},
   "source": [
    "# Main components and visualization of graphs\n",
    "\n",
    "### First node\n",
    "\n",
    "Create a simple TensorFlow constant"
   ]
  },
  {
   "cell_type": "code",
   "execution_count": 3,
   "metadata": {},
   "outputs": [
    {
     "data": {
      "text/plain": [
       "<tf.Tensor 'Const:0' shape=() dtype=string>"
      ]
     },
     "execution_count": 3,
     "metadata": {},
     "output_type": "execute_result"
    }
   ],
   "source": [
    "s = tf.constant('Hello, World')\n",
    "s"
   ]
  },
  {
   "cell_type": "markdown",
   "metadata": {},
   "source": [
    "Note that 's' is not a string as it would be in pure python. <br>\n",
    "Here 's' is a node in TensorFlow graph! <br>\n",
    "Node is the main building block of the graph defining an operation.\n",
    "\n",
    "The new node was added to the default graph.\n",
    "To explore this graph, first find graph's [**operations**](https://www.tensorflow.org/api_docs/java/reference/org/tensorflow/Operation), i.e. nodes in graph that take zero or more tensors (produced by other operations in the graph) as input, and produce zero or more tensors as output.\n",
    "\n",
    "Operation instances are valid only as long as the graph they are a part of is valid. Thus, if *close()* has been invoked, then methods on the operation instance may fail with an *IllegalStateException*.\n",
    "\n",
    "Operation instances are immutable and thread-safe.  "
   ]
  },
  {
   "cell_type": "code",
   "execution_count": 4,
   "metadata": {},
   "outputs": [
    {
     "name": "stdout",
     "output_type": "stream",
     "text": [
      "<tensorflow.python.framework.ops.Graph object at 0x7fb9bd8e2f28>\n"
     ]
    },
    {
     "data": {
      "text/plain": [
       "[<tf.Operation 'Const' type=Const>]"
      ]
     },
     "execution_count": 4,
     "metadata": {},
     "output_type": "execute_result"
    }
   ],
   "source": [
    "graph = tf.get_default_graph()\n",
    "print(graph)\n",
    "graph.get_operations()"
   ]
  },
  {
   "cell_type": "markdown",
   "metadata": {},
   "source": [
    "Method *'get_operations'* shows all operations of the graph. \n",
    "To show the representation of an operation use *'node_def'*."
   ]
  },
  {
   "cell_type": "code",
   "execution_count": 5,
   "metadata": {},
   "outputs": [
    {
     "data": {
      "text/plain": [
       "name: \"Const\"\n",
       "op: \"Const\"\n",
       "attr {\n",
       "  key: \"dtype\"\n",
       "  value {\n",
       "    type: DT_STRING\n",
       "  }\n",
       "}\n",
       "attr {\n",
       "  key: \"value\"\n",
       "  value {\n",
       "    tensor {\n",
       "      dtype: DT_STRING\n",
       "      tensor_shape {\n",
       "      }\n",
       "      string_val: \"Hello, World\"\n",
       "    }\n",
       "  }\n",
       "}"
      ]
     },
     "execution_count": 5,
     "metadata": {},
     "output_type": "execute_result"
    }
   ],
   "source": [
    "graph.get_operations()[0].node_def"
   ]
  },
  {
   "cell_type": "markdown",
   "metadata": {},
   "source": [
    "In order to evaluate all the computations we need to create TensorFlow session object:"
   ]
  },
  {
   "cell_type": "code",
   "execution_count": 6,
   "metadata": {},
   "outputs": [
    {
     "name": "stdout",
     "output_type": "stream",
     "text": [
      "b'Hello, World'\n"
     ]
    }
   ],
   "source": [
    "sess = tf.InteractiveSession()  # Create a session\n",
    "msg = sess.run(s)  # Make computations\n",
    "sess.close() # Don't forget to close the session!\n",
    "print(msg)"
   ]
  },
  {
   "cell_type": "markdown",
   "metadata": {},
   "source": [
    "Reset the default graph before doing another series of calculations."
   ]
  },
  {
   "cell_type": "code",
   "execution_count": 7,
   "metadata": {
    "collapsed": true
   },
   "outputs": [],
   "source": [
    "tf.reset_default_graph()"
   ]
  },
  {
   "cell_type": "markdown",
   "metadata": {},
   "source": [
    "### Working with variables: construction phase\n",
    "\n",
    "Workflow on any graph starts with definition of variables and constants.\n",
    "\n",
    "Create variable $a=1.0$ and a constant $c=2.0$. <br>\n",
    "Then change variable $a$ to \n",
    "$$a=a+c$$ \n",
    "and define new variable $b$ by simple formula\n",
    "$$b=a*c$$"
   ]
  },
  {
   "cell_type": "code",
   "execution_count": 8,
   "metadata": {
    "collapsed": true
   },
   "outputs": [],
   "source": [
    "a = tf.Variable(1.0, name='a')  # create variable node in the graph with init value of 1.0\n",
    "c = tf.constant(2.0)            # create constant value 2.0\n",
    "a = a + c  # a := a+c\n",
    "b = tf.multiply(a, c, 'output')  # b := a*c"
   ]
  },
  {
   "cell_type": "markdown",
   "metadata": {},
   "source": [
    "Set name for the new default graph and find its operations."
   ]
  },
  {
   "cell_type": "code",
   "execution_count": 9,
   "metadata": {},
   "outputs": [
    {
     "data": {
      "text/plain": [
       "[<tf.Operation 'a/initial_value' type=Const>,\n",
       " <tf.Operation 'a' type=VariableV2>,\n",
       " <tf.Operation 'a/Assign' type=Assign>,\n",
       " <tf.Operation 'a/read' type=Identity>,\n",
       " <tf.Operation 'Const' type=Const>,\n",
       " <tf.Operation 'add' type=Add>,\n",
       " <tf.Operation 'output' type=Mul>]"
      ]
     },
     "execution_count": 9,
     "metadata": {},
     "output_type": "execute_result"
    }
   ],
   "source": [
    "graph = tf.get_default_graph()\n",
    "graph.get_operations()"
   ]
  },
  {
   "cell_type": "markdown",
   "metadata": {},
   "source": [
    "This graph has more operations. <br>\n",
    "We see that $a$ first took type \"Const\", then type \"VariableV2\", then it was assigned and read. <br>\n",
    "Constant $c$ took type \"Const\". <br>\n",
    "Then there is addition followed by multiplication.\n",
    "\n",
    "Explore operation of reading variable $a$: input is $a$ and operation is \"read\"."
   ]
  },
  {
   "cell_type": "code",
   "execution_count": 10,
   "metadata": {},
   "outputs": [
    {
     "data": {
      "text/plain": [
       "name: \"a/read\"\n",
       "op: \"Identity\"\n",
       "input: \"a\"\n",
       "attr {\n",
       "  key: \"T\"\n",
       "  value {\n",
       "    type: DT_FLOAT\n",
       "  }\n",
       "}\n",
       "attr {\n",
       "  key: \"_class\"\n",
       "  value {\n",
       "    list {\n",
       "      s: \"loc:@a\"\n",
       "    }\n",
       "  }\n",
       "}"
      ]
     },
     "execution_count": 10,
     "metadata": {},
     "output_type": "execute_result"
    }
   ],
   "source": [
    "# view variable init value node\n",
    "graph.get_operations()[3].node_def"
   ]
  },
  {
   "cell_type": "markdown",
   "metadata": {},
   "source": [
    "Operation of addition $a+c$ has 2 inputs: $a$ coming from \"read\" and constant $c$ "
   ]
  },
  {
   "cell_type": "code",
   "execution_count": 11,
   "metadata": {},
   "outputs": [
    {
     "data": {
      "text/plain": [
       "name: \"add\"\n",
       "op: \"Add\"\n",
       "input: \"a/read\"\n",
       "input: \"Const\"\n",
       "attr {\n",
       "  key: \"T\"\n",
       "  value {\n",
       "    type: DT_FLOAT\n",
       "  }\n",
       "}"
      ]
     },
     "execution_count": 11,
     "metadata": {},
     "output_type": "execute_result"
    }
   ],
   "source": [
    "graph.get_operations()[5].node_def"
   ]
  },
  {
   "cell_type": "markdown",
   "metadata": {},
   "source": [
    "It is important to note that no calculations are executed until now. Not even assignment of values. <br>\n",
    "**Only graph creation**. <br>\n",
    "This is construction phase. <br>\n",
    "\n",
    "It is possible to see the graph that was just created. <br>\n",
    "For that add $a,b,c$ to the log."
   ]
  },
  {
   "cell_type": "code",
   "execution_count": 12,
   "metadata": {},
   "outputs": [
    {
     "data": {
      "text/plain": [
       "<tf.Tensor 'b:0' shape=() dtype=string>"
      ]
     },
     "execution_count": 12,
     "metadata": {},
     "output_type": "execute_result"
    }
   ],
   "source": [
    "tf.summary.scalar(\"a\",a)\n",
    "tf.summary.scalar(\"c\",c)\n",
    "tf.summary.scalar(\"b\",b)"
   ]
  },
  {
   "cell_type": "markdown",
   "metadata": {},
   "source": [
    "Then write the log to a folder. Use unique folder name with time stamp."
   ]
  },
  {
   "cell_type": "code",
   "execution_count": 13,
   "metadata": {},
   "outputs": [
    {
     "name": "stdout",
     "output_type": "stream",
     "text": [
      "tf_logs/run-20180826_185541/\n"
     ]
    }
   ],
   "source": [
    "from datetime import datetime\n",
    "now = datetime.utcnow().strftime(\"%Y%m%d_%H%M%S\")\n",
    "root_logdir = \"tf_logs\"\n",
    "logdir = \"{}/run-{}/\".format(root_logdir, now)  # path to TensorBoard logs\n",
    "print(logdir)\n",
    "file_writer = tf.summary.FileWriter(logdir, tf.get_default_graph())"
   ]
  },
  {
   "cell_type": "markdown",
   "metadata": {},
   "source": [
    "Now it is time to call TensorBoard, a very convenient tool for visualization. <br>\n",
    "From terminal window or from the notebook execute\n",
    "\n",
    "`tensorboard --logdir tf_logs/run-20171106_064428/`\n",
    "\n",
    "Note that the path should be replaced with the path to your log file. <br>\n",
    "\n",
    "After this opening page `http://localhost:6006` opens the graph visualization. <br>\n",
    "Check each step on the graph and match it with the steps of the code.\n",
    "\n",
    "It is recommended to close TensorBoard after working with visualization by `\"CTRL+C\"` in terminal window or by shutting down kernel of the Jupyter notebook. <br>"
   ]
  },
  {
   "cell_type": "markdown",
   "metadata": {},
   "source": [
    "### Working with variables: execution phase\n",
    "\n",
    "After graph is ready it can be executed. <br>\n",
    "This requires opening TensorFlow session. <br>\n",
    "TensorFlow session does placement of computations onto CPUs or GPUs and runs them."
   ]
  },
  {
   "cell_type": "code",
   "execution_count": 14,
   "metadata": {},
   "outputs": [
    {
     "name": "stdout",
     "output_type": "stream",
     "text": [
      "3.0\n",
      "6.0\n"
     ]
    }
   ],
   "source": [
    "with tf.Session() as sess:\n",
    "    sess.run(tf.global_variables_initializer())   #initialize 'a', 'c' only now\n",
    "    print(a.eval())                               #evaluate final 'a' and 'b' only now\n",
    "    print(b.eval())"
   ]
  },
  {
   "cell_type": "markdown",
   "metadata": {},
   "source": [
    "Working with session as shown above is convenient because inside the \"with\" block default TensorFlow session is set. This makes the code more readable. <br>\n",
    "We also do not need to remember turning the session off at the end. <br>\n",
    "\n",
    "However, it may be more convenient using an alternative handling of TensorFlow session if the code is in a Jupyter notebook. <br>\n",
    "\n",
    "Using `sess = tf.InteractiveSession()` as below allows spreading the code through more than one cell."
   ]
  },
  {
   "cell_type": "code",
   "execution_count": 15,
   "metadata": {},
   "outputs": [
    {
     "name": "stdout",
     "output_type": "stream",
     "text": [
      "[3.0, 6.0]\n"
     ]
    }
   ],
   "source": [
    "sess = tf.InteractiveSession()\n",
    "sess.run(tf.global_variables_initializer()) # initialize all variables\n",
    "print(sess.run([a,b]))"
   ]
  },
  {
   "cell_type": "markdown",
   "metadata": {},
   "source": [
    "Continue the session in the next cell and close it:"
   ]
  },
  {
   "cell_type": "code",
   "execution_count": 16,
   "metadata": {},
   "outputs": [
    {
     "name": "stdout",
     "output_type": "stream",
     "text": [
      "[3.0, 6.0]\n"
     ]
    }
   ],
   "source": [
    "print(sess.run([a,b]))\n",
    "sess.close()"
   ]
  },
  {
   "cell_type": "code",
   "execution_count": 17,
   "metadata": {
    "collapsed": true
   },
   "outputs": [],
   "source": [
    "tf.reset_default_graph()"
   ]
  },
  {
   "cell_type": "markdown",
   "metadata": {},
   "source": [
    "### Tensor variables"
   ]
  },
  {
   "cell_type": "code",
   "execution_count": 18,
   "metadata": {
    "collapsed": true
   },
   "outputs": [],
   "source": [
    "sess = tf.InteractiveSession()"
   ]
  },
  {
   "cell_type": "markdown",
   "metadata": {},
   "source": [
    "Create a simple tensor (array)."
   ]
  },
  {
   "cell_type": "code",
   "execution_count": 19,
   "metadata": {},
   "outputs": [
    {
     "name": "stdout",
     "output_type": "stream",
     "text": [
      "Tensor(\"strided_slice:0\", shape=(2,), dtype=float32)\n",
      "Tensor(\"strided_slice_1:0\", shape=(2,), dtype=float32)\n"
     ]
    },
    {
     "data": {
      "text/plain": [
       "TensorShape([Dimension(2), Dimension(2)])"
      ]
     },
     "execution_count": 19,
     "metadata": {},
     "output_type": "execute_result"
    }
   ],
   "source": [
    "t1 = tf.zeros([2,2])\n",
    "print(t1[0])\n",
    "print(t1[1])\n",
    "t1.shape"
   ]
  },
  {
   "cell_type": "markdown",
   "metadata": {},
   "source": [
    "Evaluate the tensor (synonim for sess.run(t1))"
   ]
  },
  {
   "cell_type": "code",
   "execution_count": 20,
   "metadata": {},
   "outputs": [
    {
     "data": {
      "text/plain": [
       "array([[ 0.,  0.],\n",
       "       [ 0.,  0.]], dtype=float32)"
      ]
     },
     "execution_count": 20,
     "metadata": {},
     "output_type": "execute_result"
    }
   ],
   "source": [
    "t1.eval(session=sess)"
   ]
  },
  {
   "cell_type": "markdown",
   "metadata": {},
   "source": [
    "Create tensor *'t2'* filled with values 3.14."
   ]
  },
  {
   "cell_type": "code",
   "execution_count": 21,
   "metadata": {},
   "outputs": [
    {
     "data": {
      "text/plain": [
       "array([[ 3.1400001,  3.1400001],\n",
       "       [ 3.1400001,  3.1400001]], dtype=float32)"
      ]
     },
     "execution_count": 21,
     "metadata": {},
     "output_type": "execute_result"
    }
   ],
   "source": [
    "t2 = tf.fill(dims=[2,2], value=3.14, name='t1')\n",
    "t2.eval(session=sess)"
   ]
  },
  {
   "cell_type": "markdown",
   "metadata": {},
   "source": [
    "Now add the variables *'t1'* and *'t2'*."
   ]
  },
  {
   "cell_type": "code",
   "execution_count": 22,
   "metadata": {},
   "outputs": [
    {
     "data": {
      "text/plain": [
       "array([[ 3.1400001,  3.1400001],\n",
       "       [ 3.1400001,  3.1400001]], dtype=float32)"
      ]
     },
     "execution_count": 22,
     "metadata": {},
     "output_type": "execute_result"
    }
   ],
   "source": [
    "sess.run(t1+t2)"
   ]
  },
  {
   "cell_type": "markdown",
   "metadata": {},
   "source": [
    "Create a variable with initial value of matrix *'t2'*. <br>\n",
    "Initiate this variable and square it. <br>\n",
    "\n",
    "Function *'matmul()'* below is for matrix multiplication."
   ]
  },
  {
   "cell_type": "code",
   "execution_count": 23,
   "metadata": {},
   "outputs": [
    {
     "data": {
      "text/plain": [
       "array([[ 19.71920204,  19.71920204],\n",
       "       [ 19.71920204,  19.71920204]], dtype=float32)"
      ]
     },
     "execution_count": 23,
     "metadata": {},
     "output_type": "execute_result"
    }
   ],
   "source": [
    "# Create a variable with init value of t2\n",
    "t_var = tf.Variable(t2, name = 't_var')\n",
    "sess.run(tf.variables_initializer([t_var])) # initialize variable\n",
    "t_var = tf.matmul(t_var, t_var)\n",
    "sess.run(t_var)"
   ]
  },
  {
   "cell_type": "code",
   "execution_count": 24,
   "metadata": {
    "collapsed": true
   },
   "outputs": [],
   "source": [
    "sess.close()\n",
    "tf.reset_default_graph()"
   ]
  },
  {
   "cell_type": "markdown",
   "metadata": {},
   "source": [
    "### Placeholders logic\n",
    "\n",
    "Placeholders are variables that are assigned values at a later time. <br>\n",
    "Placeholders allow creating operations and build computation graphs, before the data are specified. <br>\n",
    "In TensorFlow terminology, data then fed into the graph through these placeholders."
   ]
  },
  {
   "cell_type": "code",
   "execution_count": 26,
   "metadata": {},
   "outputs": [
    {
     "name": "stdout",
     "output_type": "stream",
     "text": [
      "[ 3.  3.  3.]\n"
     ]
    }
   ],
   "source": [
    "sess = tf.InteractiveSession()\n",
    "x = tf.placeholder(tf.float32, shape=(3, ))\n",
    "y = tf.placeholder(tf.float32, shape=(3, ))\n",
    "z = tf.add(x,y)\n",
    "print(sess.run(z, feed_dict={x:[1,1,1],y:[2,2,2]}))  # here we assign explicit values for x and y nodes\n",
    "sess.close()\n",
    "tf.reset_default_graph()"
   ]
  },
  {
   "cell_type": "markdown",
   "metadata": {},
   "source": [
    "## Exercise\n",
    "\n",
    "Create a function $f(x,y) = x^2y+y+2$, where values of $x,~y$ can be $x=3;~y=4$."
   ]
  },
  {
   "cell_type": "code",
   "execution_count": 27,
   "metadata": {
    "collapsed": true
   },
   "outputs": [],
   "source": [
    "# Define variables x, y and f\n",
    "x = tf.Variable(3,name=\"x\")\n",
    "y = tf.Variable(4, name=\"y\")\n",
    "f = x*x*y+y+2"
   ]
  },
  {
   "cell_type": "markdown",
   "metadata": {},
   "source": [
    "Check the resulting graph."
   ]
  },
  {
   "cell_type": "code",
   "execution_count": 28,
   "metadata": {
    "scrolled": true
   },
   "outputs": [
    {
     "data": {
      "text/plain": [
       "[<tf.Operation 'x/initial_value' type=Const>,\n",
       " <tf.Operation 'x' type=VariableV2>,\n",
       " <tf.Operation 'x/Assign' type=Assign>,\n",
       " <tf.Operation 'x/read' type=Identity>,\n",
       " <tf.Operation 'y/initial_value' type=Const>,\n",
       " <tf.Operation 'y' type=VariableV2>,\n",
       " <tf.Operation 'y/Assign' type=Assign>,\n",
       " <tf.Operation 'y/read' type=Identity>,\n",
       " <tf.Operation 'mul' type=Mul>,\n",
       " <tf.Operation 'mul_1' type=Mul>,\n",
       " <tf.Operation 'add' type=Add>,\n",
       " <tf.Operation 'add_1/y' type=Const>,\n",
       " <tf.Operation 'add_1' type=Add>]"
      ]
     },
     "execution_count": 28,
     "metadata": {},
     "output_type": "execute_result"
    }
   ],
   "source": [
    "# get_default_graph(), get_operations()\n",
    "graph = tf.get_default_graph()\n",
    "graph.get_operations()"
   ]
  },
  {
   "cell_type": "markdown",
   "metadata": {},
   "source": [
    "Create log and visualize the graph through tensorboard."
   ]
  },
  {
   "cell_type": "code",
   "execution_count": 29,
   "metadata": {},
   "outputs": [
    {
     "name": "stdout",
     "output_type": "stream",
     "text": [
      "tf_logs/run-20180826_185629/\n"
     ]
    }
   ],
   "source": [
    "tf.summary.scalar(\"x\",x)\n",
    "tf.summary.scalar(\"y\",y)\n",
    "tf.summary.scalar(\"f\",f)\n",
    "from datetime import datetime\n",
    "now = datetime.utcnow().strftime(\"%Y%m%d_%H%M%S\")\n",
    "root_logdir = \"tf_logs\"\n",
    "logdir = \"{}/run-{}/\".format(root_logdir, now)  # path to TensorBoard logs\n",
    "print(logdir)\n",
    "file_writer = tf.summary.FileWriter(logdir, tf.get_default_graph())"
   ]
  },
  {
   "cell_type": "markdown",
   "metadata": {
    "collapsed": true
   },
   "source": [
    "Explore the graph with *tensorboard*."
   ]
  },
  {
   "cell_type": "code",
   "execution_count": 30,
   "metadata": {
    "collapsed": true
   },
   "outputs": [],
   "source": [
    "tf.reset_default_graph()"
   ]
  }
 ],
 "metadata": {
  "kernelspec": {
   "display_name": "Python 3 (ipykernel)",
   "language": "python",
   "name": "python3"
  },
  "language_info": {
   "codemirror_mode": {
    "name": "ipython",
    "version": 3
   },
   "file_extension": ".py",
   "mimetype": "text/x-python",
   "name": "python",
   "nbconvert_exporter": "python",
   "pygments_lexer": "ipython3",
   "version": "3.9.6"
  },
  "toc": {
   "base_numbering": 1,
   "nav_menu": {},
   "number_sections": true,
   "sideBar": true,
   "skip_h1_title": false,
   "title_cell": "Table of Contents",
   "title_sidebar": "Contents",
   "toc_cell": false,
   "toc_position": {},
   "toc_section_display": true,
   "toc_window_display": false
  }
 },
 "nbformat": 4,
 "nbformat_minor": 2
}
