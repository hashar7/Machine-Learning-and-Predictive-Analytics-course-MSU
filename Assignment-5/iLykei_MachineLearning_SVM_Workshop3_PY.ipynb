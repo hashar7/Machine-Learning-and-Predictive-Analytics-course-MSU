{
 "cells": [
  {
   "cell_type": "markdown",
   "metadata": {},
   "source": [
    "# iLykei Lecture Series \n",
    "\n",
    "# Machine Learning\n",
    "\n",
    "# Support Vector Machines\n",
    "\n",
    "# Workshop 3\n",
    "\n",
    "## Y.Balasanov, L.Nazarov &copy; iLykei 2017-2022"
   ]
  },
  {
   "cell_type": "markdown",
   "metadata": {
    "attributes": {
     "classes": [],
     "id": "",
     "r,echo": "F"
    }
   },
   "source": [
    "This is Python version of Week 8 Workshop 3. Below is the list of packages used in the workshop."
   ]
  },
  {
   "cell_type": "code",
   "execution_count": 1,
   "metadata": {
    "attributes": {
     "classes": [],
     "id": "",
     "include": "FALSE"
    }
   },
   "outputs": [],
   "source": [
    "%matplotlib inline\n",
    "import numpy as np\n",
    "import pandas as pd\n",
    "from numpy.random import seed #normal,random,binomial,,choice\n",
    "import matplotlib.pyplot as plt\n",
    "plt.style.use('ggplot')\n",
    "from sklearn.svm import SVC #, SVR, LinearSVC, LinearSVR\n",
    "from sklearn.preprocessing import StandardScaler #LabelEncoder, \n",
    "from sklearn.model_selection import cross_val_score,GridSearchCV,train_test_split\n",
    "from lightgbm import LGBMClassifier\n",
    "from sklearn.metrics import confusion_matrix, roc_auc_score, roc_curve \n",
    "from sklearn.metrics import accuracy_score, cohen_kappa_score\n",
    "import string"
   ]
  },
  {
   "cell_type": "markdown",
   "metadata": {},
   "source": [
    "# Spam data    \n",
    "\n",
    "Spam data were collected by Hewlett-Packard Labs. The set contains 4601 emails of types \"spam\", \"non-spam\".   \n",
    "Besides the type in the file there are 57 predictors indicating frequencies of words and characters from vocabulary.    \n",
    "Help file explains the column meanings:    \n",
    "\n",
    "The first 48 variables contain the frequency of the variable name (e.g., business) in the e-mail. If the variable name starts with num (e.g., num650) it indicates the frequency of the corresponding number (e.g., 650). The variables 49-54 indicate the frequency of the characters ‘;’, ‘(’, ‘[’, ‘!’, ‘\\$’, and ‘\\#’. The variables 55-57 contain the average, longest and total run-length of capital letters.    \n",
    "\n",
    "Data are available through (UCI Machine Learning Repository)[https://archive.ics.uci.edu/ml/datasets/spambase]."
   ]
  },
  {
   "cell_type": "code",
   "execution_count": 2,
   "metadata": {},
   "outputs": [
    {
     "name": "stdout",
     "output_type": "stream",
     "text": [
      "['make', 'address', 'all', '3d', 'our', 'over', 'remove', 'internet', 'order', 'mail', 'receive', 'will', 'people', 'report', 'addresses', 'free', 'business', 'email', 'you', 'credit', 'your', 'font', '000', 'money', 'hp', 'hpl', 'george', '650', 'lab', 'labs', 'telnet', '857', 'data', '415', '85', 'technology', '1999', 'parts', 'pm', 'direct', 'cs', 'meeting', 'original', 'project', 're', 'edu', 'table', 'conference', 'char_freq_;', 'char_freq_(', 'char_freq_[', 'char_freq_!', 'char_freq_$', 'char_freq_#', 'capital_run_length_average', 'capital_run_length_longest', 'capital_run_length_total', 'type']\n"
     ]
    },
    {
     "data": {
      "text/html": [
       "<div>\n",
       "<style scoped>\n",
       "    .dataframe tbody tr th:only-of-type {\n",
       "        vertical-align: middle;\n",
       "    }\n",
       "\n",
       "    .dataframe tbody tr th {\n",
       "        vertical-align: top;\n",
       "    }\n",
       "\n",
       "    .dataframe thead th {\n",
       "        text-align: right;\n",
       "    }\n",
       "</style>\n",
       "<table border=\"1\" class=\"dataframe\">\n",
       "  <thead>\n",
       "    <tr style=\"text-align: right;\">\n",
       "      <th></th>\n",
       "      <th>make</th>\n",
       "      <th>address</th>\n",
       "      <th>all</th>\n",
       "      <th>3d</th>\n",
       "      <th>our</th>\n",
       "      <th>over</th>\n",
       "      <th>remove</th>\n",
       "      <th>internet</th>\n",
       "      <th>order</th>\n",
       "      <th>mail</th>\n",
       "      <th>...</th>\n",
       "      <th>char_freq_;</th>\n",
       "      <th>char_freq_(</th>\n",
       "      <th>char_freq_[</th>\n",
       "      <th>char_freq_!</th>\n",
       "      <th>char_freq_$</th>\n",
       "      <th>char_freq_#</th>\n",
       "      <th>capital_run_length_average</th>\n",
       "      <th>capital_run_length_longest</th>\n",
       "      <th>capital_run_length_total</th>\n",
       "      <th>type</th>\n",
       "    </tr>\n",
       "  </thead>\n",
       "  <tbody>\n",
       "    <tr>\n",
       "      <th>0</th>\n",
       "      <td>0.00</td>\n",
       "      <td>0.64</td>\n",
       "      <td>0.64</td>\n",
       "      <td>0.0</td>\n",
       "      <td>0.32</td>\n",
       "      <td>0.00</td>\n",
       "      <td>0.00</td>\n",
       "      <td>0.00</td>\n",
       "      <td>0.00</td>\n",
       "      <td>0.00</td>\n",
       "      <td>...</td>\n",
       "      <td>0.00</td>\n",
       "      <td>0.000</td>\n",
       "      <td>0.0</td>\n",
       "      <td>0.778</td>\n",
       "      <td>0.000</td>\n",
       "      <td>0.000</td>\n",
       "      <td>3.756</td>\n",
       "      <td>61</td>\n",
       "      <td>278</td>\n",
       "      <td>1</td>\n",
       "    </tr>\n",
       "    <tr>\n",
       "      <th>1</th>\n",
       "      <td>0.21</td>\n",
       "      <td>0.28</td>\n",
       "      <td>0.50</td>\n",
       "      <td>0.0</td>\n",
       "      <td>0.14</td>\n",
       "      <td>0.28</td>\n",
       "      <td>0.21</td>\n",
       "      <td>0.07</td>\n",
       "      <td>0.00</td>\n",
       "      <td>0.94</td>\n",
       "      <td>...</td>\n",
       "      <td>0.00</td>\n",
       "      <td>0.132</td>\n",
       "      <td>0.0</td>\n",
       "      <td>0.372</td>\n",
       "      <td>0.180</td>\n",
       "      <td>0.048</td>\n",
       "      <td>5.114</td>\n",
       "      <td>101</td>\n",
       "      <td>1028</td>\n",
       "      <td>1</td>\n",
       "    </tr>\n",
       "    <tr>\n",
       "      <th>2</th>\n",
       "      <td>0.06</td>\n",
       "      <td>0.00</td>\n",
       "      <td>0.71</td>\n",
       "      <td>0.0</td>\n",
       "      <td>1.23</td>\n",
       "      <td>0.19</td>\n",
       "      <td>0.19</td>\n",
       "      <td>0.12</td>\n",
       "      <td>0.64</td>\n",
       "      <td>0.25</td>\n",
       "      <td>...</td>\n",
       "      <td>0.01</td>\n",
       "      <td>0.143</td>\n",
       "      <td>0.0</td>\n",
       "      <td>0.276</td>\n",
       "      <td>0.184</td>\n",
       "      <td>0.010</td>\n",
       "      <td>9.821</td>\n",
       "      <td>485</td>\n",
       "      <td>2259</td>\n",
       "      <td>1</td>\n",
       "    </tr>\n",
       "    <tr>\n",
       "      <th>3</th>\n",
       "      <td>0.00</td>\n",
       "      <td>0.00</td>\n",
       "      <td>0.00</td>\n",
       "      <td>0.0</td>\n",
       "      <td>0.63</td>\n",
       "      <td>0.00</td>\n",
       "      <td>0.31</td>\n",
       "      <td>0.63</td>\n",
       "      <td>0.31</td>\n",
       "      <td>0.63</td>\n",
       "      <td>...</td>\n",
       "      <td>0.00</td>\n",
       "      <td>0.137</td>\n",
       "      <td>0.0</td>\n",
       "      <td>0.137</td>\n",
       "      <td>0.000</td>\n",
       "      <td>0.000</td>\n",
       "      <td>3.537</td>\n",
       "      <td>40</td>\n",
       "      <td>191</td>\n",
       "      <td>1</td>\n",
       "    </tr>\n",
       "    <tr>\n",
       "      <th>4</th>\n",
       "      <td>0.00</td>\n",
       "      <td>0.00</td>\n",
       "      <td>0.00</td>\n",
       "      <td>0.0</td>\n",
       "      <td>0.63</td>\n",
       "      <td>0.00</td>\n",
       "      <td>0.31</td>\n",
       "      <td>0.63</td>\n",
       "      <td>0.31</td>\n",
       "      <td>0.63</td>\n",
       "      <td>...</td>\n",
       "      <td>0.00</td>\n",
       "      <td>0.135</td>\n",
       "      <td>0.0</td>\n",
       "      <td>0.135</td>\n",
       "      <td>0.000</td>\n",
       "      <td>0.000</td>\n",
       "      <td>3.537</td>\n",
       "      <td>40</td>\n",
       "      <td>191</td>\n",
       "      <td>1</td>\n",
       "    </tr>\n",
       "  </tbody>\n",
       "</table>\n",
       "<p>5 rows × 58 columns</p>\n",
       "</div>"
      ],
      "text/plain": [
       "   make  address   all   3d   our  over  remove  internet  order  mail  ...  \\\n",
       "0  0.00     0.64  0.64  0.0  0.32  0.00    0.00      0.00   0.00  0.00  ...   \n",
       "1  0.21     0.28  0.50  0.0  0.14  0.28    0.21      0.07   0.00  0.94  ...   \n",
       "2  0.06     0.00  0.71  0.0  1.23  0.19    0.19      0.12   0.64  0.25  ...   \n",
       "3  0.00     0.00  0.00  0.0  0.63  0.00    0.31      0.63   0.31  0.63  ...   \n",
       "4  0.00     0.00  0.00  0.0  0.63  0.00    0.31      0.63   0.31  0.63  ...   \n",
       "\n",
       "   char_freq_;  char_freq_(  char_freq_[  char_freq_!  char_freq_$  \\\n",
       "0         0.00        0.000          0.0        0.778        0.000   \n",
       "1         0.00        0.132          0.0        0.372        0.180   \n",
       "2         0.01        0.143          0.0        0.276        0.184   \n",
       "3         0.00        0.137          0.0        0.137        0.000   \n",
       "4         0.00        0.135          0.0        0.135        0.000   \n",
       "\n",
       "   char_freq_#  capital_run_length_average  capital_run_length_longest  \\\n",
       "0        0.000                       3.756                          61   \n",
       "1        0.048                       5.114                         101   \n",
       "2        0.010                       9.821                         485   \n",
       "3        0.000                       3.537                          40   \n",
       "4        0.000                       3.537                          40   \n",
       "\n",
       "   capital_run_length_total  type  \n",
       "0                       278     1  \n",
       "1                      1028     1  \n",
       "2                      2259     1  \n",
       "3                       191     1  \n",
       "4                       191     1  \n",
       "\n",
       "[5 rows x 58 columns]"
      ]
     },
     "execution_count": 2,
     "metadata": {},
     "output_type": "execute_result"
    }
   ],
   "source": [
    "url = 'https://archive.ics.uci.edu/ml/machine-learning-databases/spambase/spambase.names'\n",
    "spam_names = pd.read_csv(url,sep=':',skiprows=32,header=None)[0]\n",
    "# shorten names\n",
    "spam_names = list(spam_names.str.replace('word_freq_','')) + ['type']\n",
    "url = 'https://archive.ics.uci.edu/ml/machine-learning-databases/spambase/spambase.data'\n",
    "spam = pd.read_csv(url,names=spam_names)\n",
    "print(list(spam))\n",
    "spam.head()"
   ]
  },
  {
   "cell_type": "markdown",
   "metadata": {},
   "source": [
    "Prepare train and test samples."
   ]
  },
  {
   "cell_type": "code",
   "execution_count": 3,
   "metadata": {},
   "outputs": [],
   "source": [
    "N = len(spam)\n",
    "X,y = spam.drop('type',axis=1),spam['type']\n",
    "spam_train,spam_test,y_train,y_test = train_test_split(spam, y, test_size =1/3, \n",
    "                                                       stratify=y,random_state=0)"
   ]
  },
  {
   "cell_type": "markdown",
   "metadata": {},
   "source": [
    "# Fitting SVM with default kernel    \n",
    "\n",
    "Tune SVM with radial kernel (default) like in workshop example with Galton's data.    \n",
    "Use grid for `gamma = [1e-06,1e-05,1e-04,1e-03]` and `C = [10,100]`.\n",
    "\n",
    "<span style=\"color:red\">(Skipped Code)</span>"
   ]
  },
  {
   "cell_type": "code",
   "execution_count": 4,
   "metadata": {
    "scrolled": true
   },
   "outputs": [
    {
     "name": "stdout",
     "output_type": "stream",
     "text": [
      "0.743333 with:  {'C': 10, 'gamma': 0.0010000000000000002}\n",
      "0.730000 with:  {'C': 10, 'gamma': 0.00010000000000000002}\n",
      "0.683333 with:  {'C': 10, 'gamma': 1.0000000000000003e-05}\n",
      "0.690000 with:  {'C': 10, 'gamma': 1.0000000000000004e-06}\n",
      "0.786667 with:  {'C': 100, 'gamma': 0.0010000000000000002}\n",
      "0.843333 with:  {'C': 100, 'gamma': 0.00010000000000000002}\n",
      "0.726667 with:  {'C': 100, 'gamma': 1.0000000000000003e-05}\n",
      "0.673333 with:  {'C': 100, 'gamma': 1.0000000000000004e-06}\n"
     ]
    }
   ],
   "source": [
    "# Parameters grid to search\n",
    "param_test = {'gamma':.1**np.arange(3,7), 'C': [10,100]}\n",
    "grid = GridSearchCV(estimator = SVC(), param_grid = param_test, \n",
    "                    n_jobs=-1,cv=10)\n",
    "grid.fit(spam_train[:300], y_train[:300])\n",
    "# summarize results\n",
    "for mean,param in zip(grid.cv_results_['mean_test_score'],grid.cv_results_['params']):\n",
    "    print(\"%f with: \" % mean,param)\n",
    "bestGamma = grid.best_params_['gamma']\n",
    "bestC = grid.best_params_['C']"
   ]
  },
  {
   "cell_type": "markdown",
   "metadata": {},
   "source": [
    "Fit model with best parameters."
   ]
  },
  {
   "cell_type": "code",
   "execution_count": 5,
   "metadata": {
    "scrolled": true
   },
   "outputs": [
    {
     "name": "stdout",
     "output_type": "stream",
     "text": [
      "[[909  21]\n",
      " [ 20 584]]\n",
      "accuracy 0.9732724902216427\n",
      "kappa 0.9440328324580028\n"
     ]
    }
   ],
   "source": [
    "clf = SVC(C=grid.best_params_['C'],gamma=grid.best_params_['gamma'])\n",
    "clf.fit(spam_train, y_train)\n",
    "pred = clf.predict(spam_test)\n",
    "print(confusion_matrix(y_test,pred))\n",
    "print('accuracy',accuracy_score(y_test,pred))\n",
    "print('kappa',cohen_kappa_score(y_test,pred))"
   ]
  },
  {
   "cell_type": "markdown",
   "metadata": {},
   "source": [
    "# Experimenting with kernels     \n",
    "\n",
    "Experiment with kernels. Try training and fitting model with linear, sigmoid, polynomial kernel of degree 2 and degree 3.   \n",
    "\n",
    "<span style=\"color:red\">(Skipped Code)</span>"
   ]
  },
  {
   "cell_type": "code",
   "execution_count": 6,
   "metadata": {},
   "outputs": [
    {
     "name": "stdout",
     "output_type": "stream",
     "text": [
      "1.000000 with:  {'C': 10, 'gamma': 0.0010000000000000002, 'kernel': 'linear'}\n",
      "0.350000 with:  {'C': 10, 'gamma': 0.0010000000000000002, 'kernel': 'sigmoid'}\n",
      "0.950000 with:  {'C': 10, 'gamma': 0.0010000000000000002, 'kernel': 'poly'}\n",
      "1.000000 with:  {'C': 10, 'gamma': 0.00010000000000000002, 'kernel': 'linear'}\n",
      "0.443333 with:  {'C': 10, 'gamma': 0.00010000000000000002, 'kernel': 'sigmoid'}\n",
      "0.833333 with:  {'C': 10, 'gamma': 0.00010000000000000002, 'kernel': 'poly'}\n",
      "1.000000 with:  {'C': 10, 'gamma': 1.0000000000000003e-05, 'kernel': 'linear'}\n",
      "0.590000 with:  {'C': 10, 'gamma': 1.0000000000000003e-05, 'kernel': 'sigmoid'}\n",
      "0.706667 with:  {'C': 10, 'gamma': 1.0000000000000003e-05, 'kernel': 'poly'}\n",
      "1.000000 with:  {'C': 10, 'gamma': 1.0000000000000004e-06, 'kernel': 'linear'}\n",
      "0.706667 with:  {'C': 10, 'gamma': 1.0000000000000004e-06, 'kernel': 'sigmoid'}\n",
      "0.683333 with:  {'C': 10, 'gamma': 1.0000000000000004e-06, 'kernel': 'poly'}\n",
      "1.000000 with:  {'C': 100, 'gamma': 0.0010000000000000002, 'kernel': 'linear'}\n",
      "0.350000 with:  {'C': 100, 'gamma': 0.0010000000000000002, 'kernel': 'sigmoid'}\n",
      "0.953333 with:  {'C': 100, 'gamma': 0.0010000000000000002, 'kernel': 'poly'}\n",
      "1.000000 with:  {'C': 100, 'gamma': 0.00010000000000000002, 'kernel': 'linear'}\n",
      "0.443333 with:  {'C': 100, 'gamma': 0.00010000000000000002, 'kernel': 'sigmoid'}\n",
      "0.896667 with:  {'C': 100, 'gamma': 0.00010000000000000002, 'kernel': 'poly'}\n",
      "1.000000 with:  {'C': 100, 'gamma': 1.0000000000000003e-05, 'kernel': 'linear'}\n",
      "0.586667 with:  {'C': 100, 'gamma': 1.0000000000000003e-05, 'kernel': 'sigmoid'}\n",
      "0.750000 with:  {'C': 100, 'gamma': 1.0000000000000003e-05, 'kernel': 'poly'}\n",
      "1.000000 with:  {'C': 100, 'gamma': 1.0000000000000004e-06, 'kernel': 'linear'}\n",
      "0.583333 with:  {'C': 100, 'gamma': 1.0000000000000004e-06, 'kernel': 'sigmoid'}\n",
      "0.690000 with:  {'C': 100, 'gamma': 1.0000000000000004e-06, 'kernel': 'poly'}\n",
      "best params {'C': 10, 'gamma': 0.0010000000000000002, 'kernel': 'linear'}\n"
     ]
    }
   ],
   "source": [
    "param_test = {'gamma':.1**np.arange(3,7), 'C': [10,100]}\n",
    "param_test['kernel'] = [\"linear\",\"sigmoid\",\"poly\"]\n",
    "# \"linear\",\"sigmoid\" and \"poly\" with degree = 3\n",
    "grid = GridSearchCV(estimator = SVC(), param_grid = param_test, \n",
    "                    n_jobs=-1,cv=10)\n",
    "grid.fit(spam_train[:300], y_train[:300])\n",
    "# summarize results\n",
    "for mean,param in zip(grid.cv_results_['mean_test_score'],grid.cv_results_['params']):\n",
    "    print(\"%f with: \" % mean,param)\n",
    "bestGamma = grid.best_params_['gamma']\n",
    "bestC = grid.best_params_['C']\n",
    "bestKernel = grid.best_params_['kernel']\n",
    "print('best params',grid.best_params_)"
   ]
  },
  {
   "cell_type": "markdown",
   "metadata": {},
   "source": [
    "Run separately search with \"poly\" and degree = 2"
   ]
  },
  {
   "cell_type": "code",
   "execution_count": 7,
   "metadata": {},
   "outputs": [
    {
     "name": "stdout",
     "output_type": "stream",
     "text": [
      "0.963333 with:  {'C': 10, 'gamma': 0.0010000000000000002, 'kernel': 'poly'}\n",
      "0.810000 with:  {'C': 10, 'gamma': 0.00010000000000000002, 'kernel': 'poly'}\n",
      "0.700000 with:  {'C': 10, 'gamma': 1.0000000000000003e-05, 'kernel': 'poly'}\n",
      "0.670000 with:  {'C': 10, 'gamma': 1.0000000000000004e-06, 'kernel': 'poly'}\n",
      "0.983333 with:  {'C': 100, 'gamma': 0.0010000000000000002, 'kernel': 'poly'}\n",
      "0.913333 with:  {'C': 100, 'gamma': 0.00010000000000000002, 'kernel': 'poly'}\n",
      "0.763333 with:  {'C': 100, 'gamma': 1.0000000000000003e-05, 'kernel': 'poly'}\n",
      "0.693333 with:  {'C': 100, 'gamma': 1.0000000000000004e-06, 'kernel': 'poly'}\n",
      "best params {'C': 100, 'gamma': 0.0010000000000000002, 'kernel': 'poly'}\n"
     ]
    }
   ],
   "source": [
    "param_test['kernel'] = [\"poly\"]\n",
    "grid = GridSearchCV(estimator = SVC(degree = 2), param_grid = param_test, \n",
    "                    n_jobs=-1,cv=10)\n",
    "grid.fit(spam_train[:300], y_train[:300])\n",
    "# summarize results\n",
    "for mean,param in zip(grid.cv_results_['mean_test_score'],grid.cv_results_['params']):\n",
    "    print(\"%f with: \" % mean,param)\n",
    "print('best params',grid.best_params_)"
   ]
  },
  {
   "cell_type": "markdown",
   "metadata": {},
   "source": [
    "Select the best kernel and show the confusion table and class agreement of the selected model.  \n",
    "Linear kernel showed the best performance."
   ]
  },
  {
   "cell_type": "code",
   "execution_count": 8,
   "metadata": {
    "attributes": {
     "classes": [],
     "id": "",
     "r,echo": "conditionalEcho,eval=conditionalEcho"
    }
   },
   "outputs": [
    {
     "name": "stdout",
     "output_type": "stream",
     "text": [
      "accuracy 0.9973924380704041\n",
      "kappa 0.9945382040874458\n"
     ]
    },
    {
     "data": {
      "text/html": [
       "<div>\n",
       "<style scoped>\n",
       "    .dataframe tbody tr th:only-of-type {\n",
       "        vertical-align: middle;\n",
       "    }\n",
       "\n",
       "    .dataframe tbody tr th {\n",
       "        vertical-align: top;\n",
       "    }\n",
       "\n",
       "    .dataframe thead th {\n",
       "        text-align: right;\n",
       "    }\n",
       "</style>\n",
       "<table border=\"1\" class=\"dataframe\">\n",
       "  <thead>\n",
       "    <tr style=\"text-align: right;\">\n",
       "      <th></th>\n",
       "      <th>not spam</th>\n",
       "      <th>spam</th>\n",
       "    </tr>\n",
       "  </thead>\n",
       "  <tbody>\n",
       "    <tr>\n",
       "      <th>pred not spam</th>\n",
       "      <td>928</td>\n",
       "      <td>2</td>\n",
       "    </tr>\n",
       "    <tr>\n",
       "      <th>pred spam</th>\n",
       "      <td>2</td>\n",
       "      <td>602</td>\n",
       "    </tr>\n",
       "  </tbody>\n",
       "</table>\n",
       "</div>"
      ],
      "text/plain": [
       "               not spam  spam\n",
       "pred not spam       928     2\n",
       "pred spam             2   602"
      ]
     },
     "execution_count": 8,
     "metadata": {},
     "output_type": "execute_result"
    }
   ],
   "source": [
    "clf = SVC(C=bestC, gamma=bestGamma, kernel=bestKernel)\n",
    "clf.fit(spam_train, y_train)\n",
    "pred = clf.predict(spam_test)\n",
    "print('accuracy',accuracy_score(y_test,pred))\n",
    "print('kappa',cohen_kappa_score(y_test,pred))\n",
    "pd.DataFrame(confusion_matrix(y_test,pred),\n",
    "    columns=['not spam','spam'],index=['pred not spam','pred spam'])"
   ]
  }
 ],
 "metadata": {
  "kernelspec": {
   "display_name": "Python 3",
   "language": "python",
   "name": "python3"
  },
  "language_info": {
   "codemirror_mode": {
    "name": "ipython",
    "version": 3
   },
   "file_extension": ".py",
   "mimetype": "text/x-python",
   "name": "python",
   "nbconvert_exporter": "python",
   "pygments_lexer": "ipython3",
   "version": "3.8.13"
  }
 },
 "nbformat": 4,
 "nbformat_minor": 4
}
