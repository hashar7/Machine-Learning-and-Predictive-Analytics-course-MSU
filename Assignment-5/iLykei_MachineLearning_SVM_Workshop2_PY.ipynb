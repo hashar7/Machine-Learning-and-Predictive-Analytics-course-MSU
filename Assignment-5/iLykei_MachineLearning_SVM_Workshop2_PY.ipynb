{
 "cells": [
  {
   "cell_type": "markdown",
   "metadata": {},
   "source": [
    "# iLykei Lecture Series \n",
    "\n",
    "# Machine Learning\n",
    "\n",
    "# Support Vector Machines\n",
    "\n",
    "# Workshop 2\n",
    "\n",
    "## Y.Balasanov, L.Nazarov &copy; iLykei 2017-22\n"
   ]
  },
  {
   "cell_type": "markdown",
   "metadata": {},
   "source": [
    "This is Python version of Week 8 Workshop 2. Below is the list of packages used in the workshop."
   ]
  },
  {
   "cell_type": "code",
   "execution_count": 1,
   "metadata": {},
   "outputs": [],
   "source": [
    "%matplotlib inline\n",
    "import numpy as np\n",
    "import pandas as pd\n",
    "import matplotlib.pyplot as plt\n",
    "plt.style.use('ggplot')\n",
    "from sklearn.svm import SVC \n",
    "from sklearn.preprocessing import StandardScaler\n",
    "from sklearn.model_selection import cross_val_score,GridSearchCV,train_test_split\n",
    "from lightgbm import LGBMClassifier\n",
    "from sklearn.metrics import confusion_matrix, roc_auc_score, roc_curve\n",
    "from sklearn.metrics import cohen_kappa_score\n",
    "import string"
   ]
  },
  {
   "cell_type": "markdown",
   "metadata": {
    "attributes": {
     "classes": [],
     "id": "",
     "r,message": "F"
    }
   },
   "source": [
    "# Data\n",
    "**This project compares gradient boosting and SVM models on ISOLET data**.    \n"
   ]
  },
  {
   "cell_type": "code",
   "execution_count": 2,
   "metadata": {},
   "outputs": [
    {
     "name": "stdout",
     "output_type": "stream",
     "text": [
      "dTrain (6238, 619)\n",
      "dTest (1559, 619)\n",
      "d (7797, 619)\n",
      "d (599, 619)\n"
     ]
    },
    {
     "data": {
      "text/html": [
       "<div>\n",
       "<style scoped>\n",
       "    .dataframe tbody tr th:only-of-type {\n",
       "        vertical-align: middle;\n",
       "    }\n",
       "\n",
       "    .dataframe tbody tr th {\n",
       "        vertical-align: top;\n",
       "    }\n",
       "\n",
       "    .dataframe thead th {\n",
       "        text-align: right;\n",
       "    }\n",
       "</style>\n",
       "<table border=\"1\" class=\"dataframe\">\n",
       "  <thead>\n",
       "    <tr style=\"text-align: right;\">\n",
       "      <th></th>\n",
       "      <th>isLetter</th>\n",
       "    </tr>\n",
       "  </thead>\n",
       "  <tbody>\n",
       "    <tr>\n",
       "      <th>24</th>\n",
       "      <td>False</td>\n",
       "    </tr>\n",
       "    <tr>\n",
       "      <th>25</th>\n",
       "      <td>False</td>\n",
       "    </tr>\n",
       "    <tr>\n",
       "      <th>26</th>\n",
       "      <td>True</td>\n",
       "    </tr>\n",
       "    <tr>\n",
       "      <th>27</th>\n",
       "      <td>True</td>\n",
       "    </tr>\n",
       "    <tr>\n",
       "      <th>76</th>\n",
       "      <td>False</td>\n",
       "    </tr>\n",
       "  </tbody>\n",
       "</table>\n",
       "</div>"
      ],
      "text/plain": [
       "    isLetter\n",
       "24     False\n",
       "25     False\n",
       "26      True\n",
       "27      True\n",
       "76     False"
      ]
     },
     "execution_count": 2,
     "metadata": {},
     "output_type": "execute_result"
    }
   ],
   "source": [
    "# Actual example\n",
    "# isolet data from 'https://archive.ics.uci.edu/ml/datasets/ISOLET'\n",
    "dTrain = pd.read_csv('isolet1234.data.gz',header=None,prefix='V')\n",
    "dTrain['isTest'] = False # add column, identifying test\n",
    "print('dTrain',dTrain.shape)\n",
    "dTest = pd.read_csv('isolet5.data.gz',header=None,prefix='V')\n",
    "dTest['isTest'] = True # add column, identifying test\n",
    "print('dTest',dTest.shape)\n",
    "d = dTrain.append(dTest).rename({'V617':'target'}, axis='columns')\n",
    "print('d',d.shape)\n",
    "d['target'] = d.target.apply(lambda x: string.ascii_lowercase[int(x)-1])\n",
    "d = d[(d.target=='m') | (d.target=='n')]\n",
    "print('d',d.shape)\n",
    "yColumn = 'isLetter'\n",
    "d[yColumn] = d.target == 'n'\n",
    "d[[yColumn]].head()"
   ]
  },
  {
   "cell_type": "markdown",
   "metadata": {},
   "source": [
    "Normalize data."
   ]
  },
  {
   "cell_type": "code",
   "execution_count": 3,
   "metadata": {},
   "outputs": [],
   "source": [
    "scaler = StandardScaler()\n",
    "trainX = scaler.fit_transform(d[~d.isTest].drop(['isTest','isLetter','target'],\n",
    "                                                axis=1))\n",
    "testX = scaler.transform(d[d.isTest].drop(['isTest','isLetter','target'],axis=1))\n",
    "trainY = d.isLetter[~d.isTest].astype(int)\n",
    "testY = d.isLetter[d.isTest].astype(int)"
   ]
  },
  {
   "cell_type": "markdown",
   "metadata": {},
   "source": [
    "# SVM with radial kernel    \n",
    "\n",
    "SVM with radial kernel (*'rbf'*) model has 2 main parameters:    \n",
    "\n",
    "* Parameter $C$ is responsible for cost of misclassification in the \"soft margin\" version of SVM. In other words it controls the trade-off between bias and variance. A large C gives low bias and high variance by  penalizing more for misclasification. A small C allows higher bias and makes variance lower.    \n",
    "* Parameter $\\gamma$ defines smoothness of classification rule or how far the influence of a single observation goes. Low values of $\\gamma$ expands the radius of influence and small values decrease it.  \n",
    "\n",
    "Method *fit* of class *GridSearchCV* searches parameters on the grid *tuneGrid*.     \n",
    "Keep default value of parameter *gamma* and change parameter *C* as sequence 1, 2, 4, 8, 16. By default optimal classification model is selected by finding maximum of accuracy."
   ]
  },
  {
   "cell_type": "code",
   "execution_count": 4,
   "metadata": {},
   "outputs": [
    {
     "data": {
      "text/plain": [
       "GridSearchCV(cv=5, estimator=SVC(probability=True, random_state=0), n_jobs=-1,\n",
       "             param_grid={'C': array([ 1,  2,  4,  8, 16])})"
      ]
     },
     "execution_count": 4,
     "metadata": {},
     "output_type": "execute_result"
    }
   ],
   "source": [
    "clf = SVC(kernel='rbf',probability=True,random_state=0)\n",
    "# Parameters grid to search\n",
    "tuneGrid = {'C': 2**np.arange(5)}\n",
    "\n",
    "grid = GridSearchCV(estimator = clf, param_grid = tuneGrid, \n",
    "                    n_jobs=-1,cv=5)\n",
    "grid.fit(trainX,trainY)"
   ]
  },
  {
   "cell_type": "markdown",
   "metadata": {},
   "source": [
    "Print summary of the optimization results and plot them"
   ]
  },
  {
   "cell_type": "code",
   "execution_count": 5,
   "metadata": {},
   "outputs": [
    {
     "name": "stdout",
     "output_type": "stream",
     "text": [
      "0.931250 with:  {'C': 1}\n",
      "0.941667 with:  {'C': 2}\n",
      "0.939583 with:  {'C': 4}\n",
      "0.939583 with:  {'C': 8}\n",
      "0.939583 with:  {'C': 16}\n"
     ]
    },
    {
     "data": {
      "text/plain": [
       "<matplotlib.legend.Legend at 0x7fd8adad5a60>"
      ]
     },
     "execution_count": 5,
     "metadata": {},
     "output_type": "execute_result"
    },
    {
     "data": {
      "image/png": "[encoded data removed]",
      "text/plain": [
       "<Figure size 432x288 with 1 Axes>"
      ]
     },
     "metadata": {},
     "output_type": "display_data"
    }
   ],
   "source": [
    "# summarize results\n",
    "for mean,param in zip(grid.cv_results_['mean_test_score'],grid.cv_results_['params']):\n",
    "    print(\"%f with: \" % mean,param)\n",
    "plt.plot(tuneGrid['C'],grid.cv_results_['mean_test_score'])\n",
    "plt.legend(['Accuracy'])"
   ]
  },
  {
   "cell_type": "markdown",
   "metadata": {},
   "source": [
    "Method *predict* gives class prediction for a new sample. Predict with the best parameters."
   ]
  },
  {
   "cell_type": "code",
   "execution_count": 6,
   "metadata": {},
   "outputs": [],
   "source": [
    "clf.set_params(C=grid.best_params_['C'])\n",
    "clf.fit(trainX,trainY)\n",
    "svmPred = clf.predict(testX)"
   ]
  },
  {
   "cell_type": "markdown",
   "metadata": {},
   "source": [
    "Get confusion matrix of test data"
   ]
  },
  {
   "cell_type": "code",
   "execution_count": 7,
   "metadata": {},
   "outputs": [
    {
     "data": {
      "text/plain": [
       "array([[55,  4],\n",
       "       [ 9, 51]])"
      ]
     },
     "execution_count": 7,
     "metadata": {},
     "output_type": "execute_result"
    }
   ],
   "source": [
    "svm_conf = confusion_matrix(testY,svmPred)\n",
    "svm_conf"
   ]
  },
  {
   "cell_type": "markdown",
   "metadata": {},
   "source": [
    "Prediction probabilities of test data classes can be calculated as"
   ]
  },
  {
   "cell_type": "code",
   "execution_count": 8,
   "metadata": {},
   "outputs": [
    {
     "data": {
      "text/plain": [
       "array([[9.99946181e-01, 5.38185144e-05],\n",
       "       [9.99302950e-01, 6.97049756e-04],\n",
       "       [4.10720316e-06, 9.99995893e-01],\n",
       "       [1.50629661e-02, 9.84937034e-01],\n",
       "       [9.72515920e-01, 2.74840800e-02]])"
      ]
     },
     "execution_count": 8,
     "metadata": {},
     "output_type": "execute_result"
    }
   ],
   "source": [
    "probs = clf.predict_proba(testX)\n",
    "probs[:5]"
   ]
  },
  {
   "cell_type": "markdown",
   "metadata": {},
   "source": [
    "The second column contains positive class probabilities.  \n",
    "\n",
    "Plot the ROC curve and evaluate AUC (area under curve)."
   ]
  },
  {
   "cell_type": "code",
   "execution_count": 9,
   "metadata": {},
   "outputs": [
    {
     "name": "stdout",
     "output_type": "stream",
     "text": [
      "ROC AUC = 0.9683615819209039\n"
     ]
    },
    {
     "data": {
      "image/png": "[encoded data removed]",
      "text/plain": [
       "<Figure size 432x288 with 1 Axes>"
      ]
     },
     "metadata": {},
     "output_type": "display_data"
    }
   ],
   "source": [
    "fpr, tpr, thresholds = roc_curve(testY, probs[:,1])\n",
    "plt.plot(fpr, tpr)\n",
    "plt.plot([0, 1], [0, 1], color='navy', linestyle='--')\n",
    "plt.xlabel('False Positive Rate')\n",
    "plt.ylabel('True Positive Rate')\n",
    "plt.title('Receiver operating characteristic example')\n",
    "print('ROC AUC =',roc_auc_score(testY, probs[:,1]))"
   ]
  },
  {
   "cell_type": "markdown",
   "metadata": {},
   "source": [
    "# Gradient boosting    \n",
    "\n",
    "Now use *GridSearchCV* for tuning parameters of Gradient Boosting classifier and compare results with SVM."
   ]
  },
  {
   "cell_type": "code",
   "execution_count": 10,
   "metadata": {
    "scrolled": true
   },
   "outputs": [
    {
     "name": "stdout",
     "output_type": "stream",
     "text": [
      "0.920833 with:  {'n_estimators': 50}\n",
      "0.929167 with:  {'n_estimators': 100}\n",
      "0.933333 with:  {'n_estimators': 150}\n",
      "0.931250 with:  {'n_estimators': 200}\n"
     ]
    },
    {
     "data": {
      "text/plain": [
       "array([[54,  5],\n",
       "       [ 5, 55]])"
      ]
     },
     "execution_count": 10,
     "metadata": {},
     "output_type": "execute_result"
    }
   ],
   "source": [
    "gbm = LGBMClassifier(max_depth=2,num_leaves=15, min_child_samples=2)\n",
    "gbmGrid = {'n_estimators':[50,100, 150, 200]}\n",
    "\n",
    "grid = GridSearchCV(estimator=gbm, param_grid=gbmGrid, n_jobs=-1,cv=5)\n",
    "grid.fit(trainX,trainY)\n",
    "\n",
    "# summarize results\n",
    "for mean,param in zip(grid.cv_results_['mean_test_score'],grid.cv_results_['params']):\n",
    "    print(\"%f with: \" % mean,param)\n",
    "gbm.set_params(n_estimators=grid.best_params_['n_estimators'])\n",
    "gbm.fit(trainX,trainY)\n",
    "gbmPred = gbm.predict(testX)\n",
    "gbmProb = gbm.predict_proba(testX)\n",
    "lgb_conf = confusion_matrix(testY,gbmPred)\n",
    "lgb_conf"
   ]
  },
  {
   "cell_type": "markdown",
   "metadata": {},
   "source": [
    "# Comparison   \n",
    "\n",
    "Collect results for both models and compare them."
   ]
  },
  {
   "cell_type": "code",
   "execution_count": 11,
   "metadata": {},
   "outputs": [
    {
     "data": {
      "text/html": [
       "<div>\n",
       "<style scoped>\n",
       "    .dataframe tbody tr th:only-of-type {\n",
       "        vertical-align: middle;\n",
       "    }\n",
       "\n",
       "    .dataframe tbody tr th {\n",
       "        vertical-align: top;\n",
       "    }\n",
       "\n",
       "    .dataframe thead th {\n",
       "        text-align: right;\n",
       "    }\n",
       "</style>\n",
       "<table border=\"1\" class=\"dataframe\">\n",
       "  <thead>\n",
       "    <tr style=\"text-align: right;\">\n",
       "      <th></th>\n",
       "      <th>Accuracy</th>\n",
       "      <th>ROC AUC</th>\n",
       "      <th>kappa</th>\n",
       "    </tr>\n",
       "  </thead>\n",
       "  <tbody>\n",
       "    <tr>\n",
       "      <th>SVM</th>\n",
       "      <td>0.890756</td>\n",
       "      <td>0.968362</td>\n",
       "      <td>0.781651</td>\n",
       "    </tr>\n",
       "    <tr>\n",
       "      <th>LightGBM</th>\n",
       "      <td>0.915966</td>\n",
       "      <td>0.969774</td>\n",
       "      <td>0.831921</td>\n",
       "    </tr>\n",
       "  </tbody>\n",
       "</table>\n",
       "</div>"
      ],
      "text/plain": [
       "          Accuracy   ROC AUC     kappa\n",
       "SVM       0.890756  0.968362  0.781651\n",
       "LightGBM  0.915966  0.969774  0.831921"
      ]
     },
     "execution_count": 11,
     "metadata": {},
     "output_type": "execute_result"
    }
   ],
   "source": [
    "pd.DataFrame({'Accuracy':[np.trace(svm_conf)/np.sum(svm_conf),\n",
    "                          np.trace(lgb_conf)/np.sum(lgb_conf)],\n",
    "              'ROC AUC':[roc_auc_score(testY, probs[:,1]),\n",
    "                         roc_auc_score(testY, gbmProb[:,1])],\n",
    "              'kappa':[cohen_kappa_score(testY, svmPred),\n",
    "                         cohen_kappa_score(testY, gbmPred)]},\n",
    "             index = ['SVM','LightGBM'])"
   ]
  }
 ],
 "metadata": {
  "kernelspec": {
   "display_name": "Python 3",
   "language": "python",
   "name": "python3"
  },
  "language_info": {
   "codemirror_mode": {
    "name": "ipython",
    "version": 3
   },
   "file_extension": ".py",
   "mimetype": "text/x-python",
   "name": "python",
   "nbconvert_exporter": "python",
   "pygments_lexer": "ipython3",
   "version": "3.8.13"
  }
 },
 "nbformat": 4,
 "nbformat_minor": 4
}
